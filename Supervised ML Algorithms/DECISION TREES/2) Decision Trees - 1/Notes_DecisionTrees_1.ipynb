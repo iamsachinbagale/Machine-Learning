{
 "cells": [
  {
   "cell_type": "markdown",
   "metadata": {
    "id": "GQIsV22uLa9T"
   },
   "source": [
    "## Content\n",
    "\n",
    "\n",
    "\n",
    "- Decision Tree Intuition\n",
    "    - Geometric Intuition\n",
    "\n",
    "- Entropy\n",
    "    - Measuring purity\n",
    "    - Plot for entropy\n",
    "    - Relating entropy with purity\n",
    "\n",
    "\n",
    "\n"
   ]
  },
  {
   "cell_type": "markdown",
   "metadata": {
    "id": "MVGRgX3_XFsu"
   },
   "source": [
    "## UseCase Intro: Employee Attrition"
   ]
  },
  {
   "cell_type": "markdown",
   "metadata": {
    "id": "Kx6jPgUwVQg3"
   },
   "source": [
    "#### You are a Data Scientist working at a Jio\n",
    "\n",
    "The company is facing a huge problem of employee attrition\n",
    "\n",
    "\n",
    "#### Why is this a problem? \n",
    "\n",
    "Employee Attriton has always been a major problem for companies.\n",
    "- The cost of replacing an employee has always been significant due to the fact that most times:\n",
    "- The company will have to pay the new employee more than the employee they are replacing\n",
    "- Lots of time and resources invested in interviewing multiple candidates\n",
    "\n",
    "\n",
    "#### What's the task at hand? \n",
    "Your task is to :\n",
    "- Identify the likelihood of an active employee leaving the company.\n",
    "\n",
    "This can help the company take more targeted approaches to retain the specific employees at risk of attrition\n",
    "\n",
    "- Help identify the key indicators/factors leading to an employee leaving.\n",
    "\n",
    "This will help the company take more proactive measures in retaining current and future employees to reduce employee dissatisfaction\n",
    "\n",
    "- Find out the policies or strategies can be adopted based on the results to improve employee retention?\n"
   ]
  },
  {
   "cell_type": "markdown",
   "metadata": {
    "id": "iZzBPOxju7G3"
   },
   "source": [
    "#### Importing libraries"
   ]
  },
  {
   "cell_type": "code",
   "execution_count": null,
   "metadata": {
    "id": "WLEr_32hutd0"
   },
   "outputs": [],
   "source": [
    "import numpy as np\n",
    "import pandas as pd\n",
    "import matplotlib.pyplot as plt\n",
    "import io"
   ]
  },
  {
   "cell_type": "markdown",
   "metadata": {
    "id": "Gy621ZV-lYPX"
   },
   "source": [
    "Preprocessed Data"
   ]
  },
  {
   "cell_type": "code",
   "execution_count": null,
   "metadata": {
    "colab": {
     "base_uri": "https://localhost:8080/"
    },
    "id": "LquFHX1klR2g",
    "outputId": "35688c4b-dbf7-4c7b-f1a1-f4ede0beb673"
   },
   "outputs": [
    {
     "name": "stdout",
     "output_type": "stream",
     "text": [
      "Downloading...\n",
      "From: https://drive.google.com/uc?id=12G_J8gBel8MpspdXJruZuuMvyrm9upNb\n",
      "To: /content/X_test.csv\n",
      "100% 51.7k/51.7k [00:00<00:00, 52.0MB/s]\n",
      "Downloading...\n",
      "From: https://drive.google.com/uc?id=1-zjfYbZm8JC4wog9tG4zltMPuZM6p9_A\n",
      "To: /content/X_train.csv\n",
      "100% 154k/154k [00:00<00:00, 73.9MB/s]\n",
      "Downloading...\n",
      "From: https://drive.google.com/uc?id=1p03Ltdto8XoOdu14YlcQjzE-360SyI89\n",
      "To: /content/y_test.csv\n",
      "100% 743/743 [00:00<00:00, 898kB/s]\n",
      "Downloading...\n",
      "From: https://drive.google.com/uc?id=1mNcWfaEW19ql8WCih6HiqRryCcjFUUqx\n",
      "To: /content/y_train.csv\n",
      "100% 2.21k/2.21k [00:00<00:00, 2.24MB/s]\n"
     ]
    }
   ],
   "source": [
    "!gdown 12G_J8gBel8MpspdXJruZuuMvyrm9upNb\n",
    "!gdown 1-zjfYbZm8JC4wog9tG4zltMPuZM6p9_A\n",
    "\n",
    "\n",
    "!gdown 1p03Ltdto8XoOdu14YlcQjzE-360SyI89\n",
    "!gdown 1mNcWfaEW19ql8WCih6HiqRryCcjFUUqx\n"
   ]
  },
  {
   "cell_type": "code",
   "execution_count": null,
   "metadata": {
    "id": "GzL8l4XgnHFb"
   },
   "outputs": [],
   "source": [
    "X_train = pd.read_csv('X_train.csv')\n",
    "X_test = pd.read_csv('X_test.csv')\n",
    "y_train = pd.read_csv('y_train.csv')\n",
    "y_test = pd.read_csv('y_test.csv')"
   ]
  },
  {
   "cell_type": "code",
   "execution_count": null,
   "metadata": {
    "colab": {
     "base_uri": "https://localhost:8080/"
    },
    "id": "ofi_wcARy5qy",
    "outputId": "c9b3b307-d903-4bfc-82be-f2f77d0ad6b1"
   },
   "outputs": [
    {
     "name": "stdout",
     "output_type": "stream",
     "text": [
      "Resampled dataset shape Counter({'Target': 1})\n"
     ]
    }
   ],
   "source": [
    "from imblearn.over_sampling import SMOTE\n",
    "from collections import Counter\n",
    "\n",
    "smt = SMOTE()\n",
    "X_sm, y_sm = smt.fit_resample(X_train, y_train)\n",
    "\n",
    "print('Resampled dataset shape {}'.format(Counter(y_sm)))"
   ]
  },
  {
   "cell_type": "code",
   "execution_count": null,
   "metadata": {
    "colab": {
     "base_uri": "https://localhost:8080/"
    },
    "id": "Oy1of3kAiEwj",
    "outputId": "36a684b4-3bf2-462d-ab40-cf8508f86151"
   },
   "outputs": [
    {
     "data": {
      "text/plain": [
       "(1848, 36)"
      ]
     },
     "execution_count": 17,
     "metadata": {},
     "output_type": "execute_result"
    }
   ],
   "source": [
    "X_sm.shape"
   ]
  },
  {
   "cell_type": "code",
   "execution_count": null,
   "metadata": {
    "colab": {
     "base_uri": "https://localhost:8080/",
     "height": 505
    },
    "id": "eqL55xKqwBsm",
    "outputId": "cc52d511-e5d0-4673-e8d9-a798f41f7fdc"
   },
   "outputs": [
    {
     "data": {
      "text/html": [
       "\n",
       "  <div id=\"df-404af637-d659-49d4-9bd1-53cee5f81ee2\">\n",
       "    <div class=\"colab-df-container\">\n",
       "      <div>\n",
       "<style scoped>\n",
       "    .dataframe tbody tr th:only-of-type {\n",
       "        vertical-align: middle;\n",
       "    }\n",
       "\n",
       "    .dataframe tbody tr th {\n",
       "        vertical-align: top;\n",
       "    }\n",
       "\n",
       "    .dataframe thead th {\n",
       "        text-align: right;\n",
       "    }\n",
       "</style>\n",
       "<table border=\"1\" class=\"dataframe\">\n",
       "  <thead>\n",
       "    <tr style=\"text-align: right;\">\n",
       "      <th></th>\n",
       "      <th>Age</th>\n",
       "      <th>DailyRate</th>\n",
       "      <th>DistanceFromHome</th>\n",
       "      <th>Education</th>\n",
       "      <th>EducationField</th>\n",
       "      <th>EnvironmentSatisfaction</th>\n",
       "      <th>Gender</th>\n",
       "      <th>HourlyRate</th>\n",
       "      <th>JobInvolvement</th>\n",
       "      <th>JobLevel</th>\n",
       "      <th>...</th>\n",
       "      <th>YearsWithCurrManager</th>\n",
       "      <th>BusinessTravel_Non-Travel</th>\n",
       "      <th>BusinessTravel_Travel_Frequently</th>\n",
       "      <th>BusinessTravel_Travel_Rarely</th>\n",
       "      <th>Department_Human Resources</th>\n",
       "      <th>Department_Research &amp; Development</th>\n",
       "      <th>Department_Sales</th>\n",
       "      <th>MaritalStatus_Divorced</th>\n",
       "      <th>MaritalStatus_Married</th>\n",
       "      <th>MaritalStatus_Single</th>\n",
       "    </tr>\n",
       "  </thead>\n",
       "  <tbody>\n",
       "    <tr>\n",
       "      <th>0</th>\n",
       "      <td>36</td>\n",
       "      <td>1174</td>\n",
       "      <td>3</td>\n",
       "      <td>4</td>\n",
       "      <td>0.233871</td>\n",
       "      <td>1</td>\n",
       "      <td>0</td>\n",
       "      <td>99</td>\n",
       "      <td>3</td>\n",
       "      <td>2</td>\n",
       "      <td>...</td>\n",
       "      <td>1</td>\n",
       "      <td>0.000000</td>\n",
       "      <td>0.000000</td>\n",
       "      <td>1.000000</td>\n",
       "      <td>0.0</td>\n",
       "      <td>0.000000</td>\n",
       "      <td>1.000000</td>\n",
       "      <td>0.000000</td>\n",
       "      <td>0.0</td>\n",
       "      <td>1.000000</td>\n",
       "    </tr>\n",
       "    <tr>\n",
       "      <th>1</th>\n",
       "      <td>21</td>\n",
       "      <td>546</td>\n",
       "      <td>5</td>\n",
       "      <td>1</td>\n",
       "      <td>0.127479</td>\n",
       "      <td>3</td>\n",
       "      <td>1</td>\n",
       "      <td>97</td>\n",
       "      <td>3</td>\n",
       "      <td>1</td>\n",
       "      <td>...</td>\n",
       "      <td>2</td>\n",
       "      <td>0.000000</td>\n",
       "      <td>0.000000</td>\n",
       "      <td>1.000000</td>\n",
       "      <td>0.0</td>\n",
       "      <td>1.000000</td>\n",
       "      <td>0.000000</td>\n",
       "      <td>0.000000</td>\n",
       "      <td>0.0</td>\n",
       "      <td>1.000000</td>\n",
       "    </tr>\n",
       "    <tr>\n",
       "      <th>2</th>\n",
       "      <td>43</td>\n",
       "      <td>422</td>\n",
       "      <td>1</td>\n",
       "      <td>3</td>\n",
       "      <td>0.151584</td>\n",
       "      <td>4</td>\n",
       "      <td>0</td>\n",
       "      <td>33</td>\n",
       "      <td>3</td>\n",
       "      <td>2</td>\n",
       "      <td>...</td>\n",
       "      <td>2</td>\n",
       "      <td>0.000000</td>\n",
       "      <td>1.000000</td>\n",
       "      <td>0.000000</td>\n",
       "      <td>0.0</td>\n",
       "      <td>1.000000</td>\n",
       "      <td>0.000000</td>\n",
       "      <td>0.000000</td>\n",
       "      <td>1.0</td>\n",
       "      <td>0.000000</td>\n",
       "    </tr>\n",
       "    <tr>\n",
       "      <th>3</th>\n",
       "      <td>42</td>\n",
       "      <td>188</td>\n",
       "      <td>29</td>\n",
       "      <td>3</td>\n",
       "      <td>0.127479</td>\n",
       "      <td>2</td>\n",
       "      <td>1</td>\n",
       "      <td>56</td>\n",
       "      <td>1</td>\n",
       "      <td>2</td>\n",
       "      <td>...</td>\n",
       "      <td>0</td>\n",
       "      <td>0.000000</td>\n",
       "      <td>0.000000</td>\n",
       "      <td>1.000000</td>\n",
       "      <td>0.0</td>\n",
       "      <td>1.000000</td>\n",
       "      <td>0.000000</td>\n",
       "      <td>0.000000</td>\n",
       "      <td>0.0</td>\n",
       "      <td>1.000000</td>\n",
       "    </tr>\n",
       "    <tr>\n",
       "      <th>4</th>\n",
       "      <td>35</td>\n",
       "      <td>992</td>\n",
       "      <td>1</td>\n",
       "      <td>3</td>\n",
       "      <td>0.127479</td>\n",
       "      <td>4</td>\n",
       "      <td>1</td>\n",
       "      <td>68</td>\n",
       "      <td>2</td>\n",
       "      <td>1</td>\n",
       "      <td>...</td>\n",
       "      <td>2</td>\n",
       "      <td>0.000000</td>\n",
       "      <td>0.000000</td>\n",
       "      <td>1.000000</td>\n",
       "      <td>0.0</td>\n",
       "      <td>1.000000</td>\n",
       "      <td>0.000000</td>\n",
       "      <td>0.000000</td>\n",
       "      <td>0.0</td>\n",
       "      <td>1.000000</td>\n",
       "    </tr>\n",
       "    <tr>\n",
       "      <th>...</th>\n",
       "      <td>...</td>\n",
       "      <td>...</td>\n",
       "      <td>...</td>\n",
       "      <td>...</td>\n",
       "      <td>...</td>\n",
       "      <td>...</td>\n",
       "      <td>...</td>\n",
       "      <td>...</td>\n",
       "      <td>...</td>\n",
       "      <td>...</td>\n",
       "      <td>...</td>\n",
       "      <td>...</td>\n",
       "      <td>...</td>\n",
       "      <td>...</td>\n",
       "      <td>...</td>\n",
       "      <td>...</td>\n",
       "      <td>...</td>\n",
       "      <td>...</td>\n",
       "      <td>...</td>\n",
       "      <td>...</td>\n",
       "      <td>...</td>\n",
       "    </tr>\n",
       "    <tr>\n",
       "      <th>1843</th>\n",
       "      <td>20</td>\n",
       "      <td>872</td>\n",
       "      <td>5</td>\n",
       "      <td>2</td>\n",
       "      <td>0.151584</td>\n",
       "      <td>3</td>\n",
       "      <td>0</td>\n",
       "      <td>66</td>\n",
       "      <td>2</td>\n",
       "      <td>1</td>\n",
       "      <td>...</td>\n",
       "      <td>0</td>\n",
       "      <td>0.033133</td>\n",
       "      <td>0.966867</td>\n",
       "      <td>0.000000</td>\n",
       "      <td>0.0</td>\n",
       "      <td>1.000000</td>\n",
       "      <td>0.000000</td>\n",
       "      <td>0.033133</td>\n",
       "      <td>0.0</td>\n",
       "      <td>0.966867</td>\n",
       "    </tr>\n",
       "    <tr>\n",
       "      <th>1844</th>\n",
       "      <td>38</td>\n",
       "      <td>881</td>\n",
       "      <td>8</td>\n",
       "      <td>4</td>\n",
       "      <td>0.151584</td>\n",
       "      <td>1</td>\n",
       "      <td>0</td>\n",
       "      <td>65</td>\n",
       "      <td>1</td>\n",
       "      <td>1</td>\n",
       "      <td>...</td>\n",
       "      <td>0</td>\n",
       "      <td>0.000000</td>\n",
       "      <td>0.000000</td>\n",
       "      <td>1.000000</td>\n",
       "      <td>0.0</td>\n",
       "      <td>1.000000</td>\n",
       "      <td>0.000000</td>\n",
       "      <td>0.714417</td>\n",
       "      <td>0.0</td>\n",
       "      <td>0.285583</td>\n",
       "    </tr>\n",
       "    <tr>\n",
       "      <th>1845</th>\n",
       "      <td>40</td>\n",
       "      <td>924</td>\n",
       "      <td>13</td>\n",
       "      <td>3</td>\n",
       "      <td>0.181699</td>\n",
       "      <td>3</td>\n",
       "      <td>0</td>\n",
       "      <td>80</td>\n",
       "      <td>3</td>\n",
       "      <td>1</td>\n",
       "      <td>...</td>\n",
       "      <td>0</td>\n",
       "      <td>0.000000</td>\n",
       "      <td>0.000000</td>\n",
       "      <td>1.000000</td>\n",
       "      <td>0.0</td>\n",
       "      <td>0.634018</td>\n",
       "      <td>0.365982</td>\n",
       "      <td>0.000000</td>\n",
       "      <td>0.0</td>\n",
       "      <td>1.000000</td>\n",
       "    </tr>\n",
       "    <tr>\n",
       "      <th>1846</th>\n",
       "      <td>35</td>\n",
       "      <td>691</td>\n",
       "      <td>5</td>\n",
       "      <td>2</td>\n",
       "      <td>0.140755</td>\n",
       "      <td>3</td>\n",
       "      <td>0</td>\n",
       "      <td>95</td>\n",
       "      <td>2</td>\n",
       "      <td>1</td>\n",
       "      <td>...</td>\n",
       "      <td>1</td>\n",
       "      <td>0.000000</td>\n",
       "      <td>0.449251</td>\n",
       "      <td>0.550749</td>\n",
       "      <td>0.0</td>\n",
       "      <td>1.000000</td>\n",
       "      <td>0.000000</td>\n",
       "      <td>0.449251</td>\n",
       "      <td>0.0</td>\n",
       "      <td>0.550749</td>\n",
       "    </tr>\n",
       "    <tr>\n",
       "      <th>1847</th>\n",
       "      <td>33</td>\n",
       "      <td>1277</td>\n",
       "      <td>17</td>\n",
       "      <td>2</td>\n",
       "      <td>0.204367</td>\n",
       "      <td>1</td>\n",
       "      <td>0</td>\n",
       "      <td>68</td>\n",
       "      <td>2</td>\n",
       "      <td>1</td>\n",
       "      <td>...</td>\n",
       "      <td>5</td>\n",
       "      <td>0.641448</td>\n",
       "      <td>0.358552</td>\n",
       "      <td>0.000000</td>\n",
       "      <td>0.0</td>\n",
       "      <td>0.358552</td>\n",
       "      <td>0.641448</td>\n",
       "      <td>0.000000</td>\n",
       "      <td>0.0</td>\n",
       "      <td>1.000000</td>\n",
       "    </tr>\n",
       "  </tbody>\n",
       "</table>\n",
       "<p>1848 rows × 36 columns</p>\n",
       "</div>\n",
       "      <button class=\"colab-df-convert\" onclick=\"convertToInteractive('df-404af637-d659-49d4-9bd1-53cee5f81ee2')\"\n",
       "              title=\"Convert this dataframe to an interactive table.\"\n",
       "              style=\"display:none;\">\n",
       "        \n",
       "  <svg xmlns=\"http://www.w3.org/2000/svg\" height=\"24px\"viewBox=\"0 0 24 24\"\n",
       "       width=\"24px\">\n",
       "    <path d=\"M0 0h24v24H0V0z\" fill=\"none\"/>\n",
       "    <path d=\"M18.56 5.44l.94 2.06.94-2.06 2.06-.94-2.06-.94-.94-2.06-.94 2.06-2.06.94zm-11 1L8.5 8.5l.94-2.06 2.06-.94-2.06-.94L8.5 2.5l-.94 2.06-2.06.94zm10 10l.94 2.06.94-2.06 2.06-.94-2.06-.94-.94-2.06-.94 2.06-2.06.94z\"/><path d=\"M17.41 7.96l-1.37-1.37c-.4-.4-.92-.59-1.43-.59-.52 0-1.04.2-1.43.59L10.3 9.45l-7.72 7.72c-.78.78-.78 2.05 0 2.83L4 21.41c.39.39.9.59 1.41.59.51 0 1.02-.2 1.41-.59l7.78-7.78 2.81-2.81c.8-.78.8-2.07 0-2.86zM5.41 20L4 18.59l7.72-7.72 1.47 1.35L5.41 20z\"/>\n",
       "  </svg>\n",
       "      </button>\n",
       "      \n",
       "  <style>\n",
       "    .colab-df-container {\n",
       "      display:flex;\n",
       "      flex-wrap:wrap;\n",
       "      gap: 12px;\n",
       "    }\n",
       "\n",
       "    .colab-df-convert {\n",
       "      background-color: #E8F0FE;\n",
       "      border: none;\n",
       "      border-radius: 50%;\n",
       "      cursor: pointer;\n",
       "      display: none;\n",
       "      fill: #1967D2;\n",
       "      height: 32px;\n",
       "      padding: 0 0 0 0;\n",
       "      width: 32px;\n",
       "    }\n",
       "\n",
       "    .colab-df-convert:hover {\n",
       "      background-color: #E2EBFA;\n",
       "      box-shadow: 0px 1px 2px rgba(60, 64, 67, 0.3), 0px 1px 3px 1px rgba(60, 64, 67, 0.15);\n",
       "      fill: #174EA6;\n",
       "    }\n",
       "\n",
       "    [theme=dark] .colab-df-convert {\n",
       "      background-color: #3B4455;\n",
       "      fill: #D2E3FC;\n",
       "    }\n",
       "\n",
       "    [theme=dark] .colab-df-convert:hover {\n",
       "      background-color: #434B5C;\n",
       "      box-shadow: 0px 1px 3px 1px rgba(0, 0, 0, 0.15);\n",
       "      filter: drop-shadow(0px 1px 2px rgba(0, 0, 0, 0.3));\n",
       "      fill: #FFFFFF;\n",
       "    }\n",
       "  </style>\n",
       "\n",
       "      <script>\n",
       "        const buttonEl =\n",
       "          document.querySelector('#df-404af637-d659-49d4-9bd1-53cee5f81ee2 button.colab-df-convert');\n",
       "        buttonEl.style.display =\n",
       "          google.colab.kernel.accessAllowed ? 'block' : 'none';\n",
       "\n",
       "        async function convertToInteractive(key) {\n",
       "          const element = document.querySelector('#df-404af637-d659-49d4-9bd1-53cee5f81ee2');\n",
       "          const dataTable =\n",
       "            await google.colab.kernel.invokeFunction('convertToInteractive',\n",
       "                                                     [key], {});\n",
       "          if (!dataTable) return;\n",
       "\n",
       "          const docLinkHtml = 'Like what you see? Visit the ' +\n",
       "            '<a target=\"_blank\" href=https://colab.research.google.com/notebooks/data_table.ipynb>data table notebook</a>'\n",
       "            + ' to learn more about interactive tables.';\n",
       "          element.innerHTML = '';\n",
       "          dataTable['output_type'] = 'display_data';\n",
       "          await google.colab.output.renderOutput(dataTable, element);\n",
       "          const docLink = document.createElement('div');\n",
       "          docLink.innerHTML = docLinkHtml;\n",
       "          element.appendChild(docLink);\n",
       "        }\n",
       "      </script>\n",
       "    </div>\n",
       "  </div>\n",
       "  "
      ],
      "text/plain": [
       "      Age  DailyRate  DistanceFromHome  Education  EducationField  \\\n",
       "0      36       1174                 3          4        0.233871   \n",
       "1      21        546                 5          1        0.127479   \n",
       "2      43        422                 1          3        0.151584   \n",
       "3      42        188                29          3        0.127479   \n",
       "4      35        992                 1          3        0.127479   \n",
       "...   ...        ...               ...        ...             ...   \n",
       "1843   20        872                 5          2        0.151584   \n",
       "1844   38        881                 8          4        0.151584   \n",
       "1845   40        924                13          3        0.181699   \n",
       "1846   35        691                 5          2        0.140755   \n",
       "1847   33       1277                17          2        0.204367   \n",
       "\n",
       "      EnvironmentSatisfaction  Gender  HourlyRate  JobInvolvement  JobLevel  \\\n",
       "0                           1       0          99               3         2   \n",
       "1                           3       1          97               3         1   \n",
       "2                           4       0          33               3         2   \n",
       "3                           2       1          56               1         2   \n",
       "4                           4       1          68               2         1   \n",
       "...                       ...     ...         ...             ...       ...   \n",
       "1843                        3       0          66               2         1   \n",
       "1844                        1       0          65               1         1   \n",
       "1845                        3       0          80               3         1   \n",
       "1846                        3       0          95               2         1   \n",
       "1847                        1       0          68               2         1   \n",
       "\n",
       "      ...  YearsWithCurrManager  BusinessTravel_Non-Travel  \\\n",
       "0     ...                     1                   0.000000   \n",
       "1     ...                     2                   0.000000   \n",
       "2     ...                     2                   0.000000   \n",
       "3     ...                     0                   0.000000   \n",
       "4     ...                     2                   0.000000   \n",
       "...   ...                   ...                        ...   \n",
       "1843  ...                     0                   0.033133   \n",
       "1844  ...                     0                   0.000000   \n",
       "1845  ...                     0                   0.000000   \n",
       "1846  ...                     1                   0.000000   \n",
       "1847  ...                     5                   0.641448   \n",
       "\n",
       "      BusinessTravel_Travel_Frequently  BusinessTravel_Travel_Rarely  \\\n",
       "0                             0.000000                      1.000000   \n",
       "1                             0.000000                      1.000000   \n",
       "2                             1.000000                      0.000000   \n",
       "3                             0.000000                      1.000000   \n",
       "4                             0.000000                      1.000000   \n",
       "...                                ...                           ...   \n",
       "1843                          0.966867                      0.000000   \n",
       "1844                          0.000000                      1.000000   \n",
       "1845                          0.000000                      1.000000   \n",
       "1846                          0.449251                      0.550749   \n",
       "1847                          0.358552                      0.000000   \n",
       "\n",
       "      Department_Human Resources  Department_Research & Development  \\\n",
       "0                            0.0                           0.000000   \n",
       "1                            0.0                           1.000000   \n",
       "2                            0.0                           1.000000   \n",
       "3                            0.0                           1.000000   \n",
       "4                            0.0                           1.000000   \n",
       "...                          ...                                ...   \n",
       "1843                         0.0                           1.000000   \n",
       "1844                         0.0                           1.000000   \n",
       "1845                         0.0                           0.634018   \n",
       "1846                         0.0                           1.000000   \n",
       "1847                         0.0                           0.358552   \n",
       "\n",
       "      Department_Sales  MaritalStatus_Divorced  MaritalStatus_Married  \\\n",
       "0             1.000000                0.000000                    0.0   \n",
       "1             0.000000                0.000000                    0.0   \n",
       "2             0.000000                0.000000                    1.0   \n",
       "3             0.000000                0.000000                    0.0   \n",
       "4             0.000000                0.000000                    0.0   \n",
       "...                ...                     ...                    ...   \n",
       "1843          0.000000                0.033133                    0.0   \n",
       "1844          0.000000                0.714417                    0.0   \n",
       "1845          0.365982                0.000000                    0.0   \n",
       "1846          0.000000                0.449251                    0.0   \n",
       "1847          0.641448                0.000000                    0.0   \n",
       "\n",
       "      MaritalStatus_Single  \n",
       "0                 1.000000  \n",
       "1                 1.000000  \n",
       "2                 0.000000  \n",
       "3                 1.000000  \n",
       "4                 1.000000  \n",
       "...                    ...  \n",
       "1843              0.966867  \n",
       "1844              0.285583  \n",
       "1845              1.000000  \n",
       "1846              0.550749  \n",
       "1847              1.000000  \n",
       "\n",
       "[1848 rows x 36 columns]"
      ]
     },
     "execution_count": 18,
     "metadata": {},
     "output_type": "execute_result"
    }
   ],
   "source": [
    "X_sm"
   ]
  },
  {
   "cell_type": "markdown",
   "metadata": {
    "id": "1nkLygKJiP96"
   },
   "source": [
    "# **DT intuition**"
   ]
  },
  {
   "cell_type": "markdown",
   "metadata": {
    "id": "n8fq_YuzsXaR"
   },
   "source": [
    "\n",
    "\n",
    "\n",
    "Say, you've two features:\n",
    "- Age\n",
    "- Overtime hours\n",
    "\n",
    "When we plot data for these two features, we see non linearity.\n",
    "\n",
    "\n",
    "\n"
   ]
  },
  {
   "cell_type": "markdown",
   "metadata": {
    "id": "RT5wlj1UbTGp"
   },
   "source": [
    "#### Question: Which model technique will work well on non linear?\n",
    "\n",
    "- Knn? Yes. Knn is instance based method meaning it'll look at the instances in its neighbourhood and make decision.\n",
    "\n",
    "- Logistic Regression? \n",
    "    - We have non linear data and logistic regression won't work on it.\n",
    "\n",
    "#### Can we make Logistic Regression in this case?\n",
    "Yes. By introducing polynomial features.\n",
    "\n"
   ]
  },
  {
   "cell_type": "markdown",
   "metadata": {
    "id": "6FbhtcuvhXGc"
   },
   "source": [
    "<img src='https://drive.google.com/uc?id=1J2LRJK_LNRBnlj2JdrbSW-2L2t9DCLEu'>\n"
   ]
  },
  {
   "cell_type": "markdown",
   "metadata": {
    "id": "Y0OnhQTssWMc"
   },
   "source": [
    "All these models are good and everything.\n",
    "\n",
    "####  Can we classify the data using simple if else condtions? \n",
    "```\n",
    "If age < 29:\n",
    "    If overtime < 2.5hrs:\n",
    "        Employee will stay\n",
    "    else:\n",
    "        Employee will churn\n",
    "\n",
    "else:\n",
    "    if age < 35:\n",
    "        Employee will stay\n",
    "    else: \n",
    "        Employee will churn\n",
    "```\n",
    "\n",
    "Let's represent these if else conditions diagramatically:"
   ]
  },
  {
   "cell_type": "markdown",
   "metadata": {
    "id": "4kBVDzMXsVsR"
   },
   "source": [
    "<img src='https://drive.google.com/uc?id=1jgM2pyMkfRcWhuHk9gr_np45OW_24SO6'>\n"
   ]
  },
  {
   "cell_type": "markdown",
   "metadata": {
    "id": "xx4DQbp0sVSY"
   },
   "source": [
    "**Did you notice something ?**\n",
    "\n",
    "The structure resembles a tree. \n",
    "- topmost node/vertex is called root node\n",
    "- bottom node is called leaf node.\n",
    "- nodes in between these two are called internal/ decision nodes.\n",
    "\n",
    "This tree is nothing but **Decision Tree** in ML. \n",
    "\n",
    "A decision tree is a bunch of nested if else statements (rules). \n",
    "\n",
    "**In rule based system, we manually write the if else statements.** \n",
    "\n",
    "**However, in DT, we find these rules using mathematical concepts.**\n",
    "\n",
    "When you train DT on data, it'll automatically gives you rules.\n",
    "\n",
    "\n",
    "**Also, Did you Notice** how super easy it is to interpret things out of decision tree ? \n",
    "\n",
    "Let's take an example:\n",
    "- One conclusion that can be derive from above decision tree is \n",
    "    - an employee whose age < 29 and works overtime are more likely to churn\n",
    "\n",
    "So, organization can implement policies or bring in promotions for these employ to reduce the attrition rate.\n"
   ]
  },
  {
   "cell_type": "markdown",
   "metadata": {
    "id": "1hcBDeyoYpNd"
   },
   "source": [
    "# **Geometric Intuition**"
   ]
  },
  {
   "cell_type": "markdown",
   "metadata": {
    "id": "8R3uKAGDy-Sl"
   },
   "source": [
    "#### What will decision tree mean geometrically? "
   ]
  },
  {
   "cell_type": "markdown",
   "metadata": {
    "id": "FL3iNUt7sXne"
   },
   "source": [
    "Geometrically, Decision Tree is a collection of axis parallel hyperplanes.\n",
    "\n",
    "\n",
    "When we start from top node (root node),\n",
    "- first decision node (age < 29) will create an hyperplane which splits the data into 2 parts\n",
    "- as we move further down the decision tree, we'll have one hyperplane per decision node.\n",
    "\n",
    "These hyperplanes are splitting the region in rectangles (in 2D)\n",
    "\n",
    "In 3D, these hyperplanes will split region into various cuboids "
   ]
  },
  {
   "cell_type": "markdown",
   "metadata": {
    "id": "xMPMW5wFwLX3"
   },
   "source": [
    "\n",
    "<img src='https://drive.google.com/uc?id=1i6ANNyKQCiPUE8azKIeTf343UJxPbcGt'>\n"
   ]
  },
  {
   "cell_type": "markdown",
   "metadata": {
    "id": "Ln7aDvPYbsfg"
   },
   "source": [
    "# **How to split the nodes?** "
   ]
  },
  {
   "cell_type": "markdown",
   "metadata": {
    "id": "s4c8de744X4p"
   },
   "source": [
    "\n",
    "\n",
    "Let's say we have $200$ datapoints \n",
    "- Out of these 200, 100 are positive while rest 100 are negative\n",
    "\n",
    "We are given with 2 options:\n",
    "\n",
    "- Option 1:\n",
    "    - We split the data using feature $f_j$ with threshold $τ_1$\n",
    "    - We get $y_+$ = 10 and $y_-$ = 95 in first node i.e approx 95% negative points\n",
    "    - $y_+$ = 90 and $y_-$ = 5 in second node i.e. approx 90% positive points\n",
    "\n",
    "- Option 2:\n",
    "    - Using feature $f_k$ with thresold ($τ_2$), we split the data\n",
    "    - In first node, we get \n",
    "        - $y_+$ = 40\n",
    "        - $y_-$ = 60\n",
    "    - Similarly, in second node, we get\n",
    "        - $y_+$ = 60\n",
    "        - $y_-$ = 40\n",
    "\n",
    "#### Question: Which condition is better for split ?\n",
    "\n",
    "Option 1. \n",
    "\n",
    "The nodes in option 1 has majority of points belonging to one class as compared to option 2.\n",
    "\n",
    "When condition $f_j > τ_1$ is true, datapoint is more likely to belong to -ve class"
   ]
  },
  {
   "cell_type": "markdown",
   "metadata": {
    "id": "qxZN2Mbn4RrS"
   },
   "source": [
    "\n",
    "\n",
    "<img src='https://drive.google.com/uc?id=1a5ltZskwHoz1uKqDQjZSo5I8ccd7a8ql'>\n"
   ]
  },
  {
   "cell_type": "markdown",
   "metadata": {
    "id": "O0Ghq20T-UG5"
   },
   "source": [
    "A node is called \"pure\" node if it has points belonging to one class only. (which is the best)\n",
    "\n",
    "Imagine a case where we are given with\n",
    "- 100 +ve and 100 -ve\n",
    "- we split the node using $f_m$ with threshold $t_2$\n",
    "- we get 100 +ve node in left node \n",
    "- 100 -ve in right node.\n",
    "\n",
    "Both nodes contain only datapoints belonging to single class, then these nodes are said to be pure nodes\n",
    "\n",
    "### **Why pure nodes are important ?** \n",
    "\n",
    "If a condition ($f_m > t_2$) is giving us pure node, then we can use that condition to classify whether a point is positive or negative\n",
    "\n",
    "If you look back at option 1 and 2, you'll see that \n",
    "- option 2 is giving more impure nodes \n",
    "- may not be good condition for splitting (option 2) as compared to option 1."
   ]
  },
  {
   "cell_type": "markdown",
   "metadata": {
    "id": "NnpAO_CL-nt5"
   },
   "source": [
    "\n",
    "<img src='https://drive.google.com/uc?id=16ZHEEVFLG0uKrauXD66AywN5lXBlvN8r'>\n",
    "\n"
   ]
  },
  {
   "cell_type": "markdown",
   "metadata": {
    "id": "UXZxO0KTioys"
   },
   "source": [
    "## **What is our objective for DT?**\n",
    "\n",
    "We want to create decision/ conditions such that we have 'purer' nodes.\n",
    "\n",
    "The node may not be pure but will have majority of points belonging to single class (hence, purer)\n",
    "\n",
    "**The question that comes is how do we quantify/measure the purity of a node mathematically ?**"
   ]
  },
  {
   "cell_type": "markdown",
   "metadata": {
    "id": "ePaa3jY6kbEQ"
   },
   "source": [
    "<img src='https://drive.google.com/uc?id=1Jsy0o-IRMYjpkyHkKZK3ek6xLFenoWyH'>\n",
    "\n"
   ]
  },
  {
   "cell_type": "markdown",
   "metadata": {
    "id": "kxpG-KMVuY2u"
   },
   "source": [
    "# **Entropy**"
   ]
  },
  {
   "cell_type": "markdown",
   "metadata": {
    "id": "av5OWqIsuYmS"
   },
   "source": [
    "### How to measure the purity of a node ? \n",
    "\n",
    "#### (Interaction) Question: Have you guys studied entropy before?\n",
    "\n",
    "You might have studied it in physics, information theory or probability.\n",
    "\n",
    "It's the same concept but we will apply it differently.\n",
    "\n",
    "Our need is to measure the purity. The moment we are able to do it, we will be able to pick the best split"
   ]
  },
  {
   "cell_type": "markdown",
   "metadata": {
    "id": "8G0aFHFogTwC"
   },
   "source": [
    "\n",
    "<img src='https://drive.google.com/uc?id=10Ik9qP1pW5gkxNRhiGHD85a3AkF0zfju'>\n",
    "\n"
   ]
  },
  {
   "cell_type": "markdown",
   "metadata": {
    "id": "Jb1zmYc-hEhA"
   },
   "source": [
    "### **Formulation - Discrete R.V**"
   ]
  },
  {
   "cell_type": "markdown",
   "metadata": {
    "id": "EOfXX3wwaqR7"
   },
   "source": [
    "Imagine Y be a discrete random variable.\n",
    "- it can take k discrete values i.e y ∈ {$y_1, y_2, y_3, ..., y_k$}\n",
    "\n",
    "We define entropy (H) as \n",
    "\n",
    "$H(Y) = - ∑_{i=1}^k p(y_i)log(p(y_i))$\n",
    "\n",
    "where $p(y_i)$ is the probability that random variable $Y = y_i$\n",
    "\n",
    "**What will be the base of log?**\n",
    "\n",
    "Typically, log base 2 and base e are used.\n",
    "- In information theory, base 2 is used\n",
    "- in physics, base e is used.\n",
    "\n",
    "We'll use base 2 log here."
   ]
  },
  {
   "cell_type": "markdown",
   "metadata": {
    "id": "GKmC1CTR0pth"
   },
   "source": [
    "\n",
    "<img src='https://drive.google.com/uc?id=1zXjeacy-xA4CeuOMvJOA1JokhQANwg5Y'>\n",
    "\n"
   ]
  },
  {
   "cell_type": "markdown",
   "metadata": {
    "id": "rHL9Q80Hh-bh"
   },
   "source": [
    "#### How does entropy measure purity?\n",
    "\n",
    "#### Entropy for binary classification\n",
    "\n",
    "Imagine we have binary random variable Y i.e. binary classification with class 0 or 1.\n",
    "\n",
    "**What will be the entropy of Y?**\n",
    "\n",
    "$H(Y) = -P(Y=0)log(P(Y=0)) - P(Y=1)log(P(Y=1))$\n",
    "\n",
    "where \n",
    "- P(Y=0) is the probability Y =0\n",
    "- P(Y=1) is the probability Y =1\n",
    "\n",
    "\n",
    "\n",
    "Let's assume the probability **P(Y=1) is p**\n",
    "\n",
    "The entropy becomes:\n",
    "\n",
    "$H(Y) = -plog(p) - (1-p)log(1-p)$\n",
    "\n",
    "\n"
   ]
  },
  {
   "cell_type": "markdown",
   "metadata": {
    "id": "lB3Nff6CkiZm"
   },
   "source": [
    "\n",
    "<img src='https://drive.google.com/uc?id=1WsOpDcOZyP9rk-Tsj-rib5x9oFDIgWlD'>\n",
    "\n"
   ]
  },
  {
   "cell_type": "markdown",
   "metadata": {
    "id": "o8_yuya9Fl-w"
   },
   "source": [
    "### **Plot for entropy**\n",
    "\n",
    "Now, we have the formula for calculating entropy\n",
    "\n",
    "$H(Y) = -P(Y=0)log(P(Y=0)) - P(Y=1)log(P(Y=1))$\n",
    "\n",
    "or \n",
    "\n",
    "$H(Y) = -plog(p) - (1-p)log(1-p)$ \n",
    "\n",
    "Let's plot it."
   ]
  },
  {
   "cell_type": "markdown",
   "metadata": {
    "id": "rjhGPoCzT8z5"
   },
   "source": [
    "Some interesting properties to notice:\n",
    "\n",
    "- The values of the plot range from 0 to 1.\n",
    "- The maxima lies at x = 0.5\n",
    "- Maximum value of entropy for binary case will be 1 (log base 2).\n",
    "\n",
    "#### Question: How can you prove that maxima will lie at 0.5?\n",
    "Ans: By taking 1st and 2nd derivative."
   ]
  },
  {
   "cell_type": "markdown",
   "metadata": {
    "id": "VKujFoi_T6V1"
   },
   "source": [
    "\n",
    "<img src='https://drive.google.com/uc?id=1RyLw7suL5bkf1cWQ9-4sA9GP2EBPke6M' width = 600>\n"
   ]
  },
  {
   "cell_type": "markdown",
   "metadata": {
    "id": "vBfZo1_do3XG"
   },
   "source": [
    "## **Entropy for various cases**\n",
    "\n",
    "Suppose for binary classification i.e. 2 classes, \n",
    "\n",
    "- Case 1: Node with\n",
    "    - 99% +ve points\n",
    "    - 1% -ve points\n",
    "    - The entropy H(Y) will be 0.0801\n",
    "\n",
    "- Case 2:\n",
    "    - 50% positive points\n",
    "    - 50% negative points\n",
    "    - Entropy for this case will be maximum i.e. 1 \n",
    "\n",
    "- Case 3:\n",
    "    - 0% +ve points\n",
    "    - 100% -ve points\n",
    "    - Entropy will be 0 for this node.\n",
    "\n",
    "\n"
   ]
  },
  {
   "cell_type": "markdown",
   "metadata": {
    "id": "bskD638Jo6JC"
   },
   "source": [
    "\n",
    "<img src='https://drive.google.com/uc?id=1SRU7jMYVQbWTVVfBXTre_wKBkzCnEN5E'>\n",
    "\n"
   ]
  },
  {
   "cell_type": "markdown",
   "metadata": {
    "id": "SX7sM76fVPqo"
   },
   "source": [
    "### Case for maximum/minimum entropy (for binary case)\n",
    "\n",
    "\n",
    "#### Question: When is the entropy maximum? \n",
    "\n",
    "Entropy is maximum when p(Y=1) = 0.5\n",
    "\n",
    "Similarly, the entropy is minumum or 0 when the probability of Y =1 is either 1 or 0. \n",
    "\n",
    "\n"
   ]
  },
  {
   "cell_type": "markdown",
   "metadata": {
    "id": "jUlxhXJXKO26"
   },
   "source": [
    "\n",
    "<img src='https://drive.google.com/uc?id=1vD0FGEJZiEMHOV5Bo9jijvOh3i7ANmmS'>\n",
    "\n"
   ]
  },
  {
   "cell_type": "markdown",
   "metadata": {
    "id": "eBf8a9fPYOyb"
   },
   "source": [
    "Let's try to draw PMF (Probability Mass Function) for both the cases.\n",
    "\n",
    "Case 1: P(y=1) = 0.5\n",
    "It means that \n",
    "- probability of y = 1 is 0.5\n",
    "- hence, probability of y =0 is also 0.5\n",
    "\n",
    "Case 2: P(y =1) is either 0 or 1\n",
    "\n",
    "Now, remember that entropy is the measure of randomness.\n",
    "\n",
    "In case 1\n",
    "- we are equally likely to observe 0s and 1s.\n",
    "- as y=0 and y=1 is equally probable, there is more randomness in the system\n",
    "- more the randomness, more the entropy\n",
    "- hence, maximum entropy when probability of y =1 is 0.5\n",
    "\n",
    "In Case 2,\n",
    "- P(y=1) is either 0 or 1\n",
    "- means we are sure we will get either value 0 (when prob. = 0) or 1 (when prob = 1 )\n",
    "- there is no randomness here\n",
    "- Hence, minimum entropy\n"
   ]
  },
  {
   "cell_type": "markdown",
   "metadata": {
    "id": "zE_w91aUKVdG"
   },
   "source": [
    "\n",
    "<img src='https://drive.google.com/uc?id=1zcSN1IGrfJx5IbNAOwb-xU4Mo8qLY5AM'>\n"
   ]
  },
  {
   "cell_type": "markdown",
   "metadata": {
    "id": "RrqbqtowTzTh"
   },
   "source": [
    "## **Relating Entropy with Purity**"
   ]
  },
  {
   "cell_type": "markdown",
   "metadata": {
    "id": "H-kAl29Nceg2"
   },
   "source": [
    "Now, Minimum entropy means\n",
    "- We can either have\n",
    "    - P(Y=1) =1 or\n",
    "    - P(Y=0) = 0\n",
    "\n",
    "**What does this mean?**\n",
    "\n",
    "It means we are only observing one class label (class 0 or class 1 datapoints) i.e. pure node \n",
    "\n",
    "\n",
    "We can use this to measure purity.\n",
    "\n",
    "\n",
    "\n",
    "\n"
   ]
  },
  {
   "cell_type": "markdown",
   "metadata": {
    "id": "u99Yw7Eddweo"
   },
   "source": [
    "\n",
    "<img src='https://drive.google.com/uc?id=17jFFoduPkkQkyd51DF_7tLcA4hXcRl9N'>\n"
   ]
  },
  {
   "cell_type": "markdown",
   "metadata": {
    "id": "m_HGCtFGfaVV"
   },
   "source": [
    "Purest node will have minimum entropy\n",
    "\n",
    "## **How does it help in node splitting?**\n",
    "\n",
    "We try to find that split which minimizes the entropy.\n",
    "\n",
    "Intuitively, we understood that we should to make nodes pure.\n",
    "Mathematically, we related this to entropy and say that pure node will have minimum entropy\n",
    "- hence, we should find the split with minimum entropy."
   ]
  },
  {
   "cell_type": "markdown",
   "metadata": {
    "id": "lvTSbRpud0vp"
   },
   "source": [
    "\n",
    "<img src='https://drive.google.com/uc?id=1_qut59pHNuJFxvPLiCkv1QP_gtivEblG'>\n"
   ]
  },
  {
   "cell_type": "markdown",
   "metadata": {
    "id": "86xm_EMEja7c"
   },
   "source": [
    "Coming back to our original example,\n",
    "- At root node we have 100 +ve and 100 -ve points\n",
    "\n",
    "### **Question: What'll be the entropy for root node ?**\n",
    "Ans: \n",
    "\n",
    "As we have equal number of +ve and -ve points, entropy H(root) = 1.\n",
    "\n",
    "$H(root) = -plog_2(p) - (1-p)log_2(1-p)$\n",
    "\n",
    "<br>\n",
    "\n",
    "Here, p = 0.5 (prob (y = 1) => 100/200 = 1/2 )\n",
    "\n",
    "$H(root) = -1/2*log_2(1/2) - (1 - 1/2)*log_2(1- 1/2)$\n",
    "\n",
    "=> -1/2*-1 -1/2*-1 = **1** ($log_2(1/2) = -1$)\n",
    "\n",
    "Now, we had 2 options for split\n",
    "- Option 1\n",
    "    - With condition 1 for split, we get\n",
    "        - 90 +ve, 10 -ve in left node\n",
    "        - 10 +ve , 90 -ve in right node\n",
    "\n",
    "- Option 2\n",
    "    - With condition 2 for split, we get\n",
    "        - 40 +ve, 60 -ve in left node\n",
    "        - 60 +ve, 40 -ve in right node\n",
    "\n",
    "#### Question: Which option/condition for split will give low entropy for children?\n",
    "\n",
    "Option 1. As the node after split are purer, it'll have lower entropy and hence we pick option 1\n",
    "\n",
    "**Lower the entropy, higher the purity**"
   ]
  },
  {
   "cell_type": "markdown",
   "metadata": {
    "id": "3V7Cbtd9fXsK"
   },
   "source": [
    "\n",
    "<img src='https://drive.google.com/uc?id=1trIvsH-Yo0FKGYzKrrk4FT_FBs9RK8s_'>\n",
    "\n"
   ]
  },
  {
   "cell_type": "markdown",
   "metadata": {
    "id": "Y0S2sy0UsZaC"
   },
   "source": [
    "#### Interactive GUI for entropy\n",
    "\n",
    "https://mlu-explain.github.io/decision-tree/"
   ]
  },
  {
   "cell_type": "markdown",
   "metadata": {
    "id": "WpFeIp1UqkvI"
   },
   "source": [
    "\n",
    "<img src='https://drive.google.com/uc?id=1VsC7KnTg0pKLdSIl-lb4YjjqMINI82pI'>\n",
    "\n",
    "\n"
   ]
  }
 ],
 "metadata": {
  "colab": {
   "collapsed_sections": [],
   "provenance": []
  },
  "kernelspec": {
   "display_name": "Python 3 (ipykernel)",
   "language": "python",
   "name": "python3"
  },
  "language_info": {
   "codemirror_mode": {
    "name": "ipython",
    "version": 3
   },
   "file_extension": ".py",
   "mimetype": "text/x-python",
   "name": "python",
   "nbconvert_exporter": "python",
   "pygments_lexer": "ipython3",
   "version": "3.9.7"
  }
 },
 "nbformat": 4,
 "nbformat_minor": 1
}
