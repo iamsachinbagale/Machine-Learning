{
  "cells": [
    {
      "cell_type": "markdown",
      "metadata": {
        "id": "GQIsV22uLa9T"
      },
      "source": [
        "## Content\n",
        "\n",
        "\n",
        "- Building a Decision Tree (Intuiton)\n",
        "    - Weighted entropy\n",
        "    - Information Gain\n",
        "    - Code walkthrough\n",
        "\n",
        "\n",
        "\n",
        "- Gini impurity\n",
        "    - issue with Entropy\n",
        "    - Comparing Gini impurity with Entropy\n",
        "    - Code walkthrough\n",
        "\n",
        "- Code for Decision Tree - sklearn\n",
        "\n",
        "\n",
        "\n",
        "\n"
      ]
    },
    {
      "cell_type": "markdown",
      "metadata": {
        "id": "iZzBPOxju7G3"
      },
      "source": [
        "#### Importing libraries"
      ]
    },
    {
      "cell_type": "code",
      "execution_count": 1,
      "metadata": {
        "id": "WLEr_32hutd0"
      },
      "outputs": [],
      "source": [
        "import numpy as np\n",
        "import pandas as pd\n",
        "import matplotlib.pyplot as plt\n",
        "import io"
      ]
    },
    {
      "cell_type": "markdown",
      "source": [
        "Preprocessed Data"
      ],
      "metadata": {
        "id": "Gy621ZV-lYPX"
      }
    },
    {
      "cell_type": "code",
      "source": [
        "!gdown 12G_J8gBel8MpspdXJruZuuMvyrm9upNb\n",
        "!gdown 1-zjfYbZm8JC4wog9tG4zltMPuZM6p9_A\n",
        "\n",
        "\n",
        "!gdown 1p03Ltdto8XoOdu14YlcQjzE-360SyI89\n",
        "!gdown 1mNcWfaEW19ql8WCih6HiqRryCcjFUUqx\n"
      ],
      "metadata": {
        "colab": {
          "base_uri": "https://localhost:8080/"
        },
        "id": "LquFHX1klR2g",
        "outputId": "aa0f2ef0-b007-4526-a8f3-8a4538cda2df"
      },
      "execution_count": 2,
      "outputs": [
        {
          "output_type": "stream",
          "name": "stdout",
          "text": [
            "Downloading...\n",
            "From: https://drive.google.com/uc?id=12G_J8gBel8MpspdXJruZuuMvyrm9upNb\n",
            "To: /content/X_test.csv\n",
            "100% 51.7k/51.7k [00:00<00:00, 56.4MB/s]\n",
            "Downloading...\n",
            "From: https://drive.google.com/uc?id=1-zjfYbZm8JC4wog9tG4zltMPuZM6p9_A\n",
            "To: /content/X_train.csv\n",
            "100% 154k/154k [00:00<00:00, 60.4MB/s]\n",
            "Downloading...\n",
            "From: https://drive.google.com/uc?id=1p03Ltdto8XoOdu14YlcQjzE-360SyI89\n",
            "To: /content/y_test.csv\n",
            "100% 743/743 [00:00<00:00, 1.26MB/s]\n",
            "Downloading...\n",
            "From: https://drive.google.com/uc?id=1mNcWfaEW19ql8WCih6HiqRryCcjFUUqx\n",
            "To: /content/y_train.csv\n",
            "100% 2.21k/2.21k [00:00<00:00, 2.61MB/s]\n"
          ]
        }
      ]
    },
    {
      "cell_type": "code",
      "source": [
        "X_train = pd.read_csv('X_train.csv')\n",
        "X_test = pd.read_csv('X_test.csv')\n",
        "y_train = pd.read_csv('y_train.csv')\n",
        "y_test = pd.read_csv('y_test.csv')"
      ],
      "metadata": {
        "id": "GzL8l4XgnHFb"
      },
      "execution_count": 3,
      "outputs": []
    },
    {
      "cell_type": "code",
      "execution_count": 4,
      "metadata": {
        "colab": {
          "base_uri": "https://localhost:8080/"
        },
        "id": "ofi_wcARy5qy",
        "outputId": "f263b659-551f-4572-f7c0-076f7ecee2c4"
      },
      "outputs": [
        {
          "output_type": "stream",
          "name": "stdout",
          "text": [
            "Resampled dataset shape Counter({'Target': 1})\n"
          ]
        }
      ],
      "source": [
        "from imblearn.over_sampling import SMOTE\n",
        "from collections import Counter\n",
        "\n",
        "smt = SMOTE()\n",
        "X_sm, y_sm = smt.fit_resample(X_train, y_train)\n",
        "\n",
        "print('Resampled dataset shape {}'.format(Counter(y_sm)))"
      ]
    },
    {
      "cell_type": "code",
      "execution_count": null,
      "metadata": {
        "colab": {
          "base_uri": "https://localhost:8080/"
        },
        "id": "Oy1of3kAiEwj",
        "outputId": "11b27481-f69e-47e5-ba8a-b9699b19ccf2"
      },
      "outputs": [
        {
          "output_type": "execute_result",
          "data": {
            "text/plain": [
              "(1848, 36)"
            ]
          },
          "metadata": {},
          "execution_count": 5
        }
      ],
      "source": [
        "X_sm.shape"
      ]
    },
    {
      "cell_type": "code",
      "execution_count": null,
      "metadata": {
        "colab": {
          "base_uri": "https://localhost:8080/",
          "height": 505
        },
        "id": "eqL55xKqwBsm",
        "outputId": "f2b4fb72-1505-49b5-d818-32e7587ade31"
      },
      "outputs": [
        {
          "output_type": "execute_result",
          "data": {
            "text/plain": [
              "      Age  DailyRate  DistanceFromHome  Education  EducationField  \\\n",
              "0      36       1174                 3          4        0.233871   \n",
              "1      21        546                 5          1        0.127479   \n",
              "2      43        422                 1          3        0.151584   \n",
              "3      42        188                29          3        0.127479   \n",
              "4      35        992                 1          3        0.127479   \n",
              "...   ...        ...               ...        ...             ...   \n",
              "1843   42       1245                12          3        0.238984   \n",
              "1844   47        827                12          3        0.236800   \n",
              "1845   29        336                14          1        0.137509   \n",
              "1846   26       1142                17          2        0.236799   \n",
              "1847   33        625                 4          3        0.188388   \n",
              "\n",
              "      EnvironmentSatisfaction  Gender  HourlyRate  JobInvolvement  JobLevel  \\\n",
              "0                           1       0          99               3         2   \n",
              "1                           3       1          97               3         1   \n",
              "2                           4       0          33               3         2   \n",
              "3                           2       1          56               1         2   \n",
              "4                           4       1          68               2         1   \n",
              "...                       ...     ...         ...             ...       ...   \n",
              "1843                        1       0          52               3         4   \n",
              "1844                        1       0          66               3         4   \n",
              "1845                        3       0          85               3         2   \n",
              "1846                        3       1          33               2         1   \n",
              "1847                        2       0          57               2         1   \n",
              "\n",
              "      ...  YearsWithCurrManager  BusinessTravel_Non-Travel  \\\n",
              "0     ...                     1                        0.0   \n",
              "1     ...                     2                        0.0   \n",
              "2     ...                     2                        0.0   \n",
              "3     ...                     0                        0.0   \n",
              "4     ...                     2                        0.0   \n",
              "...   ...                   ...                        ...   \n",
              "1843  ...                     8                        0.0   \n",
              "1844  ...                     8                        0.0   \n",
              "1845  ...                     7                        0.0   \n",
              "1846  ...                     1                        0.0   \n",
              "1847  ...                     2                        0.0   \n",
              "\n",
              "      BusinessTravel_Travel_Frequently  BusinessTravel_Travel_Rarely  \\\n",
              "0                             0.000000                      1.000000   \n",
              "1                             0.000000                      1.000000   \n",
              "2                             1.000000                      0.000000   \n",
              "3                             0.000000                      1.000000   \n",
              "4                             0.000000                      1.000000   \n",
              "...                                ...                           ...   \n",
              "1843                          0.000000                      1.000000   \n",
              "1844                          0.000000                      1.000000   \n",
              "1845                          0.913267                      0.086733   \n",
              "1846                          0.000000                      1.000000   \n",
              "1847                          0.000000                      1.000000   \n",
              "\n",
              "      Department_Human Resources  Department_Research & Development  \\\n",
              "0                       0.000000                           0.000000   \n",
              "1                       0.000000                           1.000000   \n",
              "2                       0.000000                           1.000000   \n",
              "3                       0.000000                           1.000000   \n",
              "4                       0.000000                           1.000000   \n",
              "...                          ...                                ...   \n",
              "1843                    0.000000                           0.895096   \n",
              "1844                    0.000000                           0.512758   \n",
              "1845                    0.000000                           1.000000   \n",
              "1846                    0.000000                           0.512576   \n",
              "1847                    0.610352                           0.000000   \n",
              "\n",
              "      Department_Sales  MaritalStatus_Divorced  MaritalStatus_Married  \\\n",
              "0             1.000000                0.000000               0.000000   \n",
              "1             0.000000                0.000000               0.000000   \n",
              "2             0.000000                0.000000               1.000000   \n",
              "3             0.000000                0.000000               0.000000   \n",
              "4             0.000000                0.000000               0.000000   \n",
              "...                ...                     ...                    ...   \n",
              "1843          0.104904                0.000000               0.895096   \n",
              "1844          0.487242                0.000000               0.512758   \n",
              "1845          0.000000                0.000000               0.086733   \n",
              "1846          0.487424                0.512576               0.487424   \n",
              "1847          0.389648                1.000000               0.000000   \n",
              "\n",
              "      MaritalStatus_Single  \n",
              "0                 1.000000  \n",
              "1                 1.000000  \n",
              "2                 0.000000  \n",
              "3                 1.000000  \n",
              "4                 1.000000  \n",
              "...                    ...  \n",
              "1843              0.104904  \n",
              "1844              0.487242  \n",
              "1845              0.913267  \n",
              "1846              0.000000  \n",
              "1847              0.000000  \n",
              "\n",
              "[1848 rows x 36 columns]"
            ],
            "text/html": [
              "\n",
              "  <div id=\"df-60c202b7-cbb6-438d-aec1-fe2ce68466e2\">\n",
              "    <div class=\"colab-df-container\">\n",
              "      <div>\n",
              "<style scoped>\n",
              "    .dataframe tbody tr th:only-of-type {\n",
              "        vertical-align: middle;\n",
              "    }\n",
              "\n",
              "    .dataframe tbody tr th {\n",
              "        vertical-align: top;\n",
              "    }\n",
              "\n",
              "    .dataframe thead th {\n",
              "        text-align: right;\n",
              "    }\n",
              "</style>\n",
              "<table border=\"1\" class=\"dataframe\">\n",
              "  <thead>\n",
              "    <tr style=\"text-align: right;\">\n",
              "      <th></th>\n",
              "      <th>Age</th>\n",
              "      <th>DailyRate</th>\n",
              "      <th>DistanceFromHome</th>\n",
              "      <th>Education</th>\n",
              "      <th>EducationField</th>\n",
              "      <th>EnvironmentSatisfaction</th>\n",
              "      <th>Gender</th>\n",
              "      <th>HourlyRate</th>\n",
              "      <th>JobInvolvement</th>\n",
              "      <th>JobLevel</th>\n",
              "      <th>...</th>\n",
              "      <th>YearsWithCurrManager</th>\n",
              "      <th>BusinessTravel_Non-Travel</th>\n",
              "      <th>BusinessTravel_Travel_Frequently</th>\n",
              "      <th>BusinessTravel_Travel_Rarely</th>\n",
              "      <th>Department_Human Resources</th>\n",
              "      <th>Department_Research &amp; Development</th>\n",
              "      <th>Department_Sales</th>\n",
              "      <th>MaritalStatus_Divorced</th>\n",
              "      <th>MaritalStatus_Married</th>\n",
              "      <th>MaritalStatus_Single</th>\n",
              "    </tr>\n",
              "  </thead>\n",
              "  <tbody>\n",
              "    <tr>\n",
              "      <th>0</th>\n",
              "      <td>36</td>\n",
              "      <td>1174</td>\n",
              "      <td>3</td>\n",
              "      <td>4</td>\n",
              "      <td>0.233871</td>\n",
              "      <td>1</td>\n",
              "      <td>0</td>\n",
              "      <td>99</td>\n",
              "      <td>3</td>\n",
              "      <td>2</td>\n",
              "      <td>...</td>\n",
              "      <td>1</td>\n",
              "      <td>0.0</td>\n",
              "      <td>0.000000</td>\n",
              "      <td>1.000000</td>\n",
              "      <td>0.000000</td>\n",
              "      <td>0.000000</td>\n",
              "      <td>1.000000</td>\n",
              "      <td>0.000000</td>\n",
              "      <td>0.000000</td>\n",
              "      <td>1.000000</td>\n",
              "    </tr>\n",
              "    <tr>\n",
              "      <th>1</th>\n",
              "      <td>21</td>\n",
              "      <td>546</td>\n",
              "      <td>5</td>\n",
              "      <td>1</td>\n",
              "      <td>0.127479</td>\n",
              "      <td>3</td>\n",
              "      <td>1</td>\n",
              "      <td>97</td>\n",
              "      <td>3</td>\n",
              "      <td>1</td>\n",
              "      <td>...</td>\n",
              "      <td>2</td>\n",
              "      <td>0.0</td>\n",
              "      <td>0.000000</td>\n",
              "      <td>1.000000</td>\n",
              "      <td>0.000000</td>\n",
              "      <td>1.000000</td>\n",
              "      <td>0.000000</td>\n",
              "      <td>0.000000</td>\n",
              "      <td>0.000000</td>\n",
              "      <td>1.000000</td>\n",
              "    </tr>\n",
              "    <tr>\n",
              "      <th>2</th>\n",
              "      <td>43</td>\n",
              "      <td>422</td>\n",
              "      <td>1</td>\n",
              "      <td>3</td>\n",
              "      <td>0.151584</td>\n",
              "      <td>4</td>\n",
              "      <td>0</td>\n",
              "      <td>33</td>\n",
              "      <td>3</td>\n",
              "      <td>2</td>\n",
              "      <td>...</td>\n",
              "      <td>2</td>\n",
              "      <td>0.0</td>\n",
              "      <td>1.000000</td>\n",
              "      <td>0.000000</td>\n",
              "      <td>0.000000</td>\n",
              "      <td>1.000000</td>\n",
              "      <td>0.000000</td>\n",
              "      <td>0.000000</td>\n",
              "      <td>1.000000</td>\n",
              "      <td>0.000000</td>\n",
              "    </tr>\n",
              "    <tr>\n",
              "      <th>3</th>\n",
              "      <td>42</td>\n",
              "      <td>188</td>\n",
              "      <td>29</td>\n",
              "      <td>3</td>\n",
              "      <td>0.127479</td>\n",
              "      <td>2</td>\n",
              "      <td>1</td>\n",
              "      <td>56</td>\n",
              "      <td>1</td>\n",
              "      <td>2</td>\n",
              "      <td>...</td>\n",
              "      <td>0</td>\n",
              "      <td>0.0</td>\n",
              "      <td>0.000000</td>\n",
              "      <td>1.000000</td>\n",
              "      <td>0.000000</td>\n",
              "      <td>1.000000</td>\n",
              "      <td>0.000000</td>\n",
              "      <td>0.000000</td>\n",
              "      <td>0.000000</td>\n",
              "      <td>1.000000</td>\n",
              "    </tr>\n",
              "    <tr>\n",
              "      <th>4</th>\n",
              "      <td>35</td>\n",
              "      <td>992</td>\n",
              "      <td>1</td>\n",
              "      <td>3</td>\n",
              "      <td>0.127479</td>\n",
              "      <td>4</td>\n",
              "      <td>1</td>\n",
              "      <td>68</td>\n",
              "      <td>2</td>\n",
              "      <td>1</td>\n",
              "      <td>...</td>\n",
              "      <td>2</td>\n",
              "      <td>0.0</td>\n",
              "      <td>0.000000</td>\n",
              "      <td>1.000000</td>\n",
              "      <td>0.000000</td>\n",
              "      <td>1.000000</td>\n",
              "      <td>0.000000</td>\n",
              "      <td>0.000000</td>\n",
              "      <td>0.000000</td>\n",
              "      <td>1.000000</td>\n",
              "    </tr>\n",
              "    <tr>\n",
              "      <th>...</th>\n",
              "      <td>...</td>\n",
              "      <td>...</td>\n",
              "      <td>...</td>\n",
              "      <td>...</td>\n",
              "      <td>...</td>\n",
              "      <td>...</td>\n",
              "      <td>...</td>\n",
              "      <td>...</td>\n",
              "      <td>...</td>\n",
              "      <td>...</td>\n",
              "      <td>...</td>\n",
              "      <td>...</td>\n",
              "      <td>...</td>\n",
              "      <td>...</td>\n",
              "      <td>...</td>\n",
              "      <td>...</td>\n",
              "      <td>...</td>\n",
              "      <td>...</td>\n",
              "      <td>...</td>\n",
              "      <td>...</td>\n",
              "      <td>...</td>\n",
              "    </tr>\n",
              "    <tr>\n",
              "      <th>1843</th>\n",
              "      <td>42</td>\n",
              "      <td>1245</td>\n",
              "      <td>12</td>\n",
              "      <td>3</td>\n",
              "      <td>0.238984</td>\n",
              "      <td>1</td>\n",
              "      <td>0</td>\n",
              "      <td>52</td>\n",
              "      <td>3</td>\n",
              "      <td>4</td>\n",
              "      <td>...</td>\n",
              "      <td>8</td>\n",
              "      <td>0.0</td>\n",
              "      <td>0.000000</td>\n",
              "      <td>1.000000</td>\n",
              "      <td>0.000000</td>\n",
              "      <td>0.895096</td>\n",
              "      <td>0.104904</td>\n",
              "      <td>0.000000</td>\n",
              "      <td>0.895096</td>\n",
              "      <td>0.104904</td>\n",
              "    </tr>\n",
              "    <tr>\n",
              "      <th>1844</th>\n",
              "      <td>47</td>\n",
              "      <td>827</td>\n",
              "      <td>12</td>\n",
              "      <td>3</td>\n",
              "      <td>0.236800</td>\n",
              "      <td>1</td>\n",
              "      <td>0</td>\n",
              "      <td>66</td>\n",
              "      <td>3</td>\n",
              "      <td>4</td>\n",
              "      <td>...</td>\n",
              "      <td>8</td>\n",
              "      <td>0.0</td>\n",
              "      <td>0.000000</td>\n",
              "      <td>1.000000</td>\n",
              "      <td>0.000000</td>\n",
              "      <td>0.512758</td>\n",
              "      <td>0.487242</td>\n",
              "      <td>0.000000</td>\n",
              "      <td>0.512758</td>\n",
              "      <td>0.487242</td>\n",
              "    </tr>\n",
              "    <tr>\n",
              "      <th>1845</th>\n",
              "      <td>29</td>\n",
              "      <td>336</td>\n",
              "      <td>14</td>\n",
              "      <td>1</td>\n",
              "      <td>0.137509</td>\n",
              "      <td>3</td>\n",
              "      <td>0</td>\n",
              "      <td>85</td>\n",
              "      <td>3</td>\n",
              "      <td>2</td>\n",
              "      <td>...</td>\n",
              "      <td>7</td>\n",
              "      <td>0.0</td>\n",
              "      <td>0.913267</td>\n",
              "      <td>0.086733</td>\n",
              "      <td>0.000000</td>\n",
              "      <td>1.000000</td>\n",
              "      <td>0.000000</td>\n",
              "      <td>0.000000</td>\n",
              "      <td>0.086733</td>\n",
              "      <td>0.913267</td>\n",
              "    </tr>\n",
              "    <tr>\n",
              "      <th>1846</th>\n",
              "      <td>26</td>\n",
              "      <td>1142</td>\n",
              "      <td>17</td>\n",
              "      <td>2</td>\n",
              "      <td>0.236799</td>\n",
              "      <td>3</td>\n",
              "      <td>1</td>\n",
              "      <td>33</td>\n",
              "      <td>2</td>\n",
              "      <td>1</td>\n",
              "      <td>...</td>\n",
              "      <td>1</td>\n",
              "      <td>0.0</td>\n",
              "      <td>0.000000</td>\n",
              "      <td>1.000000</td>\n",
              "      <td>0.000000</td>\n",
              "      <td>0.512576</td>\n",
              "      <td>0.487424</td>\n",
              "      <td>0.512576</td>\n",
              "      <td>0.487424</td>\n",
              "      <td>0.000000</td>\n",
              "    </tr>\n",
              "    <tr>\n",
              "      <th>1847</th>\n",
              "      <td>33</td>\n",
              "      <td>625</td>\n",
              "      <td>4</td>\n",
              "      <td>3</td>\n",
              "      <td>0.188388</td>\n",
              "      <td>2</td>\n",
              "      <td>0</td>\n",
              "      <td>57</td>\n",
              "      <td>2</td>\n",
              "      <td>1</td>\n",
              "      <td>...</td>\n",
              "      <td>2</td>\n",
              "      <td>0.0</td>\n",
              "      <td>0.000000</td>\n",
              "      <td>1.000000</td>\n",
              "      <td>0.610352</td>\n",
              "      <td>0.000000</td>\n",
              "      <td>0.389648</td>\n",
              "      <td>1.000000</td>\n",
              "      <td>0.000000</td>\n",
              "      <td>0.000000</td>\n",
              "    </tr>\n",
              "  </tbody>\n",
              "</table>\n",
              "<p>1848 rows × 36 columns</p>\n",
              "</div>\n",
              "      <button class=\"colab-df-convert\" onclick=\"convertToInteractive('df-60c202b7-cbb6-438d-aec1-fe2ce68466e2')\"\n",
              "              title=\"Convert this dataframe to an interactive table.\"\n",
              "              style=\"display:none;\">\n",
              "        \n",
              "  <svg xmlns=\"http://www.w3.org/2000/svg\" height=\"24px\"viewBox=\"0 0 24 24\"\n",
              "       width=\"24px\">\n",
              "    <path d=\"M0 0h24v24H0V0z\" fill=\"none\"/>\n",
              "    <path d=\"M18.56 5.44l.94 2.06.94-2.06 2.06-.94-2.06-.94-.94-2.06-.94 2.06-2.06.94zm-11 1L8.5 8.5l.94-2.06 2.06-.94-2.06-.94L8.5 2.5l-.94 2.06-2.06.94zm10 10l.94 2.06.94-2.06 2.06-.94-2.06-.94-.94-2.06-.94 2.06-2.06.94z\"/><path d=\"M17.41 7.96l-1.37-1.37c-.4-.4-.92-.59-1.43-.59-.52 0-1.04.2-1.43.59L10.3 9.45l-7.72 7.72c-.78.78-.78 2.05 0 2.83L4 21.41c.39.39.9.59 1.41.59.51 0 1.02-.2 1.41-.59l7.78-7.78 2.81-2.81c.8-.78.8-2.07 0-2.86zM5.41 20L4 18.59l7.72-7.72 1.47 1.35L5.41 20z\"/>\n",
              "  </svg>\n",
              "      </button>\n",
              "      \n",
              "  <style>\n",
              "    .colab-df-container {\n",
              "      display:flex;\n",
              "      flex-wrap:wrap;\n",
              "      gap: 12px;\n",
              "    }\n",
              "\n",
              "    .colab-df-convert {\n",
              "      background-color: #E8F0FE;\n",
              "      border: none;\n",
              "      border-radius: 50%;\n",
              "      cursor: pointer;\n",
              "      display: none;\n",
              "      fill: #1967D2;\n",
              "      height: 32px;\n",
              "      padding: 0 0 0 0;\n",
              "      width: 32px;\n",
              "    }\n",
              "\n",
              "    .colab-df-convert:hover {\n",
              "      background-color: #E2EBFA;\n",
              "      box-shadow: 0px 1px 2px rgba(60, 64, 67, 0.3), 0px 1px 3px 1px rgba(60, 64, 67, 0.15);\n",
              "      fill: #174EA6;\n",
              "    }\n",
              "\n",
              "    [theme=dark] .colab-df-convert {\n",
              "      background-color: #3B4455;\n",
              "      fill: #D2E3FC;\n",
              "    }\n",
              "\n",
              "    [theme=dark] .colab-df-convert:hover {\n",
              "      background-color: #434B5C;\n",
              "      box-shadow: 0px 1px 3px 1px rgba(0, 0, 0, 0.15);\n",
              "      filter: drop-shadow(0px 1px 2px rgba(0, 0, 0, 0.3));\n",
              "      fill: #FFFFFF;\n",
              "    }\n",
              "  </style>\n",
              "\n",
              "      <script>\n",
              "        const buttonEl =\n",
              "          document.querySelector('#df-60c202b7-cbb6-438d-aec1-fe2ce68466e2 button.colab-df-convert');\n",
              "        buttonEl.style.display =\n",
              "          google.colab.kernel.accessAllowed ? 'block' : 'none';\n",
              "\n",
              "        async function convertToInteractive(key) {\n",
              "          const element = document.querySelector('#df-60c202b7-cbb6-438d-aec1-fe2ce68466e2');\n",
              "          const dataTable =\n",
              "            await google.colab.kernel.invokeFunction('convertToInteractive',\n",
              "                                                     [key], {});\n",
              "          if (!dataTable) return;\n",
              "\n",
              "          const docLinkHtml = 'Like what you see? Visit the ' +\n",
              "            '<a target=\"_blank\" href=https://colab.research.google.com/notebooks/data_table.ipynb>data table notebook</a>'\n",
              "            + ' to learn more about interactive tables.';\n",
              "          element.innerHTML = '';\n",
              "          dataTable['output_type'] = 'display_data';\n",
              "          await google.colab.output.renderOutput(dataTable, element);\n",
              "          const docLink = document.createElement('div');\n",
              "          docLink.innerHTML = docLinkHtml;\n",
              "          element.appendChild(docLink);\n",
              "        }\n",
              "      </script>\n",
              "    </div>\n",
              "  </div>\n",
              "  "
            ]
          },
          "metadata": {},
          "execution_count": 6
        }
      ],
      "source": [
        "X_sm"
      ]
    },
    {
      "cell_type": "markdown",
      "metadata": {
        "id": "SF9UKXSKuo0k"
      },
      "source": [
        "# **Building a DT (intuiton)**"
      ]
    },
    {
      "cell_type": "markdown",
      "metadata": {
        "id": "kh4W_MoaQYSG"
      },
      "source": [
        "Let's take an example\n",
        "\n",
        "Consider a dataset of 100 samples\n",
        "\n",
        "It has 2 attributes (2 categorical)\n",
        "\n",
        "- Gender (Male, Female)\n",
        "- Age (Less than 35 , Older than 35)\n",
        "-Target Variable - Employee Attrition (0 - stays , 1 - churns)\n",
        "\n",
        "Data distribution :\n",
        "\n",
        "- Class 0 (stays) -> 60 instances\n",
        "- Class 1 (churns) -> 40 instances"
      ]
    },
    {
      "cell_type": "markdown",
      "metadata": {
        "id": "wB7YndyNQcVE"
      },
      "source": [
        "<img src='https://drive.google.com/uc?id=1a3UgvfaCSLjgjY74fbhdnZ1b2e4087mU'>\n",
        "\n"
      ]
    },
    {
      "cell_type": "markdown",
      "metadata": {
        "id": "8RaL6oThN6qE"
      },
      "source": [
        "Let's first split by Gender and calculate information gain\n",
        "\n",
        "For calculating information gain for Gender, we first calculate entropy for parent and child.\n",
        "\n",
        "**H(Parent) = 0.971**"
      ]
    },
    {
      "cell_type": "markdown",
      "metadata": {
        "id": "4mYCUPh3KQMJ"
      },
      "source": [
        "<img src='https://drive.google.com/uc?id=1WD9Dwh8t7rfKcK4YGB8yB-2FUnX0lAaG'>\n",
        "\n"
      ]
    },
    {
      "cell_type": "markdown",
      "metadata": {
        "id": "rriVgk78XiKi"
      },
      "source": [
        "## **How to combine child entropy?** \n",
        "\n",
        "We do so by calculate the **weighted entropy** of child nodes.\n",
        "\n",
        "Suppose we have n points at root node.\n",
        "- we split by feature f1 \n",
        "- After split, left node will have n1 points\n",
        "- right node will have n2 points\n",
        "- Assume the entropy are $H(a_1)$ and $H(a_2)$ for left and right child node resp.\n",
        "\n",
        "Now, weighted entropy is calculated by summation of   entropy of node multiplying with the % of points that ended up in that node.\n",
        "\n",
        "**Weighted entropy of child for f1 = $n_1/n * H(a_1) + n_2/2 * H(a_2)$**\n",
        "\n",
        "\n",
        "Similarly, **weighted entropy of child node for f2 =  $p_1/n * H(a_1) + p_2/n * H(a_2) + p_3/n * H(a_3)$**\n",
        "\n",
        "<br>\n",
        "\n",
        "<br>\n",
        "\n",
        "\n",
        "Next,lets get back to our example \n",
        "- for the calculation of the entropy of child nodes followed by weighted entropy of child nodes\n",
        "\n",
        "H(Male) = 0.8631\n",
        "\n",
        "H(Female) = 0.918\n",
        "\n",
        "weighted entropy = 0.8796\n"
      ]
    },
    {
      "cell_type": "markdown",
      "metadata": {
        "id": "poFfqc57N5z6"
      },
      "source": [
        "<img src='https://drive.google.com/uc?id=1FDV5Y333PbbQUEhUvVzuvVa-DEekIYrc'>\n"
      ]
    },
    {
      "cell_type": "markdown",
      "metadata": {
        "id": "dz1rzay4ZiNd"
      },
      "source": [
        "After calculating the weighted entropy, we calculate the **Information Gain ($IG$)**\n",
        "\n",
        "**Information Gain = H(Parent) - weighted entropy of child**\n",
        "\n",
        "We calculate the information gain for each feature and pick the feature with maximum information for split.\n",
        "\n",
        "\n",
        "Now for our example: \n",
        "\n",
        "- Information Gain = Entropy of parent - weighted entropy of child nodes\n",
        "\n",
        "= 0.971 - 0.8796\n",
        "\n",
        "IG (Gender)= 0.0914"
      ]
    },
    {
      "cell_type": "markdown",
      "metadata": {
        "id": "U-qpq_n0Xheh"
      },
      "source": [
        "<img src='https://drive.google.com/uc?id=1sCGtvEybiy2V7qGBmRCRQUPUOPF5rx98'>\n",
        "\n"
      ]
    },
    {
      "cell_type": "markdown",
      "metadata": {
        "id": "_mVoP49UZcOR"
      },
      "source": [
        "Similarly, we calculate the information gain for feature 'Age<35'\n",
        "\n",
        "H(parent) = 0.971\n",
        "\n",
        "H(left node) = 0.65\n",
        "\n",
        "H(right node) = 0.811\n",
        "\n",
        "weighted entropy of child nodes = 0.714\n",
        "\n",
        "Information Gain (Age < 35) = 0.257"
      ]
    },
    {
      "cell_type": "markdown",
      "metadata": {
        "id": "IuJQFbyFZ3Nq"
      },
      "source": [
        "<img src='https://drive.google.com/uc?id=16Dw6fdvl-i5muTspUS_fD7YygARSVhFb'>\n",
        "\n"
      ]
    },
    {
      "cell_type": "markdown",
      "metadata": {
        "id": "mAmpFU6NiQLo"
      },
      "source": [
        "<img src='https://drive.google.com/uc?id=1WnT8s1jDTsQ4AA2K-ca5LJINuPts2aet'>\n"
      ]
    },
    {
      "cell_type": "markdown",
      "metadata": {
        "id": "40ZdhJxdiXBk"
      },
      "source": [
        "<img src='https://drive.google.com/uc?id=1HV9u9BGp3G-v3beKxZI-QfbzIuC7Fnqy'>\n",
        "\n"
      ]
    },
    {
      "cell_type": "markdown",
      "metadata": {
        "id": "xDz1r_nnimTx"
      },
      "source": [
        "Now,\n",
        "\n",
        "IG(Y, Gender) = 0.0914\n",
        "\n",
        "IG(Y, Age< 35) = 0.257\n",
        "\n",
        "Since, Information Gain for Age< 35 is more than IG(Gender), hence we will pick Age< 35 for split.\n",
        "\n",
        "Suppose instead of 2 features, we had n features.\n",
        "- In that case, we would find information gain for each feature\n",
        "- Pick the feature with max. info gain to split with\n",
        "- Again, for the splitted nodes, we would calculate information gain for features\n",
        "- We'll pick the feature with max info gain to split\n",
        "- This process will continue till we get pure nodes.... i.e. Entropy = 0\n",
        "\n",
        "The **key lesson here** is\n",
        "\n",
        "- At every node of the decision tree\n",
        "    - we have to try every featutre and possible split to pick the best decision to split on\n",
        "- **The best criteria is based on Information Gain, decision which has maximum information**"
      ]
    },
    {
      "cell_type": "markdown",
      "metadata": {
        "id": "J3hKTVc4kRcw"
      },
      "source": [
        "<img src='https://drive.google.com/uc?id=18YOCO8CNB9M6hjv3rPxVJiSqYxGSwMKA'>\n"
      ]
    },
    {
      "cell_type": "markdown",
      "metadata": {
        "id": "g_tNBFN_kmaU"
      },
      "source": [
        "## **Code walkthrough**"
      ]
    },
    {
      "cell_type": "markdown",
      "metadata": {
        "id": "MsiexF7OBuJN"
      },
      "source": [
        "#### Entropy"
      ]
    },
    {
      "cell_type": "code",
      "execution_count": null,
      "metadata": {
        "id": "YWPa4V38o09R"
      },
      "outputs": [],
      "source": [
        "def entropy(y):\n",
        "\n",
        "    if isinstance(y, pd.Series):\n",
        "        # calculating probability\n",
        "        p = y.value_counts()/y.shape[0]\n",
        "        \n",
        "        entropy = np.sum(-p*np.log2(p+1e-9)) # adding delta 1e-9 in case p = 0 as log(0) is not defined\n",
        "\n",
        "        return(entropy)\n",
        "\n",
        "    else:\n",
        "        raise('Object must be a Pandas Series.')\n",
        "\n"
      ]
    },
    {
      "cell_type": "markdown",
      "metadata": {
        "id": "9y0PYN9GBvsm"
      },
      "source": [
        "#### Weighted entropy for child nodes"
      ]
    },
    {
      "cell_type": "code",
      "execution_count": null,
      "metadata": {
        "id": "Y4oWtuYA-sK-"
      },
      "outputs": [],
      "source": [
        "def calculate_weighted_entropy(feature,y):\n",
        "    categories = feature.unique()\n",
        "\n",
        "    weighted_entropy = 0\n",
        "\n",
        "    for category in categories:\n",
        "        y_category = y[feature == category]\n",
        "        entropy_category = entropy(y_category)\n",
        "        # print(category)\n",
        "        # print(entropy_category)\n",
        "        weighted_entropy += y_category.shape[0]/y.shape[0]*entropy_category\n",
        "\n",
        "    \n",
        "    return weighted_entropy\n",
        "\n"
      ]
    },
    {
      "cell_type": "markdown",
      "metadata": {
        "id": "JEuqUXv4ByIl"
      },
      "source": [
        "#### Information gain"
      ]
    },
    {
      "cell_type": "code",
      "execution_count": null,
      "metadata": {
        "id": "lA04rBkH-t6p"
      },
      "outputs": [],
      "source": [
        "def information_gain(feature,y):\n",
        "    parent_entropy = entropy(y)\n",
        "\n",
        "    child_entropy = calculate_weighted_entropy(feature,y)\n",
        "\n",
        "    ig = parent_entropy - child_entropy\n",
        "\n",
        "    return ig"
      ]
    },
    {
      "cell_type": "code",
      "execution_count": null,
      "metadata": {
        "colab": {
          "base_uri": "https://localhost:8080/"
        },
        "id": "_jrDhf01B0Zl",
        "outputId": "7c1a1e2a-decd-4b9f-a075-119e3c8730bf"
      },
      "outputs": [
        {
          "output_type": "stream",
          "name": "stdout",
          "text": [
            "Downloading...\n",
            "From: https://drive.google.com/uc?id=1l53Fgkg1G1ekCxxgaDQ00EXrnSMTeJj-\n",
            "To: /content/sample_data.csv\n",
            "\r  0% 0.00/32.5k [00:00<?, ?B/s]\r100% 32.5k/32.5k [00:00<00:00, 38.1MB/s]\n"
          ]
        }
      ],
      "source": [
        "!gdown  1l53Fgkg1G1ekCxxgaDQ00EXrnSMTeJj-"
      ]
    },
    {
      "cell_type": "code",
      "execution_count": null,
      "metadata": {
        "id": "Ikwr0foEB4Xz"
      },
      "outputs": [],
      "source": [
        "sample_data = pd.read_csv('sample_data.csv')"
      ]
    },
    {
      "cell_type": "code",
      "execution_count": null,
      "metadata": {
        "colab": {
          "base_uri": "https://localhost:8080/",
          "height": 424
        },
        "id": "V1Nve3XVB_8W",
        "outputId": "697bff07-182e-4396-c98d-91179390b7d2"
      },
      "outputs": [
        {
          "output_type": "execute_result",
          "data": {
            "text/plain": [
              "     Gender  Age_less_35                    JobRole  Attrition\n",
              "0      Male         True      Laboratory Technician          0\n",
              "1      Male        False            Sales Executive          1\n",
              "2      Male         True       Sales Representative          1\n",
              "3    Female        False  Healthcare Representative          0\n",
              "4      Male         True            Sales Executive          0\n",
              "..      ...          ...                        ...        ...\n",
              "995    Male        False      Laboratory Technician          1\n",
              "996  Female        False     Manufacturing Director          0\n",
              "997  Female         True            Sales Executive          0\n",
              "998    Male        False                    Manager          0\n",
              "999  Female         True      Laboratory Technician          0\n",
              "\n",
              "[1000 rows x 4 columns]"
            ],
            "text/html": [
              "\n",
              "  <div id=\"df-d876fd2f-d595-4e81-bd1b-9a19c473409d\">\n",
              "    <div class=\"colab-df-container\">\n",
              "      <div>\n",
              "<style scoped>\n",
              "    .dataframe tbody tr th:only-of-type {\n",
              "        vertical-align: middle;\n",
              "    }\n",
              "\n",
              "    .dataframe tbody tr th {\n",
              "        vertical-align: top;\n",
              "    }\n",
              "\n",
              "    .dataframe thead th {\n",
              "        text-align: right;\n",
              "    }\n",
              "</style>\n",
              "<table border=\"1\" class=\"dataframe\">\n",
              "  <thead>\n",
              "    <tr style=\"text-align: right;\">\n",
              "      <th></th>\n",
              "      <th>Gender</th>\n",
              "      <th>Age_less_35</th>\n",
              "      <th>JobRole</th>\n",
              "      <th>Attrition</th>\n",
              "    </tr>\n",
              "  </thead>\n",
              "  <tbody>\n",
              "    <tr>\n",
              "      <th>0</th>\n",
              "      <td>Male</td>\n",
              "      <td>True</td>\n",
              "      <td>Laboratory Technician</td>\n",
              "      <td>0</td>\n",
              "    </tr>\n",
              "    <tr>\n",
              "      <th>1</th>\n",
              "      <td>Male</td>\n",
              "      <td>False</td>\n",
              "      <td>Sales Executive</td>\n",
              "      <td>1</td>\n",
              "    </tr>\n",
              "    <tr>\n",
              "      <th>2</th>\n",
              "      <td>Male</td>\n",
              "      <td>True</td>\n",
              "      <td>Sales Representative</td>\n",
              "      <td>1</td>\n",
              "    </tr>\n",
              "    <tr>\n",
              "      <th>3</th>\n",
              "      <td>Female</td>\n",
              "      <td>False</td>\n",
              "      <td>Healthcare Representative</td>\n",
              "      <td>0</td>\n",
              "    </tr>\n",
              "    <tr>\n",
              "      <th>4</th>\n",
              "      <td>Male</td>\n",
              "      <td>True</td>\n",
              "      <td>Sales Executive</td>\n",
              "      <td>0</td>\n",
              "    </tr>\n",
              "    <tr>\n",
              "      <th>...</th>\n",
              "      <td>...</td>\n",
              "      <td>...</td>\n",
              "      <td>...</td>\n",
              "      <td>...</td>\n",
              "    </tr>\n",
              "    <tr>\n",
              "      <th>995</th>\n",
              "      <td>Male</td>\n",
              "      <td>False</td>\n",
              "      <td>Laboratory Technician</td>\n",
              "      <td>1</td>\n",
              "    </tr>\n",
              "    <tr>\n",
              "      <th>996</th>\n",
              "      <td>Female</td>\n",
              "      <td>False</td>\n",
              "      <td>Manufacturing Director</td>\n",
              "      <td>0</td>\n",
              "    </tr>\n",
              "    <tr>\n",
              "      <th>997</th>\n",
              "      <td>Female</td>\n",
              "      <td>True</td>\n",
              "      <td>Sales Executive</td>\n",
              "      <td>0</td>\n",
              "    </tr>\n",
              "    <tr>\n",
              "      <th>998</th>\n",
              "      <td>Male</td>\n",
              "      <td>False</td>\n",
              "      <td>Manager</td>\n",
              "      <td>0</td>\n",
              "    </tr>\n",
              "    <tr>\n",
              "      <th>999</th>\n",
              "      <td>Female</td>\n",
              "      <td>True</td>\n",
              "      <td>Laboratory Technician</td>\n",
              "      <td>0</td>\n",
              "    </tr>\n",
              "  </tbody>\n",
              "</table>\n",
              "<p>1000 rows × 4 columns</p>\n",
              "</div>\n",
              "      <button class=\"colab-df-convert\" onclick=\"convertToInteractive('df-d876fd2f-d595-4e81-bd1b-9a19c473409d')\"\n",
              "              title=\"Convert this dataframe to an interactive table.\"\n",
              "              style=\"display:none;\">\n",
              "        \n",
              "  <svg xmlns=\"http://www.w3.org/2000/svg\" height=\"24px\"viewBox=\"0 0 24 24\"\n",
              "       width=\"24px\">\n",
              "    <path d=\"M0 0h24v24H0V0z\" fill=\"none\"/>\n",
              "    <path d=\"M18.56 5.44l.94 2.06.94-2.06 2.06-.94-2.06-.94-.94-2.06-.94 2.06-2.06.94zm-11 1L8.5 8.5l.94-2.06 2.06-.94-2.06-.94L8.5 2.5l-.94 2.06-2.06.94zm10 10l.94 2.06.94-2.06 2.06-.94-2.06-.94-.94-2.06-.94 2.06-2.06.94z\"/><path d=\"M17.41 7.96l-1.37-1.37c-.4-.4-.92-.59-1.43-.59-.52 0-1.04.2-1.43.59L10.3 9.45l-7.72 7.72c-.78.78-.78 2.05 0 2.83L4 21.41c.39.39.9.59 1.41.59.51 0 1.02-.2 1.41-.59l7.78-7.78 2.81-2.81c.8-.78.8-2.07 0-2.86zM5.41 20L4 18.59l7.72-7.72 1.47 1.35L5.41 20z\"/>\n",
              "  </svg>\n",
              "      </button>\n",
              "      \n",
              "  <style>\n",
              "    .colab-df-container {\n",
              "      display:flex;\n",
              "      flex-wrap:wrap;\n",
              "      gap: 12px;\n",
              "    }\n",
              "\n",
              "    .colab-df-convert {\n",
              "      background-color: #E8F0FE;\n",
              "      border: none;\n",
              "      border-radius: 50%;\n",
              "      cursor: pointer;\n",
              "      display: none;\n",
              "      fill: #1967D2;\n",
              "      height: 32px;\n",
              "      padding: 0 0 0 0;\n",
              "      width: 32px;\n",
              "    }\n",
              "\n",
              "    .colab-df-convert:hover {\n",
              "      background-color: #E2EBFA;\n",
              "      box-shadow: 0px 1px 2px rgba(60, 64, 67, 0.3), 0px 1px 3px 1px rgba(60, 64, 67, 0.15);\n",
              "      fill: #174EA6;\n",
              "    }\n",
              "\n",
              "    [theme=dark] .colab-df-convert {\n",
              "      background-color: #3B4455;\n",
              "      fill: #D2E3FC;\n",
              "    }\n",
              "\n",
              "    [theme=dark] .colab-df-convert:hover {\n",
              "      background-color: #434B5C;\n",
              "      box-shadow: 0px 1px 3px 1px rgba(0, 0, 0, 0.15);\n",
              "      filter: drop-shadow(0px 1px 2px rgba(0, 0, 0, 0.3));\n",
              "      fill: #FFFFFF;\n",
              "    }\n",
              "  </style>\n",
              "\n",
              "      <script>\n",
              "        const buttonEl =\n",
              "          document.querySelector('#df-d876fd2f-d595-4e81-bd1b-9a19c473409d button.colab-df-convert');\n",
              "        buttonEl.style.display =\n",
              "          google.colab.kernel.accessAllowed ? 'block' : 'none';\n",
              "\n",
              "        async function convertToInteractive(key) {\n",
              "          const element = document.querySelector('#df-d876fd2f-d595-4e81-bd1b-9a19c473409d');\n",
              "          const dataTable =\n",
              "            await google.colab.kernel.invokeFunction('convertToInteractive',\n",
              "                                                     [key], {});\n",
              "          if (!dataTable) return;\n",
              "\n",
              "          const docLinkHtml = 'Like what you see? Visit the ' +\n",
              "            '<a target=\"_blank\" href=https://colab.research.google.com/notebooks/data_table.ipynb>data table notebook</a>'\n",
              "            + ' to learn more about interactive tables.';\n",
              "          element.innerHTML = '';\n",
              "          dataTable['output_type'] = 'display_data';\n",
              "          await google.colab.output.renderOutput(dataTable, element);\n",
              "          const docLink = document.createElement('div');\n",
              "          docLink.innerHTML = docLinkHtml;\n",
              "          element.appendChild(docLink);\n",
              "        }\n",
              "      </script>\n",
              "    </div>\n",
              "  </div>\n",
              "  "
            ]
          },
          "metadata": {},
          "execution_count": 12
        }
      ],
      "source": [
        "sample_data"
      ]
    },
    {
      "cell_type": "code",
      "execution_count": null,
      "metadata": {
        "colab": {
          "base_uri": "https://localhost:8080/"
        },
        "id": "gQo8HcXwCBOS",
        "outputId": "3edb93a0-c9cd-4754-8164-f97c5ee889e9"
      },
      "outputs": [
        {
          "output_type": "execute_result",
          "data": {
            "text/plain": [
              "0    831\n",
              "1    169\n",
              "Name: Attrition, dtype: int64"
            ]
          },
          "metadata": {},
          "execution_count": 13
        }
      ],
      "source": [
        "sample_data.Attrition.value_counts()"
      ]
    },
    {
      "cell_type": "markdown",
      "metadata": {
        "id": "_SGKH2bxDibf"
      },
      "source": [
        "#### Entropy at root node"
      ]
    },
    {
      "cell_type": "code",
      "execution_count": null,
      "metadata": {
        "colab": {
          "base_uri": "https://localhost:8080/"
        },
        "id": "BE4jkur1CuEO",
        "outputId": "d606361e-511b-4af1-9d26-737242e6f3d6"
      },
      "outputs": [
        {
          "output_type": "execute_result",
          "data": {
            "text/plain": [
              "0.6554120789588516"
            ]
          },
          "metadata": {},
          "execution_count": 14
        }
      ],
      "source": [
        "entropy(sample_data.Attrition)"
      ]
    },
    {
      "cell_type": "markdown",
      "metadata": {
        "id": "B3nMZ_FHDpRK"
      },
      "source": [
        "#### Weighted entropy of child for Gender"
      ]
    },
    {
      "cell_type": "code",
      "execution_count": null,
      "metadata": {
        "colab": {
          "base_uri": "https://localhost:8080/"
        },
        "id": "Avr8hABYC1eQ",
        "outputId": "41c3c2a5-5b7f-4539-e5bb-74091cc90cf0"
      },
      "outputs": [
        {
          "output_type": "execute_result",
          "data": {
            "text/plain": [
              "0.6554087812684072"
            ]
          },
          "metadata": {},
          "execution_count": 15
        }
      ],
      "source": [
        "calculate_weighted_entropy(sample_data.Gender, sample_data.Attrition)"
      ]
    },
    {
      "cell_type": "markdown",
      "metadata": {
        "id": "TAYPxWcXDtuY"
      },
      "source": [
        "#### Information Gain for Gender"
      ]
    },
    {
      "cell_type": "code",
      "execution_count": null,
      "metadata": {
        "colab": {
          "base_uri": "https://localhost:8080/"
        },
        "id": "JwrQl7l9DDeg",
        "outputId": "b742863a-494f-43c6-bfbd-60dfc14b2eb5"
      },
      "outputs": [
        {
          "output_type": "execute_result",
          "data": {
            "text/plain": [
              "3.2976904443815513e-06"
            ]
          },
          "metadata": {},
          "execution_count": 16
        }
      ],
      "source": [
        "information_gain(sample_data.Gender,sample_data.Attrition)"
      ]
    },
    {
      "cell_type": "markdown",
      "metadata": {
        "id": "_EvvgR45DzrO"
      },
      "source": [
        "#### Comparing Information gain for features"
      ]
    },
    {
      "cell_type": "code",
      "execution_count": null,
      "metadata": {
        "id": "dwrRQ_CkDLX2",
        "colab": {
          "base_uri": "https://localhost:8080/"
        },
        "outputId": "66770aea-2e3c-4cd7-a802-84879ad33308"
      },
      "outputs": [
        {
          "output_type": "stream",
          "name": "stdout",
          "text": [
            "Information Gain for feature Gender is 3.2976904443815513e-06\n",
            "Information Gain for feature Age_less_35 is 0.021463064919737374\n",
            "Information Gain for feature JobRole is 0.05429906805101914\n"
          ]
        }
      ],
      "source": [
        "for feature in sample_data.columns[:-1]:\n",
        "    print(f'Information Gain for feature {feature} is {information_gain(sample_data[feature],sample_data.Attrition)}')"
      ]
    },
    {
      "cell_type": "markdown",
      "metadata": {
        "id": "c9B5pIIGC6Ws"
      },
      "source": [
        "# **Gini - Impurity / Gini Index**"
      ]
    },
    {
      "cell_type": "markdown",
      "metadata": {
        "id": "n7TpitsYBqkU"
      },
      "source": [
        "#### **Issue with Entropy**\n",
        "\n",
        "Entropy is defined as $H(Y) = - ∑_{i=1}^k p(y_i)log(p(y_i))$\n",
        "\n",
        "Issue with Entropy is that we have to take log of probability.\n",
        "- log is computationally expensive \n",
        "- We have to calculate entropy for each feature at each node\n",
        "- This becomes time consuming.\n",
        "\n",
        "#### How to resolve this issue?\n",
        "\n",
        "We introduce **Gini Impurity** to fix this issue"
      ]
    },
    {
      "cell_type": "markdown",
      "metadata": {
        "id": "5hlISRDXEP0o"
      },
      "source": [
        "Gini impurity is also a measure like entropy which is used to measure purity\n",
        "\n",
        "Let **GI** be **gini impurity**\n",
        "* Gini Impurity of random variable Y is given by \n",
        " * GI(Y) = $1-∑_{i=1}^k(p(y_i)^2)$\n",
        " * For a binary classification:\n",
        "   * GI(y) = $1-[(p(y_i=1))^2+(p(y_i=0))^2]$\n",
        "\n"
      ]
    },
    {
      "cell_type": "markdown",
      "metadata": {
        "id": "jwSOElN6GOFt"
      },
      "source": [
        "\n",
        "<img src='https://drive.google.com/uc?id=18K19yOplDDUg3K-LGH6X16h_atSOgrbE'>\n"
      ]
    },
    {
      "cell_type": "markdown",
      "metadata": {
        "id": "lKBlxYX6LkAT"
      },
      "source": [
        "\n",
        "<img src='https://drive.google.com/uc?id=1wxHEHlGsH9K8q9G75csdSWr1DUtkM4mJ'>\n",
        "\n"
      ]
    },
    {
      "cell_type": "markdown",
      "metadata": {
        "id": "CNtD_CGlGUtp"
      },
      "source": [
        "### How Gini-Impurity compares with entropy?\n",
        "\n",
        "Let's see how Gini impurity behaves under various conditions"
      ]
    },
    {
      "cell_type": "markdown",
      "metadata": {
        "id": "1KGDXKZDGkTD"
      },
      "source": [
        "#### Case 1:\n",
        "\n",
        " let p($y_+$) be 0.5 and  p($y_-$) be 0.5\n",
        "- Here the entropy will be high\n",
        "    - Entropy = 1\n",
        "\n",
        "#### What will be Gini impurity in this case?\n",
        "\n",
        "- GI = 1 - (0.25 + 0.25) = 0.5"
      ]
    },
    {
      "cell_type": "markdown",
      "metadata": {
        "id": "aPzCFuKlJCcA"
      },
      "source": [
        "\n",
        "<img src='https://drive.google.com/uc?id=1t-MX5z2kAdvqA0hMOcgZlI3DNm8k1P5h'>\n"
      ]
    },
    {
      "cell_type": "markdown",
      "metadata": {
        "id": "ctVsczzoHhGI"
      },
      "source": [
        "#### Case 2\n",
        "\n",
        "let p($y_+$) be 1 and  p($y_-$) be 0\n",
        "\n",
        "#### Question: What will be entropy in this case?\n",
        "Ans: Entropy will be 0\n",
        "\n",
        "#### What will be Gini Impurity? \n",
        "* GI(Y) = 1 - (1 + 0) = 0\n",
        "\n"
      ]
    },
    {
      "cell_type": "markdown",
      "metadata": {
        "id": "tnSSkc-CJx7o"
      },
      "source": [
        "\n",
        "<img src='https://drive.google.com/uc?id=1ugbQnYUnB_ROmyK3ykYjKMeFPzVSIIZ_'>\n"
      ]
    },
    {
      "cell_type": "markdown",
      "metadata": {
        "id": "oa8ubKf-HxyT"
      },
      "source": [
        "From the above two examples we can see that\n",
        "-  Gini-Impurity is high when entropy is high\n",
        "- it is low when the entropy is low\n",
        "\n",
        "Let's plot the graph of Entropy as well as Gini Impurity:\n",
        "\n",
        "Notice that, \n",
        "\n",
        "1. When the **nodes are pure** i.e for\n",
        "    - if p($y_+$) = 1 and p($y_-$) = 0, or\n",
        "    - if p($y_+$) = 0 and p($y_-$) = 1\n",
        "\n",
        "**the Entropy and Gini-Impurity are zero**\n",
        "\n",
        "2. when the **probability of p($y_+) =\\frac{1}{2}$ and p($y_-)=\\frac{1}{2}$**\n",
        "    -  **the entropy and Gini- Impurity are maximum**\n",
        "\n",
        "* So, we can conclude that Gini-Impurity has same behaviour as entropy.\n",
        "  "
      ]
    },
    {
      "cell_type": "markdown",
      "metadata": {
        "id": "ccCZ0LltIGrh"
      },
      "source": [
        "\n",
        "<img src='https://drive.google.com/uc?id=1ei3q-Wt-Ts9_9BEV_FOKJZ1rqH68X3ck'>"
      ]
    },
    {
      "cell_type": "markdown",
      "metadata": {
        "id": "MNdMpd8fMw2_"
      },
      "source": [
        "\n",
        "### **Question: How do we calculate Information Gain using Gini Impurity?** \n",
        "\n",
        "* We can get Information gain by using Gini-Impurity also,\n",
        " \n",
        "**Information Gain = GI(Gini Impurity) of parent node - Weighted GI of the child nodes**"
      ]
    },
    {
      "cell_type": "markdown",
      "metadata": {
        "id": "BRLdD6xPVS-Q"
      },
      "source": [
        "### Code Walkthrough"
      ]
    },
    {
      "cell_type": "markdown",
      "metadata": {
        "id": "igGrSdjOE9bd"
      },
      "source": [
        "#### Gini Impurity"
      ]
    },
    {
      "cell_type": "code",
      "execution_count": null,
      "metadata": {
        "id": "ZnXguOWCD6yp"
      },
      "outputs": [],
      "source": [
        "def gini_impurity(y):\n",
        "    \n",
        "  if isinstance(y, pd.Series):\n",
        "    p = y.value_counts()/y.shape[0]\n",
        "    gini = 1-np.sum(p**2)\n",
        "    return gini\n",
        "\n",
        "  else:\n",
        "    raise('Object must be a Pandas Series.')"
      ]
    },
    {
      "cell_type": "code",
      "execution_count": null,
      "metadata": {
        "id": "je4xU5JZGth7",
        "colab": {
          "base_uri": "https://localhost:8080/"
        },
        "outputId": "289303ef-7b2b-402f-9515-38f87ab1f648"
      },
      "outputs": [
        {
          "output_type": "execute_result",
          "data": {
            "text/plain": [
              "0.28087799999999996"
            ]
          },
          "metadata": {},
          "execution_count": 19
        }
      ],
      "source": [
        "gini_impurity(sample_data.Attrition)"
      ]
    },
    {
      "cell_type": "markdown",
      "metadata": {
        "id": "lQmRJwaPHavh"
      },
      "source": [
        "#### Weighted Gini impurity for child node"
      ]
    },
    {
      "cell_type": "code",
      "execution_count": null,
      "metadata": {
        "id": "yGSoX93wGLK9"
      },
      "outputs": [],
      "source": [
        "def calculate_weighted_gini(feature, y):\n",
        "    categories = feature.unique()\n",
        "\n",
        "    weighted_gini_impurity = 0\n",
        "\n",
        "    for category in categories:\n",
        "        y_category = y[feature == category]\n",
        "        gini_impurity_category = gini_impurity(y_category)\n",
        "        # print(category)\n",
        "        # print(gini_impurity_category)\n",
        "        weighted_gini_impurity += y_category.shape[0]/y.shape[0]*gini_impurity_category\n",
        "\n",
        "    \n",
        "    return weighted_gini_impurity"
      ]
    },
    {
      "cell_type": "code",
      "execution_count": null,
      "metadata": {
        "id": "ZOVzVT1eG3oM",
        "colab": {
          "base_uri": "https://localhost:8080/"
        },
        "outputId": "5193a97e-3fa5-4cd8-a3f6-4b245e77ebd4"
      },
      "outputs": [
        {
          "output_type": "execute_result",
          "data": {
            "text/plain": [
              "0.2724771918985819"
            ]
          },
          "metadata": {},
          "execution_count": 21
        }
      ],
      "source": [
        "calculate_weighted_gini(sample_data.Age_less_35, sample_data.Attrition)"
      ]
    },
    {
      "cell_type": "markdown",
      "metadata": {
        "id": "27k6uTUWHeA3"
      },
      "source": [
        "#### Information Gain"
      ]
    },
    {
      "cell_type": "code",
      "execution_count": null,
      "metadata": {
        "id": "2ctCHgPXGl1z"
      },
      "outputs": [],
      "source": [
        "def information_gain(feature,y):\n",
        "    parent_gini = gini_impurity(y)\n",
        "\n",
        "    child_gini = calculate_weighted_gini(feature,y)\n",
        "\n",
        "    ig = parent_gini - child_gini\n",
        "\n",
        "    return ig"
      ]
    },
    {
      "cell_type": "code",
      "execution_count": null,
      "metadata": {
        "id": "7OvjWrkiG_Ui",
        "colab": {
          "base_uri": "https://localhost:8080/"
        },
        "outputId": "bc8532ae-a02e-4ef8-d26f-0f986345fec9"
      },
      "outputs": [
        {
          "output_type": "execute_result",
          "data": {
            "text/plain": [
              "0.008400808101418078"
            ]
          },
          "metadata": {},
          "execution_count": 23
        }
      ],
      "source": [
        "information_gain(sample_data.Age_less_35, sample_data.Attrition)"
      ]
    },
    {
      "cell_type": "code",
      "execution_count": null,
      "metadata": {
        "id": "gClu53cbGofZ",
        "colab": {
          "base_uri": "https://localhost:8080/"
        },
        "outputId": "30a4aa2b-695f-4c8f-954f-c121d897e597"
      },
      "outputs": [
        {
          "output_type": "stream",
          "name": "stdout",
          "text": [
            "Information Gain for feature Gender is 1.2832567979348397e-06\n",
            "Information Gain for feature Age_less_35 is 0.008400808101418078\n",
            "Information Gain for feature JobRole is 0.020654039636781696\n"
          ]
        }
      ],
      "source": [
        "for feature in sample_data.columns[:-1]:\n",
        "    print(f'Information Gain for feature {feature} is {information_gain(sample_data[feature],sample_data.Attrition)}')"
      ]
    },
    {
      "cell_type": "markdown",
      "metadata": {
        "id": "MNYFC_g_YV10"
      },
      "source": [
        "# **Code for Decision Tree - sklearn**\n",
        "\n",
        "\n"
      ]
    },
    {
      "cell_type": "markdown",
      "metadata": {
        "id": "-eIcRvVNiqpV"
      },
      "source": [
        "Now, let's try to classify our data using Decision Tree"
      ]
    },
    {
      "cell_type": "code",
      "execution_count": null,
      "metadata": {
        "id": "jHOHU8VSip85"
      },
      "outputs": [],
      "source": [
        "from sklearn.tree import DecisionTreeClassifier\n",
        "tree_clf = DecisionTreeClassifier(random_state=42)"
      ]
    },
    {
      "cell_type": "code",
      "source": [
        "# Train on training data\n",
        "tree_clf.fit(X_sm,y_sm)\n",
        "\n",
        "# predict on test data\n",
        "tree_clf.score(X_test,y_test)"
      ],
      "metadata": {
        "id": "DDs4NfvKrYsb",
        "colab": {
          "base_uri": "https://localhost:8080/"
        },
        "outputId": "e3f7a192-cf19-4496-835f-6c1b72f02a1b"
      },
      "execution_count": null,
      "outputs": [
        {
          "output_type": "execute_result",
          "data": {
            "text/plain": [
              "0.7635869565217391"
            ]
          },
          "metadata": {},
          "execution_count": 26
        }
      ]
    },
    {
      "cell_type": "markdown",
      "metadata": {
        "id": "-aLyaPSDi5wv"
      },
      "source": [
        "#### How can we define the performance of our model?\n",
        "\n",
        "- **Classification Accuracy**:\\\n",
        "Number of correct predictions made out of all predictions made.\n",
        "\n",
        "#### But is using accuracy enough ?\n",
        "  - We made our **dataset balanced** using oversampling\n",
        "  - There is no preference for any class\n",
        "  - This implies, accuracy in itself is enough for estimating model's performance\n",
        "\n",
        "We will also be using k-fold CV for training our model\n",
        "\n",
        "Recall the benefits of using CV\n",
        "\n"
      ]
    },
    {
      "cell_type": "code",
      "execution_count": null,
      "metadata": {
        "id": "UzsPVasXi9f_",
        "colab": {
          "base_uri": "https://localhost:8080/"
        },
        "outputId": "3946016a-7316-4a46-9a07-1d76c328a835"
      },
      "outputs": [
        {
          "output_type": "stream",
          "name": "stdout",
          "text": [
            "K-Fold Accuracy Mean: Train: 100.0 Validation: 83.6680376028202\n",
            "K-Fold Accuracy Std: Train: 0.0 Validation: 7.9089676612890765\n"
          ]
        }
      ],
      "source": [
        "from sklearn.model_selection import KFold, cross_validate\n",
        "\n",
        "kfold = KFold(n_splits=10)\n",
        "cv_acc_results = cross_validate(tree_clf, X_sm, y_sm, cv = kfold, scoring = 'accuracy', return_train_score = True)\n",
        "\n",
        "print(f\"K-Fold Accuracy Mean: Train: {cv_acc_results['train_score'].mean()*100} Validation: {cv_acc_results['test_score'].mean()*100}\")\n",
        "print(f\"K-Fold Accuracy Std: Train: {cv_acc_results['train_score'].std()*100} Validation: {cv_acc_results['test_score'].std()*100}\")"
      ]
    },
    {
      "cell_type": "markdown",
      "metadata": {
        "id": "RXQnGdidjA7t"
      },
      "source": [
        "#### What can we say from this info ?\n",
        "\n",
        "- There's a big difference in accuracy of training data and val data\n",
        "- So, **model is clearly overfitting the data**\n",
        "\n",
        "#### But why is this happening ?\n",
        "  - To understand this lets understand when does Decision Tree overfit/underfit"
      ]
    },
    {
      "cell_type": "code",
      "source": [
        "from sklearn.tree import plot_tree\n",
        "\n",
        "#plotting till depth of Tree = 2\n",
        "plt.figure(figsize=(12,12))\n",
        "plot_tree(tree_clf,max_depth = 2, filled=True);"
      ],
      "metadata": {
        "id": "w_R6OE8Orvh6",
        "colab": {
          "base_uri": "https://localhost:8080/",
          "height": 683
        },
        "outputId": "89f40e48-baa4-48e9-c695-8d8c837196e0"
      },
      "execution_count": null,
      "outputs": [
        {
          "output_type": "display_data",
          "data": {
            "text/plain": [
              "<Figure size 864x864 with 1 Axes>"
            ],
            "image/png": "[encoded data removed]"
          },
          "metadata": {
            "needs_background": "light"
          }
        }
      ]
    },
    {
      "cell_type": "markdown",
      "source": [
        "#**Stopping Criteria**"
      ],
      "metadata": {
        "id": "1JswjN2v5I_H"
      }
    },
    {
      "cell_type": "markdown",
      "source": [
        "#### **Question: What should be the stopping criteria to prevent the growth of a Decision Tree?**\n",
        "\n",
        "Ans: there are three major criteria for preventing growth of Decision Tree\n",
        "\n",
        "1. Number of datapoints in the node is less than some pre-specified limit\n",
        "    - e.g if a particular node has datapoints less than 20\n",
        "\n",
        "\n",
        "2. Purity of the node is more than some pre-specified limit. \n",
        "\n",
        "3. Depth of the node is more than some pre-specified limit.\n",
        "\n"
      ],
      "metadata": {
        "id": "9sDk1k_Tr9FB"
      }
    }
  ],
  "metadata": {
    "colab": {
      "collapsed_sections": [],
      "name": "Notes-DecisionTrees-2.ipynb",
      "provenance": []
    },
    "kernelspec": {
      "display_name": "Python 3",
      "name": "python3"
    },
    "language_info": {
      "name": "python"
    }
  },
  "nbformat": 4,
  "nbformat_minor": 0
}