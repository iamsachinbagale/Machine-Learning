{
 "cells": [
  {
   "cell_type": "code",
   "execution_count": 2,
   "id": "66820bdf",
   "metadata": {},
   "outputs": [],
   "source": [
    "import numpy as np\n",
    "import pandas as pd"
   ]
  },
  {
   "cell_type": "code",
   "execution_count": 3,
   "id": "9e4cc305",
   "metadata": {},
   "outputs": [
    {
     "data": {
      "text/plain": [
       "(1000, 4)"
      ]
     },
     "execution_count": 3,
     "metadata": {},
     "output_type": "execute_result"
    }
   ],
   "source": [
    "sample_data = pd.read_csv('sample_data.csv')\n",
    "sample_data.shape"
   ]
  },
  {
   "cell_type": "code",
   "execution_count": 4,
   "id": "51a6f226",
   "metadata": {},
   "outputs": [
    {
     "data": {
      "text/html": [
       "<div>\n",
       "<style scoped>\n",
       "    .dataframe tbody tr th:only-of-type {\n",
       "        vertical-align: middle;\n",
       "    }\n",
       "\n",
       "    .dataframe tbody tr th {\n",
       "        vertical-align: top;\n",
       "    }\n",
       "\n",
       "    .dataframe thead th {\n",
       "        text-align: right;\n",
       "    }\n",
       "</style>\n",
       "<table border=\"1\" class=\"dataframe\">\n",
       "  <thead>\n",
       "    <tr style=\"text-align: right;\">\n",
       "      <th></th>\n",
       "      <th>Gender</th>\n",
       "      <th>Age_less_35</th>\n",
       "      <th>JobRole</th>\n",
       "      <th>Attrition</th>\n",
       "    </tr>\n",
       "  </thead>\n",
       "  <tbody>\n",
       "    <tr>\n",
       "      <th>0</th>\n",
       "      <td>Male</td>\n",
       "      <td>True</td>\n",
       "      <td>Laboratory Technician</td>\n",
       "      <td>0</td>\n",
       "    </tr>\n",
       "    <tr>\n",
       "      <th>1</th>\n",
       "      <td>Male</td>\n",
       "      <td>False</td>\n",
       "      <td>Sales Executive</td>\n",
       "      <td>1</td>\n",
       "    </tr>\n",
       "    <tr>\n",
       "      <th>2</th>\n",
       "      <td>Male</td>\n",
       "      <td>True</td>\n",
       "      <td>Sales Representative</td>\n",
       "      <td>1</td>\n",
       "    </tr>\n",
       "    <tr>\n",
       "      <th>3</th>\n",
       "      <td>Female</td>\n",
       "      <td>False</td>\n",
       "      <td>Healthcare Representative</td>\n",
       "      <td>0</td>\n",
       "    </tr>\n",
       "    <tr>\n",
       "      <th>4</th>\n",
       "      <td>Male</td>\n",
       "      <td>True</td>\n",
       "      <td>Sales Executive</td>\n",
       "      <td>0</td>\n",
       "    </tr>\n",
       "  </tbody>\n",
       "</table>\n",
       "</div>"
      ],
      "text/plain": [
       "   Gender  Age_less_35                    JobRole  Attrition\n",
       "0    Male         True      Laboratory Technician          0\n",
       "1    Male        False            Sales Executive          1\n",
       "2    Male         True       Sales Representative          1\n",
       "3  Female        False  Healthcare Representative          0\n",
       "4    Male         True            Sales Executive          0"
      ]
     },
     "execution_count": 4,
     "metadata": {},
     "output_type": "execute_result"
    }
   ],
   "source": [
    "sample_data.head()"
   ]
  },
  {
   "cell_type": "code",
   "execution_count": 6,
   "id": "c1f353b7",
   "metadata": {},
   "outputs": [
    {
     "data": {
      "text/plain": [
       "0    0.831\n",
       "1    0.169\n",
       "Name: Attrition, dtype: float64"
      ]
     },
     "execution_count": 6,
     "metadata": {},
     "output_type": "execute_result"
    }
   ],
   "source": [
    "sample_data['Attrition'].value_counts(normalize=True)"
   ]
  },
  {
   "cell_type": "code",
   "execution_count": 8,
   "id": "b3169645",
   "metadata": {},
   "outputs": [
    {
     "data": {
      "text/plain": [
       "0.6554120818442417"
      ]
     },
     "execution_count": 8,
     "metadata": {},
     "output_type": "execute_result"
    }
   ],
   "source": [
    "-(0.831*np.log2(0.831) + 0.169*np.log2(0.169))"
   ]
  },
  {
   "cell_type": "code",
   "execution_count": 13,
   "id": "6bc454f0",
   "metadata": {},
   "outputs": [],
   "source": []
  },
  {
   "cell_type": "code",
   "execution_count": 19,
   "id": "c7e9b1da",
   "metadata": {},
   "outputs": [],
   "source": [
    "def entropy(y):\n",
    "    '''\n",
    "    y should be pandas series.\n",
    "    '''\n",
    "    \n",
    "    p = y.value_counts(normalize=True)    \n",
    "    ent = np.sum(p*np.log2(p + 1e-6))\n",
    "    return - ent"
   ]
  },
  {
   "cell_type": "code",
   "execution_count": 48,
   "id": "b3665642",
   "metadata": {},
   "outputs": [],
   "source": [
    "def gini(y):\n",
    "    '''\n",
    "    y should be pandas series.\n",
    "    '''\n",
    "    \n",
    "    p = y.value_counts(normalize=True)    \n",
    "    gini = 1- np.sum(p**2)\n",
    "    return gini"
   ]
  },
  {
   "cell_type": "code",
   "execution_count": 20,
   "id": "c74cad8b",
   "metadata": {},
   "outputs": [
    {
     "data": {
      "text/plain": [
       "0.6554091964592962"
      ]
     },
     "execution_count": 20,
     "metadata": {},
     "output_type": "execute_result"
    }
   ],
   "source": [
    "entropy(sample_data['Attrition'])"
   ]
  },
  {
   "cell_type": "code",
   "execution_count": 21,
   "id": "7d3d11db",
   "metadata": {},
   "outputs": [
    {
     "data": {
      "text/plain": [
       "array(['Male', 'Female'], dtype=object)"
      ]
     },
     "execution_count": 21,
     "metadata": {},
     "output_type": "execute_result"
    }
   ],
   "source": [
    "sample_data['Gender'].unique()"
   ]
  },
  {
   "cell_type": "code",
   "execution_count": 28,
   "id": "f2450790",
   "metadata": {},
   "outputs": [
    {
     "data": {
      "text/plain": [
       "0.6568511990625896"
      ]
     },
     "execution_count": 28,
     "metadata": {},
     "output_type": "execute_result"
    }
   ],
   "source": [
    "entropy(sample_data['Attrition'][sample_data['Gender'] =='Male'])"
   ]
  },
  {
   "cell_type": "code",
   "execution_count": 29,
   "id": "42d4d8f6",
   "metadata": {},
   "outputs": [],
   "source": [
    "def weighted_entropy(feature, y):\n",
    "    \n",
    "    '''\n",
    "    feature -> gender/age<35 yes or no\n",
    "    y -> series \n",
    "    '''\n",
    "    \n",
    "    categories = feature.unique()\n",
    "    \n",
    "    weighted_ent = 0\n",
    "    \n",
    "    for category in categories:\n",
    "        y_category = y[feature == category]\n",
    "        \n",
    "        entropy_category = entropy(y_category)\n",
    "        \n",
    "        weighted_ent += (len(y_category)/len(y))* entropy_category\n",
    "        \n",
    "    return weighted_ent"
   ]
  },
  {
   "cell_type": "code",
   "execution_count": 31,
   "id": "b7ca65ed",
   "metadata": {},
   "outputs": [
    {
     "data": {
      "text/plain": [
       "0.6554058987688518"
      ]
     },
     "execution_count": 31,
     "metadata": {},
     "output_type": "execute_result"
    }
   ],
   "source": [
    "weighted_entropy(sample_data['Gender'], sample_data['Attrition'])"
   ]
  },
  {
   "cell_type": "code",
   "execution_count": 32,
   "id": "a0d5ecfe",
   "metadata": {},
   "outputs": [
    {
     "data": {
      "text/plain": [
       "0.6339461315402246"
      ]
     },
     "execution_count": 32,
     "metadata": {},
     "output_type": "execute_result"
    }
   ],
   "source": [
    "weighted_entropy(sample_data['Age_less_35'], sample_data['Attrition'])"
   ]
  },
  {
   "cell_type": "code",
   "execution_count": 33,
   "id": "b1049cdc",
   "metadata": {},
   "outputs": [],
   "source": [
    "def information_gain(feature, y):\n",
    "    parent = entropy(y)\n",
    "    child_entropy = weighted_entropy(feature, y)\n",
    "\n",
    "    ig = parent - child_entropy\n",
    "    \n",
    "    return ig"
   ]
  },
  {
   "cell_type": "code",
   "execution_count": 34,
   "id": "106ec73a",
   "metadata": {},
   "outputs": [
    {
     "data": {
      "text/plain": [
       "3.2976904443815513e-06"
      ]
     },
     "execution_count": 34,
     "metadata": {},
     "output_type": "execute_result"
    }
   ],
   "source": [
    "information_gain(sample_data['Gender'], sample_data['Attrition'])"
   ]
  },
  {
   "cell_type": "code",
   "execution_count": 35,
   "id": "b02795cb",
   "metadata": {},
   "outputs": [
    {
     "data": {
      "text/plain": [
       "0.021463064919071573"
      ]
     },
     "execution_count": 35,
     "metadata": {},
     "output_type": "execute_result"
    }
   ],
   "source": [
    "information_gain(sample_data['Age_less_35'], sample_data['Attrition'])"
   ]
  },
  {
   "cell_type": "code",
   "execution_count": 43,
   "id": "1855ad35",
   "metadata": {},
   "outputs": [
    {
     "name": "stdout",
     "output_type": "stream",
     "text": [
      "Information Gain for feature Gender is :    0.0\n",
      "Information Gain for feature Age_less_35 is :    0.02146\n",
      "Information Gain for feature JobRole is :    0.0543\n"
     ]
    }
   ],
   "source": [
    "for feature in sample_data.columns[:-1]:\n",
    "    print(f'Information Gain for feature {feature} is :\\\n",
    "    {information_gain(sample_data[feature],sample_data.Attrition).round(5)}')\n",
    "    \n",
    "    "
   ]
  },
  {
   "cell_type": "code",
   "execution_count": 45,
   "id": "522a4cb8",
   "metadata": {},
   "outputs": [
    {
     "data": {
      "text/plain": [
       "0.5"
      ]
     },
     "execution_count": 45,
     "metadata": {},
     "output_type": "execute_result"
    }
   ],
   "source": [
    "1- (0.5**2 + 0.5**2)"
   ]
  },
  {
   "cell_type": "code",
   "execution_count": 46,
   "id": "7cb2d36d",
   "metadata": {},
   "outputs": [
    {
     "data": {
      "text/plain": [
       "0"
      ]
     },
     "execution_count": 46,
     "metadata": {},
     "output_type": "execute_result"
    }
   ],
   "source": [
    "1- (0**2 + 1**2)"
   ]
  },
  {
   "cell_type": "code",
   "execution_count": 47,
   "id": "a4a121ee",
   "metadata": {},
   "outputs": [
    {
     "data": {
      "text/plain": [
       "0.375"
      ]
     },
     "execution_count": 47,
     "metadata": {},
     "output_type": "execute_result"
    }
   ],
   "source": [
    "1- (0.75**2 + 0.25**2)"
   ]
  },
  {
   "cell_type": "code",
   "execution_count": null,
   "id": "9989ae39",
   "metadata": {},
   "outputs": [],
   "source": []
  }
 ],
 "metadata": {
  "kernelspec": {
   "display_name": "Python 3",
   "language": "python",
   "name": "python3"
  },
  "language_info": {
   "codemirror_mode": {
    "name": "ipython",
    "version": 3
   },
   "file_extension": ".py",
   "mimetype": "text/x-python",
   "name": "python",
   "nbconvert_exporter": "python",
   "pygments_lexer": "ipython3",
   "version": "3.8.8"
  }
 },
 "nbformat": 4,
 "nbformat_minor": 5
}