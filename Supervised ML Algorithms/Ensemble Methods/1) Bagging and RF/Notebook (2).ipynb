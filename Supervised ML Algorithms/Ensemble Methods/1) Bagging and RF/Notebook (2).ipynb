{
 "cells": [
  {
   "cell_type": "code",
   "execution_count": 1,
   "metadata": {
    "id": "P-Lxo64uAmbB"
   },
   "outputs": [],
   "source": [
    "import numpy as np\n",
    "import pandas as pd"
   ]
  },
  {
   "cell_type": "code",
   "execution_count": 2,
   "metadata": {
    "colab": {
     "base_uri": "https://localhost:8080/"
    },
    "id": "0hYYgPR3AjGC",
    "outputId": "b9660e20-a9a3-4179-e79b-b1a877e8cf04"
   },
   "outputs": [
    {
     "name": "stdout",
     "output_type": "stream",
     "text": [
      "Downloading...\n",
      "From: https://drive.google.com/uc?id=16KtxSt_QEGQvfluEaMls5cCHPwhRXgCk\n",
      "To: /content/HR-Employee-Attrition.csv\n",
      "100% 228k/228k [00:00<00:00, 84.1MB/s]\n",
      "Downloading...\n",
      "From: https://drive.google.com/uc?id=19L3rYatfhbBL1r5MHrv-p_oM2wlvrhqk\n",
      "To: /content/preprocessed_X_sm.pickle\n",
      "100% 534k/534k [00:00<00:00, 128MB/s]\n",
      "Downloading...\n",
      "From: https://drive.google.com/uc?id=1OHLKJwA3qZopKPvlKoRldM6BvA1A4dYF\n",
      "To: /content/X_test.pickle\n",
      "100% 111k/111k [00:00<00:00, 76.7MB/s]\n",
      "Downloading...\n",
      "From: https://drive.google.com/uc?id=1N7O_fWCTJLu8SIa_paKcDEzllgpMk8sK\n",
      "To: /content/y_sm.pickle\n",
      "100% 15.4k/15.4k [00:00<00:00, 23.3MB/s]\n",
      "Downloading...\n",
      "From: https://drive.google.com/uc?id=12Bh2AN8LcZAlg20ehpQrEWccUDaSdsOG\n",
      "To: /content/y_test.pickle\n",
      "100% 9.49k/9.49k [00:00<00:00, 10.7MB/s]\n"
     ]
    }
   ],
   "source": [
    "!gdown 16KtxSt_QEGQvfluEaMls5cCHPwhRXgCk\n",
    "!gdown 19L3rYatfhbBL1r5MHrv-p_oM2wlvrhqk\n",
    "!gdown 1OHLKJwA3qZopKPvlKoRldM6BvA1A4dYF\n",
    "!gdown 1N7O_fWCTJLu8SIa_paKcDEzllgpMk8sK\n",
    "!gdown 12Bh2AN8LcZAlg20ehpQrEWccUDaSdsOG"
   ]
  },
  {
   "cell_type": "code",
   "execution_count": 7,
   "metadata": {
    "id": "6bvMW2CnArys"
   },
   "outputs": [],
   "source": [
    "import pickle\n",
    "\n",
    "\n",
    "# Load data (deserialize)\n",
    "\n",
    "\n",
    "with open('preprocessed_X_sm.pickle', 'rb') as handle:\n",
    "    X_sm = pickle.load(handle)\n",
    "\n",
    "with open('y_sm.pickle', 'rb') as handle:\n",
    "    y_sm = pickle.load(handle)\n",
    "\n",
    "with open('X_test.pickle', 'rb') as handle:\n",
    "    X_test = pickle.load(handle)\n",
    "\n",
    "with open('y_test.pickle', 'rb') as handle:\n",
    "    y_test = pickle.load(handle)"
   ]
  },
  {
   "cell_type": "code",
   "execution_count": 6,
   "metadata": {
    "colab": {
     "base_uri": "https://localhost:8080/"
    },
    "id": "JagT5yJiA3WD",
    "outputId": "f20eb758-d246-45d0-98d3-971cfc9047d4"
   },
   "outputs": [
    {
     "name": "stdout",
     "output_type": "stream",
     "text": [
      "K-Fold Accuracy Mean: Train: 83.5 Validation: 80.60000000000001\n"
     ]
    }
   ],
   "source": [
    "# Using the best decision tree model as observed in the last lecture\n",
    "from sklearn.tree import DecisionTreeClassifier\n",
    "from sklearn.model_selection import KFold, cross_validate\n",
    "\n",
    "tree_clf = DecisionTreeClassifier(random_state=7, max_depth = 4)\n",
    "kfold = KFold(n_splits=10)\n",
    "cv_acc_results = cross_validate(tree_clf, X_sm, y_sm, cv = kfold, scoring = 'accuracy', return_train_score = True)\n",
    "\n",
    "print(f\"K-Fold Accuracy Mean: Train: {cv_acc_results['train_score'].mean().round(3)*100} Validation: {cv_acc_results['test_score'].mean().round(3)*100}\")"
   ]
  },
  {
   "cell_type": "markdown",
   "metadata": {
    "id": "V-AG1gQpqzgK"
   },
   "source": [
    "# RandomForest"
   ]
  },
  {
   "cell_type": "code",
   "execution_count": 8,
   "metadata": {
    "id": "rukUD0mvA7IR"
   },
   "outputs": [],
   "source": [
    "from sklearn.ensemble import RandomForestClassifier"
   ]
  },
  {
   "cell_type": "code",
   "execution_count": 24,
   "metadata": {
    "colab": {
     "base_uri": "https://localhost:8080/"
    },
    "id": "02RpgFWmq_IA",
    "outputId": "d23de575-94a6-4961-8992-063d3fc85463"
   },
   "outputs": [
    {
     "name": "stdout",
     "output_type": "stream",
     "text": [
      "K-Fold Accuracy Mean: Train: 94.0 Validation: 88.6\n"
     ]
    }
   ],
   "source": [
    "rfc = RandomForestClassifier(random_state=7, n_estimators=300, max_depth=6)\n",
    "kfold = KFold(n_splits=10)\n",
    "cv_acc_results = cross_validate(rfc, X_sm, y_sm, cv = kfold, scoring = 'accuracy' ,return_train_score = True)\n",
    "\n",
    "print(f\"K-Fold Accuracy Mean: Train: {cv_acc_results['train_score'].mean().round(3)*100} Validation: {cv_acc_results['test_score'].mean().round(3)*100}\")"
   ]
  },
  {
   "cell_type": "code",
   "execution_count": 15,
   "metadata": {
    "colab": {
     "base_uri": "https://localhost:8080/"
    },
    "id": "ZeIRiX4otYOH",
    "outputId": "0f70720f-eb22-48d8-a421-c023decf4aa2"
   },
   "outputs": [
    {
     "data": {
      "text/plain": [
       "RandomForestClassifier(max_depth=6, n_estimators=200, oob_score=True,\n",
       "                       random_state=7)"
      ]
     },
     "execution_count": 15,
     "metadata": {},
     "output_type": "execute_result"
    }
   ],
   "source": [
    "rfc.fit(X_sm, y_sm)"
   ]
  },
  {
   "cell_type": "code",
   "execution_count": 16,
   "metadata": {
    "colab": {
     "base_uri": "https://localhost:8080/"
    },
    "id": "pSSrSuGRr4iy",
    "outputId": "0a889133-ed8c-45cc-8e20-a09b9a038dbc"
   },
   "outputs": [
    {
     "data": {
      "text/plain": [
       "0.8933982683982684"
      ]
     },
     "execution_count": 16,
     "metadata": {},
     "output_type": "execute_result"
    }
   ],
   "source": [
    "rfc.oob_score_"
   ]
  },
  {
   "cell_type": "code",
   "execution_count": 18,
   "metadata": {
    "colab": {
     "base_uri": "https://localhost:8080/"
    },
    "id": "n4IhxCYHtPVD",
    "outputId": "deacf6d5-e2ed-4a3a-e37d-69a44d5ac6b8"
   },
   "outputs": [
    {
     "data": {
      "text/plain": [
       "[DecisionTreeClassifier(max_depth=6, max_features='auto', random_state=327741615),\n",
       " DecisionTreeClassifier(max_depth=6, max_features='auto', random_state=976413892),\n",
       " DecisionTreeClassifier(max_depth=6, max_features='auto',\n",
       "                        random_state=1202242073),\n",
       " DecisionTreeClassifier(max_depth=6, max_features='auto',\n",
       "                        random_state=1369975286)]"
      ]
     },
     "execution_count": 18,
     "metadata": {},
     "output_type": "execute_result"
    }
   ],
   "source": [
    "rfc.estimators_[:4]"
   ]
  },
  {
   "cell_type": "code",
   "execution_count": null,
   "metadata": {
    "id": "dvO8c-8stlZb"
   },
   "outputs": [],
   "source": []
  }
 ],
 "metadata": {
  "colab": {
   "provenance": []
  },
  "kernelspec": {
   "display_name": "Python 3 (ipykernel)",
   "language": "python",
   "name": "python3"
  },
  "language_info": {
   "codemirror_mode": {
    "name": "ipython",
    "version": 3
   },
   "file_extension": ".py",
   "mimetype": "text/x-python",
   "name": "python",
   "nbconvert_exporter": "python",
   "pygments_lexer": "ipython3",
   "version": "3.9.7"
  }
 },
 "nbformat": 4,
 "nbformat_minor": 1
}
