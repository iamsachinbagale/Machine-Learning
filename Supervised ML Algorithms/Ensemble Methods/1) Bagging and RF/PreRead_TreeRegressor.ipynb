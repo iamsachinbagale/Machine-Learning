{
 "cells": [
  {
   "cell_type": "markdown",
   "metadata": {
    "id": "GQIsV22uLa9T"
   },
   "source": [
    "## Content\n",
    "\n",
    "\n",
    "\n",
    "\n",
    "- Regression using Decision Tree\n",
    "\n",
    "\n"
   ]
  },
  {
   "cell_type": "code",
   "execution_count": null,
   "metadata": {
    "id": "WLEr_32hutd0"
   },
   "outputs": [],
   "source": [
    "import numpy as np\n",
    "import pandas as pd\n",
    "import matplotlib.pyplot as plt\n",
    "import io"
   ]
  },
  {
   "cell_type": "markdown",
   "metadata": {
    "id": "Gy621ZV-lYPX"
   },
   "source": [
    "Preprocessed Data"
   ]
  },
  {
   "cell_type": "markdown",
   "metadata": {
    "id": "qthT9V2UBVCb"
   },
   "source": [
    "# **Regression using decision tree**"
   ]
  },
  {
   "cell_type": "markdown",
   "metadata": {
    "id": "RlfrJMoiBg8b"
   },
   "source": [
    "For Classifiaction task,  \n",
    "* We had entropy and Gini Impurity to choose the feature for split. \n",
    "* At leaf node, we had datapoints with $y_i's$ and\n",
    "    - we used class label of **majority data points** to predict the class label for query data point.\n",
    "\n",
    "#### Question: Can we use Entropy or Gini Impurity for regression?\n",
    "NO! Since entropy and GI are functions of probability of class labels.\n",
    "- For regression, we don't have any class labels\n",
    "- We have continous values.\n",
    "\n",
    "\n",
    "Also, we have continous y label in leaf nodes as well. How do we calculate predicted label? \n",
    "\n",
    "**What do we do in the Regression?**\n",
    "*  We take the mean or median of all values in the leaf node and give that value as predicted value ($y_{pred}$).\n",
    "\n"
   ]
  },
  {
   "cell_type": "markdown",
   "metadata": {
    "id": "bXkBdbYpH_ae"
   },
   "source": [
    "\n",
    "<img src='https://drive.google.com/uc?id=18nvTgpEKS4Rhcn4em4hPNgyH1eRLF14Q'>"
   ]
  },
  {
   "cell_type": "markdown",
   "metadata": {
    "id": "njYXMnDqFtom"
   },
   "source": [
    "#### Question: What is the alternative for Entropy? (Hint: Recall Linear Regression)\n",
    "* here, as we saw in linear regression already,we can use **Mean Squared Error or Median Absolute error**\n",
    "\n",
    "Let us assume a data D at root node \n",
    "- along with $y_i$ (continuous) \n",
    "- It is split into D1 and D2 \n",
    "\n",
    "Now we calculate \n",
    "- the MSE of these points in parent node and \n",
    "- the weighted MSE for the child nodes\n",
    "\n",
    "\n",
    "Now, the difference between the MSE of parent node and weighted MSE of child nodes can be used as the criteria.\n",
    " * ΔMSE = (MSE of parent node) $-$ (weighted MSE of child nodes) \n",
    "\n",
    "* MSE is lowest when all $y_i$'s are same and high when they are diverse"
   ]
  },
  {
   "cell_type": "markdown",
   "metadata": {
    "id": "fdr81NSnIKiT"
   },
   "source": [
    "\n",
    "<img src='https://drive.google.com/uc?id=11QnvrLTzCUN0pDEXHb5zXSOTIL_UHV-X'>\n",
    "\n"
   ]
  },
  {
   "cell_type": "markdown",
   "metadata": {
    "id": "VoV9LoyJnPyx"
   },
   "source": [
    "\n",
    "<img src='https://drive.google.com/uc?id=1jGzM-H3p-wgW3_bVga-WMNb_QsF0x5mj'>"
   ]
  },
  {
   "cell_type": "markdown",
   "metadata": {
    "id": "-4QxqIriIiYe"
   },
   "source": [
    "#### **How is MSE calculated?**\n",
    " \n",
    "Let us assume we have a datapoints with target value $y$ \n",
    "* We consider the mean or medain of these points as predicted value i.e $ŷ_i$\n",
    "* Now we calculate the MSE or MAE for these points, this will be the MSE of parent node.\n",
    "* After the data is split \n",
    " * We now consider the mean of all values ($y_i'$) in child node as predicted value $ŷ_i'$\n",
    " * we now calculate the MSE or MAE for these in each child node and then calculate the weighted  MSE of the child nodes.\n",
    "* Then we find the difference and use this as the critearia to be compared among the features to decide the split."
   ]
  },
  {
   "cell_type": "markdown",
   "metadata": {
    "id": "cPDDoE7IL4fA"
   },
   "source": [
    "\n",
    "<img src='https://drive.google.com/uc?id=1J8ifUk-ir3xCSsTRkr855bU0RB_ea-gF'>"
   ]
  },
  {
   "cell_type": "markdown",
   "metadata": {
    "id": "Nlk6WXkCjmIU"
   },
   "source": [
    "### Example\n",
    "\n"
   ]
  },
  {
   "cell_type": "markdown",
   "metadata": {
    "id": "lWBjurg7lb9p"
   },
   "source": [
    "Suppose we have 6 datapoints with two features ($f_1, f_2$)\n",
    "- $f_1$ has categories $C_1, C_2, C_3, C_4$\n",
    "- $f_2$ has categories $D_1, D_2, D_3$\n",
    "- $y_i$'s are 1,2,3,4,5,6 resp.\n",
    "\n",
    "#### Question: What will be the $ŷ$?\n",
    "It'll be mean on the $y_i$'s i.e. 3.5\n",
    "\n",
    "Suppose we are splitting by $f_1$\n",
    "- There will be 4 child nodes as there are 4 categories\n",
    "\n",
    "For category $C_1$\n",
    "- We get 3 datapoints in child node\n",
    "- $ŷ$ will be mean of 1,2,3 i.e. 2\n",
    "\n",
    "For $C_2$\n",
    "- We only got 1 datapoints\n",
    "- MSE for this node will be zero as actual y and predicted y will be same\n",
    "\n",
    "Similarly, we get datapoints in $C_3$ and $C_4$\n",
    "\n",
    "- We calculate MSE for child nodes and then calculate weighted MSE for child nodes\n",
    "- Then, we calculate ΔMSE i.e. MSE parent - weighted MSE of child.\n",
    "\n",
    "\n",
    "#### What does ΔMSE signify?\n",
    "It signifies the reduction in MSE from parent to child.\n",
    "\n",
    "#### What is objective of regression?\n",
    "We want to reduce the MSE as much as possible\n",
    "\n",
    "So, We will pick the feature with highest ΔMSE  for split\n",
    "\n"
   ]
  },
  {
   "cell_type": "markdown",
   "metadata": {
    "id": "2DQHcjpylGih"
   },
   "source": [
    "\n",
    "<img src='https://drive.google.com/uc?id=1TTqz-kAYonTuDkR81BbBW_s4ZT8JxPwF'>"
   ]
  },
  {
   "cell_type": "markdown",
   "metadata": {
    "id": "yq74JxEv_mnT"
   },
   "source": [
    "### Code walkthrough - scratch implementation for threshold"
   ]
  },
  {
   "cell_type": "markdown",
   "metadata": {
    "id": "8KQOk0vEPqzZ"
   },
   "source": [
    "#### Loading data"
   ]
  },
  {
   "cell_type": "code",
   "execution_count": null,
   "metadata": {
    "colab": {
     "base_uri": "https://localhost:8080/"
    },
    "id": "JPB6WtKNPsPS",
    "outputId": "9dfe43c5-9785-496f-9560-a7094a974622"
   },
   "outputs": [
    {
     "name": "stdout",
     "output_type": "stream",
     "text": [
      "Downloading...\n",
      "From: https://drive.google.com/uc?id=176WcJFfaSz3YkO1TiGEg_EqWgJ4YQEwO\n",
      "To: /content/regData.csv\n",
      "\r",
      "  0% 0.00/13.4k [00:00<?, ?B/s]\r",
      "100% 13.4k/13.4k [00:00<00:00, 26.9MB/s]\n"
     ]
    }
   ],
   "source": [
    "!gdown 176WcJFfaSz3YkO1TiGEg_EqWgJ4YQEwO"
   ]
  },
  {
   "cell_type": "code",
   "execution_count": null,
   "metadata": {
    "id": "0ZYXCxGXPv2u"
   },
   "outputs": [],
   "source": [
    "regression_data = pd.read_csv('regData.csv')"
   ]
  },
  {
   "cell_type": "code",
   "execution_count": null,
   "metadata": {
    "colab": {
     "base_uri": "https://localhost:8080/",
     "height": 206
    },
    "id": "va3wGvDHP0kT",
    "outputId": "5146507d-7b52-4645-ee9e-fec20f2d73c5"
   },
   "outputs": [
    {
     "data": {
      "text/html": [
       "\n",
       "  <div id=\"df-a5fad08b-584c-4c00-b1c9-60607dbe2479\">\n",
       "    <div class=\"colab-df-container\">\n",
       "      <div>\n",
       "<style scoped>\n",
       "    .dataframe tbody tr th:only-of-type {\n",
       "        vertical-align: middle;\n",
       "    }\n",
       "\n",
       "    .dataframe tbody tr th {\n",
       "        vertical-align: top;\n",
       "    }\n",
       "\n",
       "    .dataframe thead th {\n",
       "        text-align: right;\n",
       "    }\n",
       "</style>\n",
       "<table border=\"1\" class=\"dataframe\">\n",
       "  <thead>\n",
       "    <tr style=\"text-align: right;\">\n",
       "      <th></th>\n",
       "      <th>X</th>\n",
       "      <th>Y</th>\n",
       "    </tr>\n",
       "  </thead>\n",
       "  <tbody>\n",
       "    <tr>\n",
       "      <th>0</th>\n",
       "      <td>1</td>\n",
       "      <td>1.018138</td>\n",
       "    </tr>\n",
       "    <tr>\n",
       "      <th>1</th>\n",
       "      <td>2</td>\n",
       "      <td>0.813685</td>\n",
       "    </tr>\n",
       "    <tr>\n",
       "      <th>2</th>\n",
       "      <td>3</td>\n",
       "      <td>0.795484</td>\n",
       "    </tr>\n",
       "    <tr>\n",
       "      <th>3</th>\n",
       "      <td>4</td>\n",
       "      <td>0.860005</td>\n",
       "    </tr>\n",
       "    <tr>\n",
       "      <th>4</th>\n",
       "      <td>5</td>\n",
       "      <td>0.990648</td>\n",
       "    </tr>\n",
       "  </tbody>\n",
       "</table>\n",
       "</div>\n",
       "      <button class=\"colab-df-convert\" onclick=\"convertToInteractive('df-a5fad08b-584c-4c00-b1c9-60607dbe2479')\"\n",
       "              title=\"Convert this dataframe to an interactive table.\"\n",
       "              style=\"display:none;\">\n",
       "        \n",
       "  <svg xmlns=\"http://www.w3.org/2000/svg\" height=\"24px\"viewBox=\"0 0 24 24\"\n",
       "       width=\"24px\">\n",
       "    <path d=\"M0 0h24v24H0V0z\" fill=\"none\"/>\n",
       "    <path d=\"M18.56 5.44l.94 2.06.94-2.06 2.06-.94-2.06-.94-.94-2.06-.94 2.06-2.06.94zm-11 1L8.5 8.5l.94-2.06 2.06-.94-2.06-.94L8.5 2.5l-.94 2.06-2.06.94zm10 10l.94 2.06.94-2.06 2.06-.94-2.06-.94-.94-2.06-.94 2.06-2.06.94z\"/><path d=\"M17.41 7.96l-1.37-1.37c-.4-.4-.92-.59-1.43-.59-.52 0-1.04.2-1.43.59L10.3 9.45l-7.72 7.72c-.78.78-.78 2.05 0 2.83L4 21.41c.39.39.9.59 1.41.59.51 0 1.02-.2 1.41-.59l7.78-7.78 2.81-2.81c.8-.78.8-2.07 0-2.86zM5.41 20L4 18.59l7.72-7.72 1.47 1.35L5.41 20z\"/>\n",
       "  </svg>\n",
       "      </button>\n",
       "      \n",
       "  <style>\n",
       "    .colab-df-container {\n",
       "      display:flex;\n",
       "      flex-wrap:wrap;\n",
       "      gap: 12px;\n",
       "    }\n",
       "\n",
       "    .colab-df-convert {\n",
       "      background-color: #E8F0FE;\n",
       "      border: none;\n",
       "      border-radius: 50%;\n",
       "      cursor: pointer;\n",
       "      display: none;\n",
       "      fill: #1967D2;\n",
       "      height: 32px;\n",
       "      padding: 0 0 0 0;\n",
       "      width: 32px;\n",
       "    }\n",
       "\n",
       "    .colab-df-convert:hover {\n",
       "      background-color: #E2EBFA;\n",
       "      box-shadow: 0px 1px 2px rgba(60, 64, 67, 0.3), 0px 1px 3px 1px rgba(60, 64, 67, 0.15);\n",
       "      fill: #174EA6;\n",
       "    }\n",
       "\n",
       "    [theme=dark] .colab-df-convert {\n",
       "      background-color: #3B4455;\n",
       "      fill: #D2E3FC;\n",
       "    }\n",
       "\n",
       "    [theme=dark] .colab-df-convert:hover {\n",
       "      background-color: #434B5C;\n",
       "      box-shadow: 0px 1px 3px 1px rgba(0, 0, 0, 0.15);\n",
       "      filter: drop-shadow(0px 1px 2px rgba(0, 0, 0, 0.3));\n",
       "      fill: #FFFFFF;\n",
       "    }\n",
       "  </style>\n",
       "\n",
       "      <script>\n",
       "        const buttonEl =\n",
       "          document.querySelector('#df-a5fad08b-584c-4c00-b1c9-60607dbe2479 button.colab-df-convert');\n",
       "        buttonEl.style.display =\n",
       "          google.colab.kernel.accessAllowed ? 'block' : 'none';\n",
       "\n",
       "        async function convertToInteractive(key) {\n",
       "          const element = document.querySelector('#df-a5fad08b-584c-4c00-b1c9-60607dbe2479');\n",
       "          const dataTable =\n",
       "            await google.colab.kernel.invokeFunction('convertToInteractive',\n",
       "                                                     [key], {});\n",
       "          if (!dataTable) return;\n",
       "\n",
       "          const docLinkHtml = 'Like what you see? Visit the ' +\n",
       "            '<a target=\"_blank\" href=https://colab.research.google.com/notebooks/data_table.ipynb>data table notebook</a>'\n",
       "            + ' to learn more about interactive tables.';\n",
       "          element.innerHTML = '';\n",
       "          dataTable['output_type'] = 'display_data';\n",
       "          await google.colab.output.renderOutput(dataTable, element);\n",
       "          const docLink = document.createElement('div');\n",
       "          docLink.innerHTML = docLinkHtml;\n",
       "          element.appendChild(docLink);\n",
       "        }\n",
       "      </script>\n",
       "    </div>\n",
       "  </div>\n",
       "  "
      ],
      "text/plain": [
       "   X         Y\n",
       "0  1  1.018138\n",
       "1  2  0.813685\n",
       "2  3  0.795484\n",
       "3  4  0.860005\n",
       "4  5  0.990648"
      ]
     },
     "execution_count": 13,
     "metadata": {},
     "output_type": "execute_result"
    }
   ],
   "source": [
    "regression_data.head()"
   ]
  },
  {
   "cell_type": "code",
   "execution_count": null,
   "metadata": {
    "colab": {
     "base_uri": "https://localhost:8080/"
    },
    "id": "1mK4cJhfR3ee",
    "outputId": "10afab39-d96f-46d7-a097-3dd0702c2b6a"
   },
   "outputs": [
    {
     "name": "stdout",
     "output_type": "stream",
     "text": [
      "<class 'pandas.core.frame.DataFrame'>\n",
      "RangeIndex: 600 entries, 0 to 599\n",
      "Data columns (total 2 columns):\n",
      " #   Column  Non-Null Count  Dtype  \n",
      "---  ------  --------------  -----  \n",
      " 0   X       600 non-null    int64  \n",
      " 1   Y       600 non-null    float64\n",
      "dtypes: float64(1), int64(1)\n",
      "memory usage: 9.5 KB\n"
     ]
    }
   ],
   "source": [
    "regression_data.info()"
   ]
  },
  {
   "cell_type": "markdown",
   "metadata": {
    "id": "utpR6bkXR6_k"
   },
   "source": [
    "Ther are total of 600 datapoints"
   ]
  },
  {
   "cell_type": "code",
   "execution_count": null,
   "metadata": {
    "id": "kMmeGOsVP8gQ"
   },
   "outputs": [],
   "source": [
    "X = regression_data['X']\n",
    "y = regression_data['Y']"
   ]
  },
  {
   "cell_type": "markdown",
   "metadata": {
    "id": "jNGzq8eiP229"
   },
   "source": [
    "#### Plotting data"
   ]
  },
  {
   "cell_type": "code",
   "execution_count": null,
   "metadata": {
    "colab": {
     "base_uri": "https://localhost:8080/",
     "height": 337
    },
    "id": "nTHkauquP4Jq",
    "outputId": "22ededf6-0b41-4989-c284-3dbf10f1f430"
   },
   "outputs": [
    {
     "data": {
      "image/png": "[encoded data removed]",
      "text/plain": [
       "<Figure size 1440x720 with 1 Axes>"
      ]
     },
     "metadata": {
      "needs_background": "light"
     },
     "output_type": "display_data"
    }
   ],
   "source": [
    "plt.figure(figsize = (20,10))\n",
    "plt.scatter(X,y)\n",
    "plt.xlabel('X')\n",
    "plt.ylabel('Y')\n",
    "plt.show()"
   ]
  },
  {
   "cell_type": "markdown",
   "metadata": {
    "id": "GPQ39srHQGKQ"
   },
   "source": [
    "#### Splitting data"
   ]
  },
  {
   "cell_type": "code",
   "execution_count": null,
   "metadata": {
    "id": "8ABH44WnQI72"
   },
   "outputs": [],
   "source": [
    "from sklearn.model_selection import train_test_split\n",
    "X_train, X_test, y_train, y_test = train_test_split(X,\n",
    "                                                    y,\n",
    "                                                    test_size=0.25,\n",
    "                                                    random_state=43,\n",
    "                                                    shuffle = True)  "
   ]
  },
  {
   "cell_type": "markdown",
   "metadata": {
    "id": "2Ea_KbxOQLVN"
   },
   "source": [
    "#### Sorting feature to calculate threshold"
   ]
  },
  {
   "cell_type": "code",
   "execution_count": null,
   "metadata": {
    "id": "YPzly2rNQOXM"
   },
   "outputs": [],
   "source": [
    "thresholds = X_train.sort_values().unique()"
   ]
  },
  {
   "cell_type": "code",
   "execution_count": null,
   "metadata": {
    "colab": {
     "base_uri": "https://localhost:8080/"
    },
    "id": "ANI-qZ0cQP-R",
    "outputId": "bcb545c6-520a-4c15-b4f7-a17caa928348"
   },
   "outputs": [
    {
     "data": {
      "text/plain": [
       "array([  1,   2,   4,   5,   6,   7,   8,   9,  10,  11,  14,  15,  17,\n",
       "        19,  20,  21,  22,  23,  24,  26,  27,  28,  29,  30,  31,  32,\n",
       "        33,  34,  35,  37,  38,  39,  40,  41,  42,  43,  44,  45,  46,\n",
       "        47,  50,  51,  52,  53,  54,  55,  56,  57,  59,  60,  61,  63,\n",
       "        65,  66,  67,  71,  73,  74,  75,  76,  77,  78,  79,  80,  81,\n",
       "        82,  84,  85,  86,  87,  88,  89,  90,  92,  93,  94,  95,  96,\n",
       "        98,  99, 100, 101, 102, 103, 105, 107, 108, 109, 110, 111, 112,\n",
       "       113, 114, 115, 116, 117, 119, 121, 123, 125, 126, 127, 129, 130,\n",
       "       132, 133, 134, 135, 136, 137, 138, 141, 147, 148, 149, 150, 152,\n",
       "       153, 154, 155, 156, 157, 158, 159, 160, 161, 162, 163, 164, 165,\n",
       "       168, 169, 170, 171, 172, 173, 174, 176, 178, 180, 182, 183, 185,\n",
       "       188, 189, 190, 194, 195, 198, 199, 200, 201, 202, 203, 205, 208,\n",
       "       209, 210, 212, 213, 214, 216, 217, 219, 220, 221, 223, 225, 226,\n",
       "       227, 228, 230, 231, 233, 235, 237, 238, 240, 241, 242, 243, 244,\n",
       "       245, 246, 247, 249, 253, 254, 255, 256, 258, 259, 260, 263, 264,\n",
       "       266, 267, 268, 269, 270, 273, 274, 275, 276, 277, 278, 279, 280,\n",
       "       281, 282, 283, 284, 288, 290, 291, 293, 296, 297, 299, 300, 301,\n",
       "       302, 304, 305, 306, 307, 308, 310, 313, 314, 315, 317, 318, 320,\n",
       "       321, 322, 323, 324, 325, 326, 328, 330, 331, 332, 333, 334, 337,\n",
       "       339, 341, 342, 344, 345, 346, 347, 349, 350, 351, 352, 353, 355,\n",
       "       356, 357, 358, 360, 361, 363, 365, 366, 368, 369, 371, 374, 375,\n",
       "       377, 379, 380, 382, 383, 384, 385, 386, 388, 389, 390, 391, 392,\n",
       "       396, 397, 399, 400, 401, 402, 404, 405, 406, 407, 408, 409, 410,\n",
       "       411, 412, 413, 414, 415, 416, 417, 418, 419, 420, 421, 422, 423,\n",
       "       424, 425, 427, 428, 430, 431, 432, 433, 434, 435, 436, 437, 438,\n",
       "       439, 441, 444, 445, 446, 448, 449, 450, 451, 452, 453, 454, 455,\n",
       "       456, 457, 458, 459, 460, 461, 464, 465, 466, 467, 468, 469, 470,\n",
       "       473, 474, 475, 476, 477, 479, 481, 483, 485, 487, 488, 489, 490,\n",
       "       491, 492, 493, 495, 497, 498, 499, 500, 501, 502, 503, 504, 505,\n",
       "       507, 509, 510, 511, 512, 513, 514, 515, 516, 517, 518, 519, 520,\n",
       "       523, 524, 525, 527, 528, 532, 533, 534, 535, 536, 537, 539, 541,\n",
       "       542, 543, 544, 545, 546, 547, 548, 549, 551, 552, 553, 554, 555,\n",
       "       558, 561, 562, 563, 564, 568, 569, 570, 571, 572, 573, 575, 576,\n",
       "       577, 578, 579, 580, 581, 582, 583, 584, 586, 587, 588, 589, 590,\n",
       "       591, 592, 594, 595, 596, 597, 599, 600])"
      ]
     },
     "execution_count": 19,
     "metadata": {},
     "output_type": "execute_result"
    }
   ],
   "source": [
    "thresholds"
   ]
  },
  {
   "cell_type": "markdown",
   "metadata": {
    "id": "Dg-cn8ZAPDEr"
   },
   "source": [
    "#### Calculating MSE"
   ]
  },
  {
   "cell_type": "code",
   "execution_count": null,
   "metadata": {
    "id": "rTxqtTdh_oi1"
   },
   "outputs": [],
   "source": [
    "def calculate_MSE(y):\n",
    "    if(y.shape[0] == 0):\n",
    "        return 0\n",
    "\n",
    "    y_pred = np.mean(y)\n",
    "\n",
    "    n = y.shape[0]\n",
    "\n",
    "    mse = np.sum((y - np.mean(y))**2)\n",
    "    mse /= n\n",
    "\n",
    "    return mse"
   ]
  },
  {
   "cell_type": "markdown",
   "metadata": {
    "id": "Sv0bHsK7QSGW"
   },
   "source": [
    "#### Calculating delta MSE"
   ]
  },
  {
   "cell_type": "code",
   "execution_count": null,
   "metadata": {
    "id": "HlH-ynvJPGGI"
   },
   "outputs": [],
   "source": [
    "def calulate_deltaMSE(y,mask):\n",
    "    left_node_count = sum(mask)\n",
    "    total = mask.shape[0]\n",
    "    right_node_count = total - left_node_count\n",
    "\n",
    "    parent_MSE = calculate_MSE(y)\n",
    "\n",
    "    child_MSE = left_node_count/total*calculate_MSE(y[mask]) + right_node_count/total*calculate_MSE(y[~mask])\n",
    "\n",
    "    deltaMSE = parent_MSE - child_MSE\n",
    "\n",
    "    return deltaMSE\n",
    "\n",
    "    "
   ]
  },
  {
   "cell_type": "markdown",
   "metadata": {
    "id": "Xi-KfOePQWmz"
   },
   "source": [
    "#### Calculating best threshold for split"
   ]
  },
  {
   "cell_type": "code",
   "execution_count": null,
   "metadata": {
    "id": "1p60VHdxQWDC"
   },
   "outputs": [],
   "source": [
    "delta_mse_train = []\n",
    "\n",
    "for thr in thresholds:\n",
    "    mask = X_train <= thr\n",
    "\n",
    "    delta_MSE = calulate_deltaMSE(y_train, mask)\n",
    "\n",
    "    delta_mse_train.append(delta_MSE)\n",
    "\n",
    "\n"
   ]
  },
  {
   "cell_type": "code",
   "execution_count": null,
   "metadata": {
    "colab": {
     "base_uri": "https://localhost:8080/"
    },
    "id": "2AVkHVyGQZ1j",
    "outputId": "aade1a60-cd4d-4d0a-a793-b7ed77693c23"
   },
   "outputs": [
    {
     "name": "stdout",
     "output_type": "stream",
     "text": [
      "Best reduction in MSE is 2.539507086209006 is for threshold: 200\n"
     ]
    }
   ],
   "source": [
    "delta_mse_train = np.array(delta_mse_train)\n",
    "\n",
    "print(f'Best reduction in MSE is {delta_mse_train.max()} is for threshold: {thresholds[delta_mse_train.argmax()]}')"
   ]
  },
  {
   "cell_type": "markdown",
   "metadata": {
    "id": "b1Uq-JygWKeZ"
   },
   "source": [
    "#### Note \n",
    "sklearn implementation creates thresholds by taking average of two values.\n",
    "\n",
    "Let's see an example:\n",
    "\n",
    "- Say, we have feature $X_1$ as $[1,2,3,4,5]$.\n",
    "\n",
    "- So, thresholds here will be $[1.5, 2.5, 3.5, 4.5]$\n",
    "\n",
    "- i.e. First threshold will be  $\\frac{1 + 2}{2} = 1.5$\n",
    "\n",
    "- Similarly, second threshold will be $\\frac{2 + 3}{2} = 2.5$\n",
    "\n"
   ]
  },
  {
   "cell_type": "markdown",
   "metadata": {
    "id": "DFQ-xBovQ0WI"
   },
   "source": [
    "### Code walkthrough - sklearn DT regressor"
   ]
  },
  {
   "cell_type": "code",
   "execution_count": null,
   "metadata": {
    "id": "KhnfHislSHhm"
   },
   "outputs": [],
   "source": [
    "from sklearn.tree import DecisionTreeRegressor\n",
    "from sklearn.metrics import mean_squared_error\n",
    "from sklearn.model_selection import KFold, cross_validate"
   ]
  },
  {
   "cell_type": "code",
   "execution_count": null,
   "metadata": {
    "id": "2pGzjOW9Riuk"
   },
   "outputs": [],
   "source": [
    "X_train = X_train.values.reshape(-1,1)"
   ]
  },
  {
   "cell_type": "code",
   "execution_count": null,
   "metadata": {
    "id": "-CWE2y1wR0qm"
   },
   "outputs": [],
   "source": [
    "y_train = y_train.values"
   ]
  },
  {
   "cell_type": "code",
   "execution_count": null,
   "metadata": {
    "colab": {
     "base_uri": "https://localhost:8080/"
    },
    "id": "EEym_a0AQ_SJ",
    "outputId": "5daba3fc-d21a-47bf-fc31-6718e13032d3"
   },
   "outputs": [
    {
     "name": "stdout",
     "output_type": "stream",
     "text": [
      "K-Fold for depth:1 -ve MSE Mean: Train: -157.26203654446752 Validation: -162.90925592378582\n",
      "***************\n",
      "K-Fold for depth:2 -ve MSE Mean: Train: -4.048119079766786 Validation: -13.39989251528687\n",
      "***************\n",
      "K-Fold for depth:3 -ve MSE Mean: Train: -3.9038139450277405 Validation: -13.834955053322545\n",
      "***************\n",
      "K-Fold for depth:5 -ve MSE Mean: Train: -3.7902751186766683 Validation: -13.84652404788459\n",
      "***************\n",
      "K-Fold for depth:6 -ve MSE Mean: Train: -3.783735335389713 Validation: -13.891536196689499\n",
      "***************\n",
      "K-Fold for depth:7 -ve MSE Mean: Train: -3.781426977910967 Validation: -13.896999974822002\n",
      "***************\n",
      "K-Fold for depth:9 -ve MSE Mean: Train: -3.781426977910967 Validation: -13.896999974822002\n",
      "***************\n",
      "K-Fold for depth:11 -ve MSE Mean: Train: -3.781426977910967 Validation: -13.896999974822002\n",
      "***************\n"
     ]
    }
   ],
   "source": [
    "depths = [1,2,3,5,6,7,9,11]\n",
    "kfold = KFold(n_splits=10)\n",
    "for depth in depths:\n",
    "    tree_reg = DecisionTreeRegressor(random_state=7, max_depth = depth, min_samples_split = 10, min_samples_leaf = 20)\n",
    "\n",
    "    cv_acc_results = cross_validate(tree_reg, X_train, y_train, cv = kfold, scoring = 'neg_mean_squared_error', return_train_score = True)\n",
    "\n",
    "    print(f\"K-Fold for depth:{depth} -ve MSE Mean: Train: {cv_acc_results['train_score'].mean()*100} Validation: {cv_acc_results['test_score'].mean()*100}\")\n",
    "    print('***************')"
   ]
  },
  {
   "cell_type": "markdown",
   "metadata": {
    "id": "tpe1tq4MULO-"
   },
   "source": [
    "Notice, The regressor is overfitting\n",
    "- This may be due to the fact that we have low number of datapoints for training.\n",
    "- we can also try playing with hyperparam tuning\n",
    "\n"
   ]
  },
  {
   "cell_type": "markdown",
   "metadata": {
    "id": "Wv7a4Gh2V5lp"
   },
   "source": [
    "#### Visualizing Decision Tree"
   ]
  },
  {
   "cell_type": "code",
   "execution_count": null,
   "metadata": {
    "id": "VadWyMMxTZjq"
   },
   "outputs": [],
   "source": [
    "features = list(regression_data.columns[0])"
   ]
  },
  {
   "cell_type": "code",
   "execution_count": null,
   "metadata": {
    "colab": {
     "base_uri": "https://localhost:8080/"
    },
    "id": "eifwk-npTkzb",
    "outputId": "b6817c1b-d8cd-4220-9c4b-4a9a7941849d"
   },
   "outputs": [
    {
     "data": {
      "text/plain": [
       "DecisionTreeRegressor(max_depth=2, min_samples_split=20, random_state=7)"
      ]
     },
     "execution_count": 30,
     "metadata": {},
     "output_type": "execute_result"
    }
   ],
   "source": [
    "tree_reg = DecisionTreeRegressor(random_state=7, max_depth = 2, min_samples_split = 20 )\n",
    "tree_reg.fit(X_train, y_train)"
   ]
  },
  {
   "cell_type": "code",
   "execution_count": null,
   "metadata": {
    "colab": {
     "base_uri": "https://localhost:8080/",
     "height": 630
    },
    "id": "Y0hISD9NTOtL",
    "outputId": "adca7376-c83a-4da8-dca5-775c61f7bc4f"
   },
   "outputs": [
    {
     "data": {
      "image/png": "[encoded data removed]",
      "text/plain": [
       "<Figure size 864x864 with 1 Axes>"
      ]
     },
     "metadata": {
      "needs_background": "light"
     },
     "output_type": "display_data"
    }
   ],
   "source": [
    "from sklearn.tree import plot_tree\n",
    "\n",
    "\n",
    "plt.figure(figsize=(12,12))\n",
    "plot_tree(tree_reg, filled=True);"
   ]
  },
  {
   "cell_type": "markdown",
   "metadata": {
    "id": "DJ8vc5_HV8QO"
   },
   "source": [
    "#### Visualizing Regression Line"
   ]
  },
  {
   "cell_type": "code",
   "execution_count": null,
   "metadata": {
    "colab": {
     "base_uri": "https://localhost:8080/",
     "height": 450
    },
    "id": "nUWUw1VkVHQf",
    "outputId": "fbe9fbd2-85b9-48e1-d1ed-f3983cb0b7c1"
   },
   "outputs": [
    {
     "data": {
      "image/png": "[encoded data removed]",
      "text/plain": [
       "<Figure size 1080x720 with 1 Axes>"
      ]
     },
     "metadata": {
      "needs_background": "light"
     },
     "output_type": "display_data"
    }
   ],
   "source": [
    "X_grid = np.arange(min(X_train), max(X_train), 0.01)\n",
    "X_grid = X_grid.reshape((len(X_grid), 1))\n",
    "plt.figure(figsize = (15,10))\n",
    "plt.scatter(X_train, y_train, color = 'red', label = 'Training data')\n",
    "plt.scatter (X_test, y_test, color = 'green', label = 'Test data')\n",
    "plt.plot(X_grid, tree_reg.predict(X_grid), color = 'blue')\n",
    "plt.title('Decision Tree Regression')\n",
    "plt.xlabel('X_train') \n",
    "plt.ylabel('Y')\n",
    "plt.legend()\n",
    "plt.show()"
   ]
  }
 ],
 "metadata": {
  "colab": {
   "collapsed_sections": [],
   "provenance": []
  },
  "kernelspec": {
   "display_name": "Python 3 (ipykernel)",
   "language": "python",
   "name": "python3"
  },
  "language_info": {
   "codemirror_mode": {
    "name": "ipython",
    "version": 3
   },
   "file_extension": ".py",
   "mimetype": "text/x-python",
   "name": "python",
   "nbconvert_exporter": "python",
   "pygments_lexer": "ipython3",
   "version": "3.9.7"
  }
 },
 "nbformat": 4,
 "nbformat_minor": 1
}
