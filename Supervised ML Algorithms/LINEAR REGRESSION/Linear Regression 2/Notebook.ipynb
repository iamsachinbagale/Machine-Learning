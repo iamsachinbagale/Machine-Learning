{
 "cells": [
  {
   "cell_type": "code",
   "execution_count": 1,
   "id": "79c2e892",
   "metadata": {},
   "outputs": [],
   "source": [
    "import numpy as np\n",
    "import pandas as pd\n",
    "import matplotlib.pyplot as plt"
   ]
  },
  {
   "cell_type": "code",
   "execution_count": 2,
   "id": "7e56c3da",
   "metadata": {},
   "outputs": [],
   "source": [
    "df = pd.read_csv('cars24-car-price-clean.csv')"
   ]
  },
  {
   "cell_type": "code",
   "execution_count": 3,
   "id": "4df14a19",
   "metadata": {},
   "outputs": [
    {
     "data": {
      "text/plain": [
       "(19820, 18)"
      ]
     },
     "execution_count": 3,
     "metadata": {},
     "output_type": "execute_result"
    }
   ],
   "source": [
    "df.shape"
   ]
  },
  {
   "cell_type": "code",
   "execution_count": 4,
   "id": "1fddf12c",
   "metadata": {},
   "outputs": [
    {
     "data": {
      "text/html": [
       "<div>\n",
       "<style scoped>\n",
       "    .dataframe tbody tr th:only-of-type {\n",
       "        vertical-align: middle;\n",
       "    }\n",
       "\n",
       "    .dataframe tbody tr th {\n",
       "        vertical-align: top;\n",
       "    }\n",
       "\n",
       "    .dataframe thead th {\n",
       "        text-align: right;\n",
       "    }\n",
       "</style>\n",
       "<table border=\"1\" class=\"dataframe\">\n",
       "  <thead>\n",
       "    <tr style=\"text-align: right;\">\n",
       "      <th></th>\n",
       "      <th>selling_price</th>\n",
       "      <th>year</th>\n",
       "      <th>km_driven</th>\n",
       "      <th>mileage</th>\n",
       "      <th>engine</th>\n",
       "      <th>max_power</th>\n",
       "      <th>age</th>\n",
       "      <th>make</th>\n",
       "      <th>model</th>\n",
       "      <th>Individual</th>\n",
       "      <th>Trustmark Dealer</th>\n",
       "      <th>Diesel</th>\n",
       "      <th>Electric</th>\n",
       "      <th>LPG</th>\n",
       "      <th>Petrol</th>\n",
       "      <th>Manual</th>\n",
       "      <th>5</th>\n",
       "      <th>&gt;5</th>\n",
       "    </tr>\n",
       "  </thead>\n",
       "  <tbody>\n",
       "    <tr>\n",
       "      <th>0</th>\n",
       "      <td>-1.111046</td>\n",
       "      <td>-0.801317</td>\n",
       "      <td>1.195828</td>\n",
       "      <td>0.045745</td>\n",
       "      <td>-1.310754</td>\n",
       "      <td>-1.157780</td>\n",
       "      <td>0.801317</td>\n",
       "      <td>-0.433854</td>\n",
       "      <td>-1.125683</td>\n",
       "      <td>1.248892</td>\n",
       "      <td>-0.098382</td>\n",
       "      <td>-0.985275</td>\n",
       "      <td>-0.020095</td>\n",
       "      <td>-0.056917</td>\n",
       "      <td>1.024622</td>\n",
       "      <td>0.495818</td>\n",
       "      <td>0.444503</td>\n",
       "      <td>-0.424728</td>\n",
       "    </tr>\n",
       "    <tr>\n",
       "      <th>1</th>\n",
       "      <td>-0.223944</td>\n",
       "      <td>0.450030</td>\n",
       "      <td>-0.737872</td>\n",
       "      <td>-0.140402</td>\n",
       "      <td>-0.537456</td>\n",
       "      <td>-0.360203</td>\n",
       "      <td>-0.450030</td>\n",
       "      <td>-0.327501</td>\n",
       "      <td>-0.333227</td>\n",
       "      <td>1.248892</td>\n",
       "      <td>-0.098382</td>\n",
       "      <td>-0.985275</td>\n",
       "      <td>-0.020095</td>\n",
       "      <td>-0.056917</td>\n",
       "      <td>1.024622</td>\n",
       "      <td>0.495818</td>\n",
       "      <td>0.444503</td>\n",
       "      <td>-0.424728</td>\n",
       "    </tr>\n",
       "    <tr>\n",
       "      <th>2</th>\n",
       "      <td>-0.915058</td>\n",
       "      <td>-1.426990</td>\n",
       "      <td>0.035608</td>\n",
       "      <td>-0.582501</td>\n",
       "      <td>-0.537456</td>\n",
       "      <td>-0.404885</td>\n",
       "      <td>1.426990</td>\n",
       "      <td>-0.327501</td>\n",
       "      <td>-0.789807</td>\n",
       "      <td>1.248892</td>\n",
       "      <td>-0.098382</td>\n",
       "      <td>-0.985275</td>\n",
       "      <td>-0.020095</td>\n",
       "      <td>-0.056917</td>\n",
       "      <td>1.024622</td>\n",
       "      <td>0.495818</td>\n",
       "      <td>0.444503</td>\n",
       "      <td>-0.424728</td>\n",
       "    </tr>\n",
       "    <tr>\n",
       "      <th>3</th>\n",
       "      <td>-0.892365</td>\n",
       "      <td>-0.801317</td>\n",
       "      <td>-0.409143</td>\n",
       "      <td>0.329620</td>\n",
       "      <td>-0.921213</td>\n",
       "      <td>-0.693085</td>\n",
       "      <td>0.801317</td>\n",
       "      <td>-0.433854</td>\n",
       "      <td>-0.905265</td>\n",
       "      <td>1.248892</td>\n",
       "      <td>-0.098382</td>\n",
       "      <td>-0.985275</td>\n",
       "      <td>-0.020095</td>\n",
       "      <td>-0.056917</td>\n",
       "      <td>1.024622</td>\n",
       "      <td>0.495818</td>\n",
       "      <td>0.444503</td>\n",
       "      <td>-0.424728</td>\n",
       "    </tr>\n",
       "    <tr>\n",
       "      <th>4</th>\n",
       "      <td>-0.182683</td>\n",
       "      <td>0.137194</td>\n",
       "      <td>-0.544502</td>\n",
       "      <td>0.760085</td>\n",
       "      <td>0.042999</td>\n",
       "      <td>0.010435</td>\n",
       "      <td>-0.137194</td>\n",
       "      <td>-0.246579</td>\n",
       "      <td>-0.013096</td>\n",
       "      <td>-0.800710</td>\n",
       "      <td>-0.098382</td>\n",
       "      <td>1.014945</td>\n",
       "      <td>-0.020095</td>\n",
       "      <td>-0.056917</td>\n",
       "      <td>-0.975970</td>\n",
       "      <td>0.495818</td>\n",
       "      <td>0.444503</td>\n",
       "      <td>-0.424728</td>\n",
       "    </tr>\n",
       "  </tbody>\n",
       "</table>\n",
       "</div>"
      ],
      "text/plain": [
       "   selling_price      year  km_driven   mileage    engine  max_power  \\\n",
       "0      -1.111046 -0.801317   1.195828  0.045745 -1.310754  -1.157780   \n",
       "1      -0.223944  0.450030  -0.737872 -0.140402 -0.537456  -0.360203   \n",
       "2      -0.915058 -1.426990   0.035608 -0.582501 -0.537456  -0.404885   \n",
       "3      -0.892365 -0.801317  -0.409143  0.329620 -0.921213  -0.693085   \n",
       "4      -0.182683  0.137194  -0.544502  0.760085  0.042999   0.010435   \n",
       "\n",
       "        age      make     model  Individual  Trustmark Dealer    Diesel  \\\n",
       "0  0.801317 -0.433854 -1.125683    1.248892         -0.098382 -0.985275   \n",
       "1 -0.450030 -0.327501 -0.333227    1.248892         -0.098382 -0.985275   \n",
       "2  1.426990 -0.327501 -0.789807    1.248892         -0.098382 -0.985275   \n",
       "3  0.801317 -0.433854 -0.905265    1.248892         -0.098382 -0.985275   \n",
       "4 -0.137194 -0.246579 -0.013096   -0.800710         -0.098382  1.014945   \n",
       "\n",
       "   Electric       LPG    Petrol    Manual         5        >5  \n",
       "0 -0.020095 -0.056917  1.024622  0.495818  0.444503 -0.424728  \n",
       "1 -0.020095 -0.056917  1.024622  0.495818  0.444503 -0.424728  \n",
       "2 -0.020095 -0.056917  1.024622  0.495818  0.444503 -0.424728  \n",
       "3 -0.020095 -0.056917  1.024622  0.495818  0.444503 -0.424728  \n",
       "4 -0.020095 -0.056917 -0.975970  0.495818  0.444503 -0.424728  "
      ]
     },
     "execution_count": 4,
     "metadata": {},
     "output_type": "execute_result"
    }
   ],
   "source": [
    "df.head()"
   ]
  },
  {
   "cell_type": "code",
   "execution_count": 5,
   "id": "66df4f47",
   "metadata": {},
   "outputs": [],
   "source": [
    "# Uni-variate \n",
    "X = df['max_power'].values\n",
    "\n",
    "# target\n",
    "Y = df['selling_price'].values"
   ]
  },
  {
   "cell_type": "code",
   "execution_count": 6,
   "id": "2812c963",
   "metadata": {},
   "outputs": [
    {
     "data": {
      "text/plain": [
       "(19820,)"
      ]
     },
     "execution_count": 6,
     "metadata": {},
     "output_type": "execute_result"
    }
   ],
   "source": [
    "X.shape"
   ]
  },
  {
   "cell_type": "code",
   "execution_count": 7,
   "id": "7e57aae4",
   "metadata": {},
   "outputs": [
    {
     "data": {
      "text/plain": [
       "1"
      ]
     },
     "execution_count": 7,
     "metadata": {},
     "output_type": "execute_result"
    }
   ],
   "source": [
    "X.ndim"
   ]
  },
  {
   "cell_type": "code",
   "execution_count": 8,
   "id": "ad7d2c87",
   "metadata": {},
   "outputs": [],
   "source": [
    "X = X.reshape(-1,1)"
   ]
  },
  {
   "cell_type": "code",
   "execution_count": 9,
   "id": "863ef423",
   "metadata": {},
   "outputs": [
    {
     "data": {
      "text/plain": [
       "(19820, 1)"
      ]
     },
     "execution_count": 9,
     "metadata": {},
     "output_type": "execute_result"
    }
   ],
   "source": [
    "X.shape"
   ]
  },
  {
   "cell_type": "code",
   "execution_count": 10,
   "id": "8de0e8db",
   "metadata": {},
   "outputs": [
    {
     "data": {
      "text/plain": [
       "2"
      ]
     },
     "execution_count": 10,
     "metadata": {},
     "output_type": "execute_result"
    }
   ],
   "source": [
    "X.ndim"
   ]
  },
  {
   "cell_type": "code",
   "execution_count": 11,
   "id": "f576c160",
   "metadata": {},
   "outputs": [
    {
     "data": {
      "text/plain": [
       "1"
      ]
     },
     "execution_count": 11,
     "metadata": {},
     "output_type": "execute_result"
    }
   ],
   "source": [
    "Y.ndim"
   ]
  },
  {
   "cell_type": "code",
   "execution_count": 12,
   "id": "a948eb38",
   "metadata": {},
   "outputs": [],
   "source": [
    "from sklearn.linear_model import LinearRegression"
   ]
  },
  {
   "cell_type": "code",
   "execution_count": 13,
   "id": "ebc0adce",
   "metadata": {},
   "outputs": [],
   "source": [
    "model = LinearRegression()"
   ]
  },
  {
   "cell_type": "code",
   "execution_count": 14,
   "id": "98567573",
   "metadata": {},
   "outputs": [
    {
     "data": {
      "text/html": [
       "<style>#sk-container-id-1 {color: black;background-color: white;}#sk-container-id-1 pre{padding: 0;}#sk-container-id-1 div.sk-toggleable {background-color: white;}#sk-container-id-1 label.sk-toggleable__label {cursor: pointer;display: block;width: 100%;margin-bottom: 0;padding: 0.3em;box-sizing: border-box;text-align: center;}#sk-container-id-1 label.sk-toggleable__label-arrow:before {content: \"▸\";float: left;margin-right: 0.25em;color: #696969;}#sk-container-id-1 label.sk-toggleable__label-arrow:hover:before {color: black;}#sk-container-id-1 div.sk-estimator:hover label.sk-toggleable__label-arrow:before {color: black;}#sk-container-id-1 div.sk-toggleable__content {max-height: 0;max-width: 0;overflow: hidden;text-align: left;background-color: #f0f8ff;}#sk-container-id-1 div.sk-toggleable__content pre {margin: 0.2em;color: black;border-radius: 0.25em;background-color: #f0f8ff;}#sk-container-id-1 input.sk-toggleable__control:checked~div.sk-toggleable__content {max-height: 200px;max-width: 100%;overflow: auto;}#sk-container-id-1 input.sk-toggleable__control:checked~label.sk-toggleable__label-arrow:before {content: \"▾\";}#sk-container-id-1 div.sk-estimator input.sk-toggleable__control:checked~label.sk-toggleable__label {background-color: #d4ebff;}#sk-container-id-1 div.sk-label input.sk-toggleable__control:checked~label.sk-toggleable__label {background-color: #d4ebff;}#sk-container-id-1 input.sk-hidden--visually {border: 0;clip: rect(1px 1px 1px 1px);clip: rect(1px, 1px, 1px, 1px);height: 1px;margin: -1px;overflow: hidden;padding: 0;position: absolute;width: 1px;}#sk-container-id-1 div.sk-estimator {font-family: monospace;background-color: #f0f8ff;border: 1px dotted black;border-radius: 0.25em;box-sizing: border-box;margin-bottom: 0.5em;}#sk-container-id-1 div.sk-estimator:hover {background-color: #d4ebff;}#sk-container-id-1 div.sk-parallel-item::after {content: \"\";width: 100%;border-bottom: 1px solid gray;flex-grow: 1;}#sk-container-id-1 div.sk-label:hover label.sk-toggleable__label {background-color: #d4ebff;}#sk-container-id-1 div.sk-serial::before {content: \"\";position: absolute;border-left: 1px solid gray;box-sizing: border-box;top: 0;bottom: 0;left: 50%;z-index: 0;}#sk-container-id-1 div.sk-serial {display: flex;flex-direction: column;align-items: center;background-color: white;padding-right: 0.2em;padding-left: 0.2em;position: relative;}#sk-container-id-1 div.sk-item {position: relative;z-index: 1;}#sk-container-id-1 div.sk-parallel {display: flex;align-items: stretch;justify-content: center;background-color: white;position: relative;}#sk-container-id-1 div.sk-item::before, #sk-container-id-1 div.sk-parallel-item::before {content: \"\";position: absolute;border-left: 1px solid gray;box-sizing: border-box;top: 0;bottom: 0;left: 50%;z-index: -1;}#sk-container-id-1 div.sk-parallel-item {display: flex;flex-direction: column;z-index: 1;position: relative;background-color: white;}#sk-container-id-1 div.sk-parallel-item:first-child::after {align-self: flex-end;width: 50%;}#sk-container-id-1 div.sk-parallel-item:last-child::after {align-self: flex-start;width: 50%;}#sk-container-id-1 div.sk-parallel-item:only-child::after {width: 0;}#sk-container-id-1 div.sk-dashed-wrapped {border: 1px dashed gray;margin: 0 0.4em 0.5em 0.4em;box-sizing: border-box;padding-bottom: 0.4em;background-color: white;}#sk-container-id-1 div.sk-label label {font-family: monospace;font-weight: bold;display: inline-block;line-height: 1.2em;}#sk-container-id-1 div.sk-label-container {text-align: center;}#sk-container-id-1 div.sk-container {/* jupyter's `normalize.less` sets `[hidden] { display: none; }` but bootstrap.min.css set `[hidden] { display: none !important; }` so we also need the `!important` here to be able to override the default hidden behavior on the sphinx rendered scikit-learn.org. See: https://github.com/scikit-learn/scikit-learn/issues/21755 */display: inline-block !important;position: relative;}#sk-container-id-1 div.sk-text-repr-fallback {display: none;}</style><div id=\"sk-container-id-1\" class=\"sk-top-container\"><div class=\"sk-text-repr-fallback\"><pre>LinearRegression()</pre><b>In a Jupyter environment, please rerun this cell to show the HTML representation or trust the notebook. <br />On GitHub, the HTML representation is unable to render, please try loading this page with nbviewer.org.</b></div><div class=\"sk-container\" hidden><div class=\"sk-item\"><div class=\"sk-estimator sk-toggleable\"><input class=\"sk-toggleable__control sk-hidden--visually\" id=\"sk-estimator-id-1\" type=\"checkbox\" checked><label for=\"sk-estimator-id-1\" class=\"sk-toggleable__label sk-toggleable__label-arrow\">LinearRegression</label><div class=\"sk-toggleable__content\"><pre>LinearRegression()</pre></div></div></div></div></div>"
      ],
      "text/plain": [
       "LinearRegression()"
      ]
     },
     "execution_count": 14,
     "metadata": {},
     "output_type": "execute_result"
    }
   ],
   "source": [
    "# this is where the entire training happens\n",
    "model.fit(X, Y)"
   ]
  },
  {
   "cell_type": "code",
   "execution_count": 15,
   "id": "516a70e8",
   "metadata": {},
   "outputs": [
    {
     "data": {
      "text/plain": [
       "array([0.77038985])"
      ]
     },
     "execution_count": 15,
     "metadata": {},
     "output_type": "execute_result"
    }
   ],
   "source": [
    "model.coef_"
   ]
  },
  {
   "cell_type": "code",
   "execution_count": 16,
   "id": "1330d319",
   "metadata": {},
   "outputs": [
    {
     "data": {
      "text/plain": [
       "-1.5638257430310868e-16"
      ]
     },
     "execution_count": 16,
     "metadata": {},
     "output_type": "execute_result"
    }
   ],
   "source": [
    "model.intercept_"
   ]
  },
  {
   "cell_type": "code",
   "execution_count": 17,
   "id": "66a1d6cb",
   "metadata": {},
   "outputs": [
    {
     "data": {
      "text/plain": [
       "sklearn.linear_model._base.LinearRegression"
      ]
     },
     "execution_count": 17,
     "metadata": {},
     "output_type": "execute_result"
    }
   ],
   "source": [
    "type(model)"
   ]
  },
  {
   "cell_type": "code",
   "execution_count": 18,
   "id": "0de2d537",
   "metadata": {},
   "outputs": [
    {
     "data": {
      "text/plain": [
       "array([1.5])"
      ]
     },
     "execution_count": 18,
     "metadata": {},
     "output_type": "execute_result"
    }
   ],
   "source": [
    "x_query = np.array([1.5])\n",
    "x_query"
   ]
  },
  {
   "cell_type": "code",
   "execution_count": 19,
   "id": "79aa4d93",
   "metadata": {},
   "outputs": [
    {
     "data": {
      "text/plain": [
       "array([1.15558478])"
      ]
     },
     "execution_count": 19,
     "metadata": {},
     "output_type": "execute_result"
    }
   ],
   "source": [
    "model.predict(x_query.reshape(-1, 1))"
   ]
  },
  {
   "cell_type": "code",
   "execution_count": 20,
   "id": "4c16e011",
   "metadata": {},
   "outputs": [
    {
     "data": {
      "text/plain": [
       "array([-0.89194167, -0.27749684, -0.31191952, -0.5339458 ,  0.00803929])"
      ]
     },
     "execution_count": 20,
     "metadata": {},
     "output_type": "execute_result"
    }
   ],
   "source": [
    "y_pred = model.predict(X)\n",
    "y_pred[:5]"
   ]
  },
  {
   "cell_type": "code",
   "execution_count": 21,
   "id": "7d11f569",
   "metadata": {},
   "outputs": [
    {
     "data": {
      "text/plain": [
       "array([-1.11104589, -0.22394353, -0.91505816, -0.89236484, -0.18268296])"
      ]
     },
     "execution_count": 21,
     "metadata": {},
     "output_type": "execute_result"
    }
   ],
   "source": [
    "Y[:5]"
   ]
  },
  {
   "cell_type": "code",
   "execution_count": 22,
   "id": "c6e98cd8",
   "metadata": {},
   "outputs": [
    {
     "data": {
      "text/plain": [
       "0.5935005280317713"
      ]
     },
     "execution_count": 22,
     "metadata": {},
     "output_type": "execute_result"
    }
   ],
   "source": [
    "model.score(X, Y)"
   ]
  },
  {
   "cell_type": "markdown",
   "id": "6f50b194",
   "metadata": {},
   "source": [
    "# Multiple Linear Regression"
   ]
  },
  {
   "cell_type": "code",
   "execution_count": 70,
   "id": "d7774961",
   "metadata": {},
   "outputs": [],
   "source": [
    "df = pd.read_csv('cars24-car-price-clean.csv')"
   ]
  },
  {
   "cell_type": "code",
   "execution_count": 71,
   "id": "07d771b8",
   "metadata": {},
   "outputs": [
    {
     "data": {
      "text/html": [
       "<div>\n",
       "<style scoped>\n",
       "    .dataframe tbody tr th:only-of-type {\n",
       "        vertical-align: middle;\n",
       "    }\n",
       "\n",
       "    .dataframe tbody tr th {\n",
       "        vertical-align: top;\n",
       "    }\n",
       "\n",
       "    .dataframe thead th {\n",
       "        text-align: right;\n",
       "    }\n",
       "</style>\n",
       "<table border=\"1\" class=\"dataframe\">\n",
       "  <thead>\n",
       "    <tr style=\"text-align: right;\">\n",
       "      <th></th>\n",
       "      <th>selling_price</th>\n",
       "      <th>year</th>\n",
       "      <th>km_driven</th>\n",
       "      <th>mileage</th>\n",
       "      <th>engine</th>\n",
       "      <th>max_power</th>\n",
       "      <th>age</th>\n",
       "      <th>make</th>\n",
       "      <th>model</th>\n",
       "      <th>Individual</th>\n",
       "      <th>Trustmark Dealer</th>\n",
       "      <th>Diesel</th>\n",
       "      <th>Electric</th>\n",
       "      <th>LPG</th>\n",
       "      <th>Petrol</th>\n",
       "      <th>Manual</th>\n",
       "      <th>5</th>\n",
       "      <th>&gt;5</th>\n",
       "    </tr>\n",
       "  </thead>\n",
       "  <tbody>\n",
       "    <tr>\n",
       "      <th>0</th>\n",
       "      <td>-1.111046</td>\n",
       "      <td>-0.801317</td>\n",
       "      <td>1.195828</td>\n",
       "      <td>0.045745</td>\n",
       "      <td>-1.310754</td>\n",
       "      <td>-1.157780</td>\n",
       "      <td>0.801317</td>\n",
       "      <td>-0.433854</td>\n",
       "      <td>-1.125683</td>\n",
       "      <td>1.248892</td>\n",
       "      <td>-0.098382</td>\n",
       "      <td>-0.985275</td>\n",
       "      <td>-0.020095</td>\n",
       "      <td>-0.056917</td>\n",
       "      <td>1.024622</td>\n",
       "      <td>0.495818</td>\n",
       "      <td>0.444503</td>\n",
       "      <td>-0.424728</td>\n",
       "    </tr>\n",
       "    <tr>\n",
       "      <th>1</th>\n",
       "      <td>-0.223944</td>\n",
       "      <td>0.450030</td>\n",
       "      <td>-0.737872</td>\n",
       "      <td>-0.140402</td>\n",
       "      <td>-0.537456</td>\n",
       "      <td>-0.360203</td>\n",
       "      <td>-0.450030</td>\n",
       "      <td>-0.327501</td>\n",
       "      <td>-0.333227</td>\n",
       "      <td>1.248892</td>\n",
       "      <td>-0.098382</td>\n",
       "      <td>-0.985275</td>\n",
       "      <td>-0.020095</td>\n",
       "      <td>-0.056917</td>\n",
       "      <td>1.024622</td>\n",
       "      <td>0.495818</td>\n",
       "      <td>0.444503</td>\n",
       "      <td>-0.424728</td>\n",
       "    </tr>\n",
       "    <tr>\n",
       "      <th>2</th>\n",
       "      <td>-0.915058</td>\n",
       "      <td>-1.426990</td>\n",
       "      <td>0.035608</td>\n",
       "      <td>-0.582501</td>\n",
       "      <td>-0.537456</td>\n",
       "      <td>-0.404885</td>\n",
       "      <td>1.426990</td>\n",
       "      <td>-0.327501</td>\n",
       "      <td>-0.789807</td>\n",
       "      <td>1.248892</td>\n",
       "      <td>-0.098382</td>\n",
       "      <td>-0.985275</td>\n",
       "      <td>-0.020095</td>\n",
       "      <td>-0.056917</td>\n",
       "      <td>1.024622</td>\n",
       "      <td>0.495818</td>\n",
       "      <td>0.444503</td>\n",
       "      <td>-0.424728</td>\n",
       "    </tr>\n",
       "    <tr>\n",
       "      <th>3</th>\n",
       "      <td>-0.892365</td>\n",
       "      <td>-0.801317</td>\n",
       "      <td>-0.409143</td>\n",
       "      <td>0.329620</td>\n",
       "      <td>-0.921213</td>\n",
       "      <td>-0.693085</td>\n",
       "      <td>0.801317</td>\n",
       "      <td>-0.433854</td>\n",
       "      <td>-0.905265</td>\n",
       "      <td>1.248892</td>\n",
       "      <td>-0.098382</td>\n",
       "      <td>-0.985275</td>\n",
       "      <td>-0.020095</td>\n",
       "      <td>-0.056917</td>\n",
       "      <td>1.024622</td>\n",
       "      <td>0.495818</td>\n",
       "      <td>0.444503</td>\n",
       "      <td>-0.424728</td>\n",
       "    </tr>\n",
       "    <tr>\n",
       "      <th>4</th>\n",
       "      <td>-0.182683</td>\n",
       "      <td>0.137194</td>\n",
       "      <td>-0.544502</td>\n",
       "      <td>0.760085</td>\n",
       "      <td>0.042999</td>\n",
       "      <td>0.010435</td>\n",
       "      <td>-0.137194</td>\n",
       "      <td>-0.246579</td>\n",
       "      <td>-0.013096</td>\n",
       "      <td>-0.800710</td>\n",
       "      <td>-0.098382</td>\n",
       "      <td>1.014945</td>\n",
       "      <td>-0.020095</td>\n",
       "      <td>-0.056917</td>\n",
       "      <td>-0.975970</td>\n",
       "      <td>0.495818</td>\n",
       "      <td>0.444503</td>\n",
       "      <td>-0.424728</td>\n",
       "    </tr>\n",
       "  </tbody>\n",
       "</table>\n",
       "</div>"
      ],
      "text/plain": [
       "   selling_price      year  km_driven   mileage    engine  max_power  \\\n",
       "0      -1.111046 -0.801317   1.195828  0.045745 -1.310754  -1.157780   \n",
       "1      -0.223944  0.450030  -0.737872 -0.140402 -0.537456  -0.360203   \n",
       "2      -0.915058 -1.426990   0.035608 -0.582501 -0.537456  -0.404885   \n",
       "3      -0.892365 -0.801317  -0.409143  0.329620 -0.921213  -0.693085   \n",
       "4      -0.182683  0.137194  -0.544502  0.760085  0.042999   0.010435   \n",
       "\n",
       "        age      make     model  Individual  Trustmark Dealer    Diesel  \\\n",
       "0  0.801317 -0.433854 -1.125683    1.248892         -0.098382 -0.985275   \n",
       "1 -0.450030 -0.327501 -0.333227    1.248892         -0.098382 -0.985275   \n",
       "2  1.426990 -0.327501 -0.789807    1.248892         -0.098382 -0.985275   \n",
       "3  0.801317 -0.433854 -0.905265    1.248892         -0.098382 -0.985275   \n",
       "4 -0.137194 -0.246579 -0.013096   -0.800710         -0.098382  1.014945   \n",
       "\n",
       "   Electric       LPG    Petrol    Manual         5        >5  \n",
       "0 -0.020095 -0.056917  1.024622  0.495818  0.444503 -0.424728  \n",
       "1 -0.020095 -0.056917  1.024622  0.495818  0.444503 -0.424728  \n",
       "2 -0.020095 -0.056917  1.024622  0.495818  0.444503 -0.424728  \n",
       "3 -0.020095 -0.056917  1.024622  0.495818  0.444503 -0.424728  \n",
       "4 -0.020095 -0.056917 -0.975970  0.495818  0.444503 -0.424728  "
      ]
     },
     "execution_count": 71,
     "metadata": {},
     "output_type": "execute_result"
    }
   ],
   "source": [
    "df.head()"
   ]
  },
  {
   "cell_type": "code",
   "execution_count": 72,
   "id": "c17c2d2f",
   "metadata": {},
   "outputs": [],
   "source": [
    "X = df.drop('selling_price', axis=1).values"
   ]
  },
  {
   "cell_type": "code",
   "execution_count": 73,
   "id": "37f7c68f",
   "metadata": {},
   "outputs": [
    {
     "data": {
      "text/plain": [
       "(19820, 17)"
      ]
     },
     "execution_count": 73,
     "metadata": {},
     "output_type": "execute_result"
    }
   ],
   "source": [
    "X.shape"
   ]
  },
  {
   "cell_type": "code",
   "execution_count": 74,
   "id": "e494e3cb",
   "metadata": {},
   "outputs": [
    {
     "data": {
      "text/plain": [
       "(19820, 18)"
      ]
     },
     "execution_count": 74,
     "metadata": {},
     "output_type": "execute_result"
    }
   ],
   "source": [
    "ones = np.ones((19820, 1))\n",
    "X_new = np.hstack((ones,X))\n",
    "X_new.shape"
   ]
  },
  {
   "cell_type": "code",
   "execution_count": 75,
   "id": "934d25f1",
   "metadata": {},
   "outputs": [
    {
     "data": {
      "text/plain": [
       "array([[ 1.        , -0.80131654,  1.19582817,  0.04574517, -1.31075443,\n",
       "        -1.15777962,  0.80131654, -0.43385435, -1.12568266,  1.24889206,\n",
       "        -0.09838223, -0.9852749 , -0.02009467, -0.0569168 ,  1.0246219 ,\n",
       "         0.4958182 ,  0.44450319, -0.42472845],\n",
       "       [ 1.        ,  0.45003028, -0.73787208, -0.14040198, -0.53745638,\n",
       "        -0.36020313, -0.45003028, -0.32750073, -0.3332271 ,  1.24889206,\n",
       "        -0.09838223, -0.9852749 , -0.02009467, -0.0569168 ,  1.0246219 ,\n",
       "         0.4958182 ,  0.44450319, -0.42472845]])"
      ]
     },
     "execution_count": 75,
     "metadata": {},
     "output_type": "execute_result"
    }
   ],
   "source": [
    "X_new[:2]"
   ]
  },
  {
   "cell_type": "code",
   "execution_count": 76,
   "id": "fdc8af9d",
   "metadata": {},
   "outputs": [
    {
     "data": {
      "text/plain": [
       "(19820, 1)"
      ]
     },
     "execution_count": 76,
     "metadata": {},
     "output_type": "execute_result"
    }
   ],
   "source": [
    "Y = df['selling_price'].values\n",
    "Y = Y.reshape(-1, 1)\n",
    "Y.shape"
   ]
  },
  {
   "cell_type": "code",
   "execution_count": null,
   "id": "e87db154",
   "metadata": {},
   "outputs": [],
   "source": []
  },
  {
   "cell_type": "code",
   "execution_count": 77,
   "id": "060680af",
   "metadata": {},
   "outputs": [],
   "source": [
    "def hypothesis(X, weights):\n",
    "    '''\n",
    "    X :  (n, d+1)\n",
    "    weights : (d+1, 1)\n",
    "    '''\n",
    "    return np.dot(X, weights)"
   ]
  },
  {
   "cell_type": "code",
   "execution_count": 78,
   "id": "5b646227",
   "metadata": {},
   "outputs": [],
   "source": [
    "def error(X, Y, weights):\n",
    "    '''\n",
    "    X :  (n, d+1)\n",
    "    Y : (n, 1)\n",
    "    weights : (d+1, 1)\n",
    "    '''\n",
    "    Y_hat = hypothesis(X, weights)\n",
    "    err = np.mean((Y - Y_hat)**2)\n",
    "    return err"
   ]
  },
  {
   "cell_type": "code",
   "execution_count": 79,
   "id": "089cfc52",
   "metadata": {},
   "outputs": [],
   "source": [
    "def gradients(X, Y, weights):\n",
    "    Y_hat = hypothesis(X, weights)\n",
    "    grads = np.dot( X.T ,  (Y_hat - Y )   )    \n",
    "    return 2*grads/len(Y)"
   ]
  },
  {
   "cell_type": "code",
   "execution_count": 102,
   "id": "e0798022",
   "metadata": {},
   "outputs": [],
   "source": [
    "def gradient_descent(X, Y, max_itr = 400, learning_rate = 0.01):\n",
    "    \n",
    "    # step 1 : init() randomly\n",
    "    weights = np.zeros((X.shape[1], 1))\n",
    "    error_list = []\n",
    "    \n",
    "    # step 2 repeate until convergence\n",
    "    for i in range(max_itr):\n",
    "        \n",
    "        e = error(X, Y, weights)\n",
    "        error_list.append(e)\n",
    "        \n",
    "        grads = gradients(X, Y, weights)\n",
    "        \n",
    "        weights = weights - learning_rate*grads\n",
    "    \n",
    "        \n",
    "    \n",
    "    return weights, error_list"
   ]
  },
  {
   "cell_type": "code",
   "execution_count": 103,
   "id": "545d2501",
   "metadata": {},
   "outputs": [],
   "source": [
    "opt_weights, error_list = gradient_descent(X_new, Y)"
   ]
  },
  {
   "cell_type": "code",
   "execution_count": 104,
   "id": "c694c6af",
   "metadata": {},
   "outputs": [
    {
     "data": {
      "text/plain": [
       "[<matplotlib.lines.Line2D at 0x1ed8cf2d880>]"
      ]
     },
     "execution_count": 104,
     "metadata": {},
     "output_type": "execute_result"
    },
    {
     "data": {
      "image/png": "[encoded data removed]",
      "text/plain": [
       "<Figure size 432x288 with 1 Axes>"
      ]
     },
     "metadata": {
      "needs_background": "light"
     },
     "output_type": "display_data"
    }
   ],
   "source": [
    "plt.plot(error_list)"
   ]
  },
  {
   "cell_type": "code",
   "execution_count": 39,
   "id": "4352d6c9",
   "metadata": {},
   "outputs": [
    {
     "data": {
      "text/plain": [
       "array([[ 0.  ],\n",
       "       [ 0.11],\n",
       "       [-0.03],\n",
       "       [-0.05],\n",
       "       [ 0.07],\n",
       "       [ 0.13],\n",
       "       [-0.11],\n",
       "       [ 0.18],\n",
       "       [ 0.47],\n",
       "       [-0.02],\n",
       "       [-0.01],\n",
       "       [ 0.04],\n",
       "       [ 0.02],\n",
       "       [ 0.01],\n",
       "       [-0.03],\n",
       "       [-0.07],\n",
       "       [-0.  ],\n",
       "       [ 0.  ]])"
      ]
     },
     "execution_count": 39,
     "metadata": {},
     "output_type": "execute_result"
    }
   ],
   "source": [
    "opt_weights.round(2)"
   ]
  },
  {
   "cell_type": "code",
   "execution_count": 42,
   "id": "81bddfaf",
   "metadata": {},
   "outputs": [
    {
     "data": {
      "text/plain": [
       "array([[0.  ],\n",
       "       [0.11],\n",
       "       [0.03],\n",
       "       [0.05],\n",
       "       [0.07],\n",
       "       [0.13],\n",
       "       [0.11],\n",
       "       [0.18],\n",
       "       [0.47],\n",
       "       [0.02],\n",
       "       [0.01],\n",
       "       [0.04],\n",
       "       [0.02],\n",
       "       [0.01],\n",
       "       [0.03],\n",
       "       [0.07],\n",
       "       [0.  ],\n",
       "       [0.  ]])"
      ]
     },
     "execution_count": 42,
     "metadata": {},
     "output_type": "execute_result"
    }
   ],
   "source": [
    "# feature importances. \n",
    "np.abs(opt_weights.round(2))"
   ]
  },
  {
   "cell_type": "code",
   "execution_count": 22,
   "id": "f5cff5be",
   "metadata": {},
   "outputs": [],
   "source": [
    "y_pred = hypothesis(X_new, opt_weights)"
   ]
  },
  {
   "cell_type": "code",
   "execution_count": 25,
   "id": "ebd71a27",
   "metadata": {},
   "outputs": [
    {
     "data": {
      "text/plain": [
       "array([[-1.20007006],\n",
       "       [-0.3020007 ],\n",
       "       [-0.95360925],\n",
       "       [-0.98039799],\n",
       "       [ 0.01098332]])"
      ]
     },
     "execution_count": 25,
     "metadata": {},
     "output_type": "execute_result"
    }
   ],
   "source": [
    "y_pred[:5]"
   ]
  },
  {
   "cell_type": "code",
   "execution_count": 26,
   "id": "cf3c248e",
   "metadata": {},
   "outputs": [
    {
     "data": {
      "text/plain": [
       "array([[-1.11104589],\n",
       "       [-0.22394353],\n",
       "       [-0.91505816],\n",
       "       [-0.89236484],\n",
       "       [-0.18268296]])"
      ]
     },
     "execution_count": 26,
     "metadata": {},
     "output_type": "execute_result"
    }
   ],
   "source": [
    "Y[:5]"
   ]
  },
  {
   "cell_type": "code",
   "execution_count": 29,
   "id": "c5db2e45",
   "metadata": {},
   "outputs": [],
   "source": [
    "def r2_score(Y, Y_hat):\n",
    "    num =  np.sum((Y - Y_hat)**2)\n",
    "    denom = np.sum((Y - Y.mean() )**2)\n",
    "    return (1 - num/denom)"
   ]
  },
  {
   "cell_type": "code",
   "execution_count": 30,
   "id": "7743c980",
   "metadata": {},
   "outputs": [
    {
     "data": {
      "text/plain": [
       "0.9240707427695862"
      ]
     },
     "execution_count": 30,
     "metadata": {},
     "output_type": "execute_result"
    }
   ],
   "source": [
    "r2_score(Y, y_pred)"
   ]
  },
  {
   "cell_type": "code",
   "execution_count": null,
   "id": "4828322b",
   "metadata": {},
   "outputs": [],
   "source": []
  },
  {
   "cell_type": "code",
   "execution_count": 37,
   "id": "e15ce40a",
   "metadata": {},
   "outputs": [
    {
     "name": "stdout",
     "output_type": "stream",
     "text": [
      "0.9240055575674391\n"
     ]
    }
   ],
   "source": [
    "n = X.shape[0]\n",
    "d = X.shape[1]\n",
    "\n",
    "\n",
    "adj_r2 = 1- ((1- r2_score(Y, y_pred))*(n-1)/ (n-d-1))\n",
    "print(adj_r2)"
   ]
  },
  {
   "cell_type": "code",
   "execution_count": null,
   "id": "e5971069",
   "metadata": {},
   "outputs": [],
   "source": []
  },
  {
   "cell_type": "markdown",
   "id": "271a0b8e",
   "metadata": {},
   "source": [
    "## Avijit's Attempt"
   ]
  },
  {
   "cell_type": "code",
   "execution_count": 98,
   "id": "fe4769e7",
   "metadata": {},
   "outputs": [],
   "source": [
    "def hypothesis(X,Weights):\n",
    "    \n",
    "    return np.dot(X,Weights)\n",
    "\n",
    "def error(X,Y,Weights):\n",
    "    \n",
    "    Y_hat=np.dot(X,Weights)\n",
    "    total_error=np.mean((Y_hat-Y)**2)\n",
    "    return total_error\n",
    "\n",
    "def gradient(X,Y,weights):\n",
    "    \n",
    "    Y_hat=np.dot(X,weights)\n",
    "    gradients=np.dot(X.T,(Y_hat-Y))\n",
    "    return 2*gradients/len(X)\n",
    "\n",
    "def gradient_descent(X,Y,n_iter,learning_rate):\n",
    "    \n",
    "    weights=np.zeros((18,1))\n",
    "    errors=[]\n",
    "    errors.append(error(X,Y,weights))\n",
    "    \n",
    "    for i in range(n_iter):\n",
    "        gradients=gradient(X,Y,weights)\n",
    "        weights-=(gradients*learning_rate)\n",
    "        errors.append(error(X,Y,weights))\n",
    "        \n",
    "    return weights,errors"
   ]
  },
  {
   "cell_type": "code",
   "execution_count": 101,
   "id": "72cfc436",
   "metadata": {},
   "outputs": [
    {
     "data": {
      "image/png": "[encoded data removed]",
      "text/plain": [
       "<Figure size 432x288 with 1 Axes>"
      ]
     },
     "metadata": {
      "needs_background": "light"
     },
     "output_type": "display_data"
    }
   ],
   "source": [
    "n_iter=400\n",
    "learning_rate=0.01\n",
    "weights,errors=gradient_descent(X_,Y,n_iter,learning_rate)\n",
    "plt.plot(range(n_iter+1),errors)\n",
    "plt.show()"
   ]
  },
  {
   "cell_type": "code",
   "execution_count": 94,
   "id": "e92ab2f8",
   "metadata": {},
   "outputs": [
    {
     "data": {
      "text/plain": [
       "array([[0.],\n",
       "       [0.],\n",
       "       [0.],\n",
       "       [0.],\n",
       "       [0.],\n",
       "       [0.],\n",
       "       [0.],\n",
       "       [0.],\n",
       "       [0.],\n",
       "       [0.],\n",
       "       [0.],\n",
       "       [0.],\n",
       "       [0.],\n",
       "       [0.],\n",
       "       [0.],\n",
       "       [0.],\n",
       "       [0.],\n",
       "       [0.]])"
      ]
     },
     "execution_count": 94,
     "metadata": {},
     "output_type": "execute_result"
    }
   ],
   "source": [
    "np.zeros((18,1))"
   ]
  },
  {
   "cell_type": "code",
   "execution_count": null,
   "id": "9cba20a6",
   "metadata": {},
   "outputs": [],
   "source": []
  },
  {
   "cell_type": "code",
   "execution_count": null,
   "id": "db7d390b",
   "metadata": {},
   "outputs": [],
   "source": []
  },
  {
   "cell_type": "code",
   "execution_count": null,
   "id": "f44af337",
   "metadata": {},
   "outputs": [],
   "source": []
  },
  {
   "cell_type": "code",
   "execution_count": null,
   "id": "016c1e08",
   "metadata": {},
   "outputs": [],
   "source": []
  },
  {
   "cell_type": "code",
   "execution_count": null,
   "id": "f370ef3b",
   "metadata": {},
   "outputs": [],
   "source": []
  }
 ],
 "metadata": {
  "kernelspec": {
   "display_name": "Python 3 (ipykernel)",
   "language": "python",
   "name": "python3"
  },
  "language_info": {
   "codemirror_mode": {
    "name": "ipython",
    "version": 3
   },
   "file_extension": ".py",
   "mimetype": "text/x-python",
   "name": "python",
   "nbconvert_exporter": "python",
   "pygments_lexer": "ipython3",
   "version": "3.9.7"
  }
 },
 "nbformat": 4,
 "nbformat_minor": 5
}
