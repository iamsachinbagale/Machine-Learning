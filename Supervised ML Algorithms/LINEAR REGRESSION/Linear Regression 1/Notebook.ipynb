{
 "cells": [
  {
   "cell_type": "code",
   "execution_count": 1,
   "id": "cdda028f",
   "metadata": {},
   "outputs": [],
   "source": [
    "import numpy as np\n",
    "import pandas as pd\n",
    "import matplotlib.pyplot as plt"
   ]
  },
  {
   "cell_type": "code",
   "execution_count": 3,
   "id": "c87268f5",
   "metadata": {},
   "outputs": [],
   "source": [
    "df = pd.read_csv('cars24-car-price-clean.csv')"
   ]
  },
  {
   "cell_type": "code",
   "execution_count": 4,
   "id": "81ba1e1b",
   "metadata": {},
   "outputs": [
    {
     "data": {
      "text/plain": [
       "(19820, 18)"
      ]
     },
     "execution_count": 4,
     "metadata": {},
     "output_type": "execute_result"
    }
   ],
   "source": [
    "df.shape"
   ]
  },
  {
   "cell_type": "code",
   "execution_count": 5,
   "id": "bae19739",
   "metadata": {},
   "outputs": [
    {
     "data": {
      "text/html": [
       "<div>\n",
       "<style scoped>\n",
       "    .dataframe tbody tr th:only-of-type {\n",
       "        vertical-align: middle;\n",
       "    }\n",
       "\n",
       "    .dataframe tbody tr th {\n",
       "        vertical-align: top;\n",
       "    }\n",
       "\n",
       "    .dataframe thead th {\n",
       "        text-align: right;\n",
       "    }\n",
       "</style>\n",
       "<table border=\"1\" class=\"dataframe\">\n",
       "  <thead>\n",
       "    <tr style=\"text-align: right;\">\n",
       "      <th></th>\n",
       "      <th>selling_price</th>\n",
       "      <th>year</th>\n",
       "      <th>km_driven</th>\n",
       "      <th>mileage</th>\n",
       "      <th>engine</th>\n",
       "      <th>max_power</th>\n",
       "      <th>age</th>\n",
       "      <th>make</th>\n",
       "      <th>model</th>\n",
       "      <th>Individual</th>\n",
       "      <th>Trustmark Dealer</th>\n",
       "      <th>Diesel</th>\n",
       "      <th>Electric</th>\n",
       "      <th>LPG</th>\n",
       "      <th>Petrol</th>\n",
       "      <th>Manual</th>\n",
       "      <th>5</th>\n",
       "      <th>&gt;5</th>\n",
       "    </tr>\n",
       "  </thead>\n",
       "  <tbody>\n",
       "    <tr>\n",
       "      <th>0</th>\n",
       "      <td>-1.111046</td>\n",
       "      <td>-0.801317</td>\n",
       "      <td>1.195828</td>\n",
       "      <td>0.045745</td>\n",
       "      <td>-1.310754</td>\n",
       "      <td>-1.157780</td>\n",
       "      <td>0.801317</td>\n",
       "      <td>-0.433854</td>\n",
       "      <td>-1.125683</td>\n",
       "      <td>1.248892</td>\n",
       "      <td>-0.098382</td>\n",
       "      <td>-0.985275</td>\n",
       "      <td>-0.020095</td>\n",
       "      <td>-0.056917</td>\n",
       "      <td>1.024622</td>\n",
       "      <td>0.495818</td>\n",
       "      <td>0.444503</td>\n",
       "      <td>-0.424728</td>\n",
       "    </tr>\n",
       "    <tr>\n",
       "      <th>1</th>\n",
       "      <td>-0.223944</td>\n",
       "      <td>0.450030</td>\n",
       "      <td>-0.737872</td>\n",
       "      <td>-0.140402</td>\n",
       "      <td>-0.537456</td>\n",
       "      <td>-0.360203</td>\n",
       "      <td>-0.450030</td>\n",
       "      <td>-0.327501</td>\n",
       "      <td>-0.333227</td>\n",
       "      <td>1.248892</td>\n",
       "      <td>-0.098382</td>\n",
       "      <td>-0.985275</td>\n",
       "      <td>-0.020095</td>\n",
       "      <td>-0.056917</td>\n",
       "      <td>1.024622</td>\n",
       "      <td>0.495818</td>\n",
       "      <td>0.444503</td>\n",
       "      <td>-0.424728</td>\n",
       "    </tr>\n",
       "    <tr>\n",
       "      <th>2</th>\n",
       "      <td>-0.915058</td>\n",
       "      <td>-1.426990</td>\n",
       "      <td>0.035608</td>\n",
       "      <td>-0.582501</td>\n",
       "      <td>-0.537456</td>\n",
       "      <td>-0.404885</td>\n",
       "      <td>1.426990</td>\n",
       "      <td>-0.327501</td>\n",
       "      <td>-0.789807</td>\n",
       "      <td>1.248892</td>\n",
       "      <td>-0.098382</td>\n",
       "      <td>-0.985275</td>\n",
       "      <td>-0.020095</td>\n",
       "      <td>-0.056917</td>\n",
       "      <td>1.024622</td>\n",
       "      <td>0.495818</td>\n",
       "      <td>0.444503</td>\n",
       "      <td>-0.424728</td>\n",
       "    </tr>\n",
       "    <tr>\n",
       "      <th>3</th>\n",
       "      <td>-0.892365</td>\n",
       "      <td>-0.801317</td>\n",
       "      <td>-0.409143</td>\n",
       "      <td>0.329620</td>\n",
       "      <td>-0.921213</td>\n",
       "      <td>-0.693085</td>\n",
       "      <td>0.801317</td>\n",
       "      <td>-0.433854</td>\n",
       "      <td>-0.905265</td>\n",
       "      <td>1.248892</td>\n",
       "      <td>-0.098382</td>\n",
       "      <td>-0.985275</td>\n",
       "      <td>-0.020095</td>\n",
       "      <td>-0.056917</td>\n",
       "      <td>1.024622</td>\n",
       "      <td>0.495818</td>\n",
       "      <td>0.444503</td>\n",
       "      <td>-0.424728</td>\n",
       "    </tr>\n",
       "    <tr>\n",
       "      <th>4</th>\n",
       "      <td>-0.182683</td>\n",
       "      <td>0.137194</td>\n",
       "      <td>-0.544502</td>\n",
       "      <td>0.760085</td>\n",
       "      <td>0.042999</td>\n",
       "      <td>0.010435</td>\n",
       "      <td>-0.137194</td>\n",
       "      <td>-0.246579</td>\n",
       "      <td>-0.013096</td>\n",
       "      <td>-0.800710</td>\n",
       "      <td>-0.098382</td>\n",
       "      <td>1.014945</td>\n",
       "      <td>-0.020095</td>\n",
       "      <td>-0.056917</td>\n",
       "      <td>-0.975970</td>\n",
       "      <td>0.495818</td>\n",
       "      <td>0.444503</td>\n",
       "      <td>-0.424728</td>\n",
       "    </tr>\n",
       "  </tbody>\n",
       "</table>\n",
       "</div>"
      ],
      "text/plain": [
       "   selling_price      year  km_driven   mileage    engine  max_power  \\\n",
       "0      -1.111046 -0.801317   1.195828  0.045745 -1.310754  -1.157780   \n",
       "1      -0.223944  0.450030  -0.737872 -0.140402 -0.537456  -0.360203   \n",
       "2      -0.915058 -1.426990   0.035608 -0.582501 -0.537456  -0.404885   \n",
       "3      -0.892365 -0.801317  -0.409143  0.329620 -0.921213  -0.693085   \n",
       "4      -0.182683  0.137194  -0.544502  0.760085  0.042999   0.010435   \n",
       "\n",
       "        age      make     model  Individual  Trustmark Dealer    Diesel  \\\n",
       "0  0.801317 -0.433854 -1.125683    1.248892         -0.098382 -0.985275   \n",
       "1 -0.450030 -0.327501 -0.333227    1.248892         -0.098382 -0.985275   \n",
       "2  1.426990 -0.327501 -0.789807    1.248892         -0.098382 -0.985275   \n",
       "3  0.801317 -0.433854 -0.905265    1.248892         -0.098382 -0.985275   \n",
       "4 -0.137194 -0.246579 -0.013096   -0.800710         -0.098382  1.014945   \n",
       "\n",
       "   Electric       LPG    Petrol    Manual         5        >5  \n",
       "0 -0.020095 -0.056917  1.024622  0.495818  0.444503 -0.424728  \n",
       "1 -0.020095 -0.056917  1.024622  0.495818  0.444503 -0.424728  \n",
       "2 -0.020095 -0.056917  1.024622  0.495818  0.444503 -0.424728  \n",
       "3 -0.020095 -0.056917  1.024622  0.495818  0.444503 -0.424728  \n",
       "4 -0.020095 -0.056917 -0.975970  0.495818  0.444503 -0.424728  "
      ]
     },
     "execution_count": 5,
     "metadata": {},
     "output_type": "execute_result"
    }
   ],
   "source": [
    "df.head()"
   ]
  },
  {
   "cell_type": "code",
   "execution_count": 6,
   "id": "9579e71f",
   "metadata": {},
   "outputs": [],
   "source": [
    "# Univariate \n",
    "X = df['max_power'].values\n",
    "\n",
    "# target\n",
    "Y = df['selling_price'].values"
   ]
  },
  {
   "cell_type": "code",
   "execution_count": null,
   "id": "3234ea9d",
   "metadata": {},
   "outputs": [],
   "source": []
  },
  {
   "cell_type": "code",
   "execution_count": 39,
   "id": "5dbe1634",
   "metadata": {},
   "outputs": [],
   "source": [
    "def hypothesis(x, weights):\n",
    "    '''\n",
    "    x : real input value (max power)\n",
    "    weights : list of w0 and w1\n",
    "    '''\n",
    "    y_hat = weights[0] + weights[1]*x\n",
    "    return y_hat"
   ]
  },
  {
   "cell_type": "code",
   "execution_count": 40,
   "id": "e69d5103",
   "metadata": {},
   "outputs": [
    {
     "data": {
      "text/plain": [
       "4.199999999999999"
      ]
     },
     "execution_count": 40,
     "metadata": {},
     "output_type": "execute_result"
    }
   ],
   "source": [
    "# 2.3\n",
    "hypothesis(2.3, [-5, 4])"
   ]
  },
  {
   "cell_type": "code",
   "execution_count": 41,
   "id": "ca1d3be6",
   "metadata": {},
   "outputs": [],
   "source": [
    "def error(X, Y, weights):\n",
    "    '''\n",
    "    X : input n data points\n",
    "    Y : target n data points\n",
    "    weights : list of w0 and w1\n",
    "    '''\n",
    "    n = X.shape[0]\n",
    "    total_err = 0.0\n",
    "    for i in range(n):\n",
    "        y_hat =hypothesis(X[i], weights)\n",
    "        total_err += (Y[i] - y_hat)**2\n",
    "        \n",
    "    return total_err/n"
   ]
  },
  {
   "cell_type": "code",
   "execution_count": 42,
   "id": "ba206aa4",
   "metadata": {},
   "outputs": [],
   "source": [
    "def gradient(X, Y, weights):\n",
    "    n = X.shape[0]\n",
    "    grad = np.zeros((2,))\n",
    "    \n",
    "    for i in range(n):\n",
    "        y_hat = hypothesis(X[i], weights)\n",
    "        \n",
    "        grad[0] += (y_hat - Y[i])\n",
    "        \n",
    "        grad[1] += ((y_hat - Y[i])*X[i])\n",
    "        \n",
    "    return 2*grad/n"
   ]
  },
  {
   "cell_type": "code",
   "execution_count": 58,
   "id": "feea6a37",
   "metadata": {},
   "outputs": [],
   "source": [
    "def gradient_descent(X, Y, max_itr = 50, learning_rate = 0.1):\n",
    "    # step 1 : init() randomly\n",
    "    \n",
    "    weights = np.random.randn(2)\n",
    "    error_list = []\n",
    "    \n",
    "    # step 2 repeate until convergence\n",
    "    for i in range(max_itr):\n",
    "        \n",
    "        e = error(X, Y, weights)\n",
    "        error_list.append(e)\n",
    "        \n",
    "        grad = gradient(X, Y, weights)\n",
    "        \n",
    "        weights[0] = weights[0] - learning_rate*grad[0]\n",
    "        weights[1] = weights[1] - learning_rate*grad[1]\n",
    "        \n",
    "    \n",
    "    return weights, error_list"
   ]
  },
  {
   "cell_type": "code",
   "execution_count": 59,
   "id": "91e4b847",
   "metadata": {},
   "outputs": [],
   "source": [
    "opt_weights, error_list = gradient_descent(X, Y)"
   ]
  },
  {
   "cell_type": "code",
   "execution_count": 60,
   "id": "372855c6",
   "metadata": {},
   "outputs": [
    {
     "data": {
      "text/plain": [
       "array([0.  , 0.77])"
      ]
     },
     "execution_count": 60,
     "metadata": {},
     "output_type": "execute_result"
    }
   ],
   "source": [
    "opt_weights.round(3)"
   ]
  },
  {
   "cell_type": "code",
   "execution_count": 61,
   "id": "6f400af5",
   "metadata": {},
   "outputs": [
    {
     "data": {
      "text/plain": [
       "[<matplotlib.lines.Line2D at 0x7fa3617639d0>]"
      ]
     },
     "execution_count": 61,
     "metadata": {},
     "output_type": "execute_result"
    },
    {
     "data": {
      "image/png": "[encoded data removed]",
      "text/plain": [
       "<Figure size 432x288 with 1 Axes>"
      ]
     },
     "metadata": {
      "needs_background": "light"
     },
     "output_type": "display_data"
    }
   ],
   "source": [
    "plt.plot(error_list)"
   ]
  },
  {
   "cell_type": "code",
   "execution_count": 62,
   "id": "134598c1",
   "metadata": {},
   "outputs": [
    {
     "data": {
      "text/plain": [
       "array([-1.15777962, -0.36020313, -0.40488529, ...,  0.12057687,\n",
       "        0.93557939,  0.43513924])"
      ]
     },
     "execution_count": 62,
     "metadata": {},
     "output_type": "execute_result"
    }
   ],
   "source": [
    "X"
   ]
  },
  {
   "cell_type": "code",
   "execution_count": 63,
   "id": "db4cfb82",
   "metadata": {},
   "outputs": [
    {
     "data": {
      "text/plain": [
       "-1.1577796160522869"
      ]
     },
     "execution_count": 63,
     "metadata": {},
     "output_type": "execute_result"
    }
   ],
   "source": [
    "X[0]"
   ]
  },
  {
   "cell_type": "code",
   "execution_count": 67,
   "id": "6ec115ee",
   "metadata": {},
   "outputs": [
    {
     "data": {
      "text/plain": [
       "-0.8918916441716114"
      ]
     },
     "execution_count": 67,
     "metadata": {},
     "output_type": "execute_result"
    }
   ],
   "source": [
    "# prediction\n",
    "hypothesis(X[0], opt_weights)"
   ]
  },
  {
   "cell_type": "code",
   "execution_count": null,
   "id": "c5c3a634",
   "metadata": {},
   "outputs": [],
   "source": []
  },
  {
   "cell_type": "markdown",
   "id": "1d7ea0ca",
   "metadata": {},
   "source": [
    "## Avijit's Attempt !"
   ]
  },
  {
   "cell_type": "code",
   "execution_count": 37,
   "id": "d3485b39",
   "metadata": {},
   "outputs": [],
   "source": [
    "def hypothesis(x,weights):\n",
    "    return weights[0] + weights[1]*x\n",
    "\n",
    "def error(X,Y,weights):\n",
    "    total_error=0\n",
    "    for i in range(len(X)):\n",
    "        total_error+=(hypothesis(X[i],weights)-Y[i])**2\n",
    "    return total_error/len(X)\n",
    "\n",
    "def gradient(X,Y,weights):\n",
    "    gradients=np.array([0,0])\n",
    "    \n",
    "    for i in range(len(X)):\n",
    "        y_hat=hypothesis(X[i],weights)\n",
    "        gradients[0]+=(y_hat-Y[i])\n",
    "        gradients[1]+=(y_hat-Y[i])*X[i]\n",
    "        \n",
    "    return 2*gradients/len(X)\n",
    "\n",
    "def gradient_descent(X,Y,n_iter,learning_rate):\n",
    "    weights=[0,0]\n",
    "    errors=[]\n",
    "    errors.append(error(X,Y,weights))\n",
    "    \n",
    "    for i in range(n_iter):\n",
    "        gradients=gradient(X,Y,weights)\n",
    "        weights[0]=weights[0]-(learning_rate*gradients[0])\n",
    "        weights[1]=weights[1]-(learning_rate*gradients[1])\n",
    "        errors.append(error(X,Y,weights))\n",
    "        \n",
    "    return weights,errors"
   ]
  },
  {
   "cell_type": "code",
   "execution_count": 43,
   "id": "4cb3e1d1",
   "metadata": {},
   "outputs": [
    {
     "data": {
      "text/plain": [
       "[<matplotlib.lines.Line2D at 0x23759b54700>]"
      ]
     },
     "execution_count": 43,
     "metadata": {},
     "output_type": "execute_result"
    },
    {
     "data": {
      "image/png": "[encoded data removed]",
      "text/plain": [
       "<Figure size 432x288 with 1 Axes>"
      ]
     },
     "metadata": {
      "needs_background": "light"
     },
     "output_type": "display_data"
    }
   ],
   "source": [
    "n_iter=50\n",
    "learning_rate=0.1\n",
    "weights,errors=gradient_descent(X,Y,n_iter,learning_rate)\n",
    "plt.plot(range(n_iter+1),errors)"
   ]
  },
  {
   "cell_type": "code",
   "execution_count": null,
   "id": "72e92615",
   "metadata": {},
   "outputs": [],
   "source": []
  },
  {
   "cell_type": "code",
   "execution_count": null,
   "id": "da9d3359",
   "metadata": {},
   "outputs": [],
   "source": [
    "def hypothesis(x, weights):\n",
    "    '''\n",
    "    x : real input value (max power)\n",
    "    weights : list of w0 and w1\n",
    "    '''\n",
    "    y_hat = weights[0] + weights[1]*x\n",
    "    return y_hat"
   ]
  },
  {
   "cell_type": "code",
   "execution_count": null,
   "id": "645fb0e4",
   "metadata": {},
   "outputs": [],
   "source": [
    "def error(X, Y, weights):\n",
    "    '''\n",
    "    X : input n data points\n",
    "    Y : target n data points\n",
    "    weights : list of w0 and w1\n",
    "    '''\n",
    "    n = X.shape[0]\n",
    "    total_err = 0.0\n",
    "    for i in range(n):\n",
    "        y_hat =hypothesis(X[i], weights)\n",
    "        total_err += (Y[i] - y_hat)**2\n",
    "        \n",
    "    return total_err/n"
   ]
  },
  {
   "cell_type": "code",
   "execution_count": null,
   "id": "174df97b",
   "metadata": {},
   "outputs": [],
   "source": [
    "def gradient(X, Y, weights):\n",
    "    n = X.shape[0]\n",
    "    grad = np.zeros((2,))\n",
    "    \n",
    "    for i in range(n):\n",
    "        y_hat = hypothesis(X[i], weights)\n",
    "        \n",
    "        grad[0] += (y_hat - Y[i])\n",
    "        \n",
    "        grad[1] += ((y_hat - Y[i])*X[i])\n",
    "        \n",
    "    return 2*grad/n"
   ]
  },
  {
   "cell_type": "code",
   "execution_count": null,
   "id": "e6b376b9",
   "metadata": {},
   "outputs": [],
   "source": [
    "def gradient_descent(X, Y, max_itr = 50, learning_rate = 0.1):\n",
    "    # step 1 : init() randomly\n",
    "    \n",
    "    weights = np.random.randn(2)\n",
    "    error_list = []\n",
    "    \n",
    "    # step 2 repeate until convergence\n",
    "    for i in range(max_itr):\n",
    "        \n",
    "        e = error(X, Y, weights)\n",
    "        error_list.append(e)\n",
    "        \n",
    "        grad = gradient(X, Y, weights)\n",
    "        \n",
    "        weights[0] = weights[0] - learning_rate*grad[0]\n",
    "        weights[1] = weights[1] - learning_rate*grad[1]\n",
    "        \n",
    "    \n",
    "    return weights, error_list"
   ]
  },
  {
   "cell_type": "code",
   "execution_count": null,
   "id": "969337f1",
   "metadata": {},
   "outputs": [],
   "source": []
  }
 ],
 "metadata": {
  "kernelspec": {
   "display_name": "Python 3 (ipykernel)",
   "language": "python",
   "name": "python3"
  },
  "language_info": {
   "codemirror_mode": {
    "name": "ipython",
    "version": 3
   },
   "file_extension": ".py",
   "mimetype": "text/x-python",
   "name": "python",
   "nbconvert_exporter": "python",
   "pygments_lexer": "ipython3",
   "version": "3.9.7"
  }
 },
 "nbformat": 4,
 "nbformat_minor": 5
}
